{
 "cells": [
  {
   "cell_type": "code",
   "execution_count": 5,
   "metadata": {},
   "outputs": [
    {
     "name": "stdout",
     "output_type": "stream",
     "text": [
      "Ultralytics YOLOv8.2.46 🚀 Python-3.12.4 torch-2.3.1+cu121 CUDA:0 (NVIDIA A100-SXM4-80GB, 81051MiB)\n",
      "YOLOv8x-obb summary (fused): 287 layers, 69451017 parameters, 0 gradients, 263.2 GFLOPs\n"
     ]
    },
    {
     "name": "stderr",
     "output_type": "stream",
     "text": [
      "\u001b[34m\u001b[1mval: \u001b[0mScanning /home/rishabh.mondal/Brick-Kilns-project/albk_rishabh/albk_v2/YOLO_LOCALIZATION/processed_data/amedabad_10_km_buffer_data/labels... 86 images, 1408 backgrounds, 0 corrupt: 100%|██████████| 1494/1494 [00:02<00:00, 722.79it/s]\n"
     ]
    },
    {
     "name": "stdout",
     "output_type": "stream",
     "text": [
      "\u001b[34m\u001b[1mval: \u001b[0mNew cache created: /home/rishabh.mondal/Brick-Kilns-project/albk_rishabh/albk_v2/YOLO_LOCALIZATION/processed_data/amedabad_10_km_buffer_data/labels.cache\n"
     ]
    },
    {
     "name": "stderr",
     "output_type": "stream",
     "text": [
      "                 Class     Images  Instances      Box(P          R      mAP50  mAP50-95): 100%|██████████| 94/94 [01:00<00:00,  1.56it/s]\n"
     ]
    },
    {
     "name": "stdout",
     "output_type": "stream",
     "text": [
      "                   all       1494        173      0.368       0.68      0.295      0.245\n",
      "                  FCBK         86        172      0.729       0.36      0.555      0.461\n",
      "                Zigzag          1          1    0.00709          1     0.0355     0.0284\n",
      "Speed: 0.6ms preprocess, 34.0ms inference, 0.0ms loss, 2.0ms postprocess per image\n",
      "Results saved to \u001b[1mruns/obb/val3\u001b[0m\n"
     ]
    }
   ],
   "source": [
    "from ultralytics import YOLO\n",
    "\n",
    "# Load a model\n",
    "model = YOLO(\"/home/rishabh.mondal/Brick-Kilns-project/albk_rishabh/albk_v2/YOLO_LOCALIZATION/runs/multi_state_80_train_20_test_obb_v1_yolov8x-obb.pt_1120_1002/weights/best.pt\")\n",
    "data=\"/home/rishabh.mondal/Brick-Kilns-project/albk_rishabh/albk_v2/YOLO_LOCALIZATION/obb_val_sh.yaml\"\n",
    "# Customize validation settings\n",
    "validation_results = model.val(data=data, imgsz=1120, batch=16, conf=0.25, iou=0.5, device=\"0\")"
   ]
  },
  {
   "cell_type": "code",
   "execution_count": null,
   "metadata": {},
   "outputs": [],
   "source": [
    "# Load a model\n",
    "model = YOLO(\"/home/rishabh.mondal/Brick-Kilns-project/albk_rishabh/albk_v2/YOLO_LOCALIZATION/runs/multi_state_80_train_20_test_obb_v1_yolov8x-obb.pt_1120_1002/weights/best.pt\")\n",
    "data=\"/home/rishabh.mondal/Brick-Kilns-project/albk_rishabh/albk_v2/YOLO_LOCALIZATION/obb_val_sh.yaml\"\n",
    "# Customize validation settings\n",
    "validation_results = model.val(data=data, imgsz=1120, batch=16, conf=0.25, iou=0.5, device=\"0\")"
   ]
  },
  {
   "cell_type": "code",
   "execution_count": 6,
   "metadata": {},
   "outputs": [
    {
     "name": "stdout",
     "output_type": "stream",
     "text": [
      "rt-detr-x summary: 871 layers, 67307562 parameters, 0 gradients, 232.3 GFLOPs\n",
      "Ultralytics YOLOv8.2.46 🚀 Python-3.12.4 torch-2.3.1+cu121 CUDA:0 (NVIDIA A100-SXM4-80GB, 81051MiB)\n",
      "rt-detr-x summary: 642 layers, 65471546 parameters, 0 gradients, 222.5 GFLOPs\n"
     ]
    },
    {
     "name": "stderr",
     "output_type": "stream",
     "text": [
      "\u001b[34m\u001b[1mval: \u001b[0mScanning /home/rishabh.mondal/Brick-Kilns-project/albk_rishabh/albk_v2/YOLO_LOCALIZATION/processed_data/amedabad_10_km_buffer_data/labels.cache... 86 images, 1408 backgrounds, 0 corrupt: 100%|██████████| 1494/1494 [00:00<?, ?it/s]\n",
      "                 Class     Images  Instances      Box(P          R      mAP50  mAP50-95): 100%|██████████| 94/94 [01:12<00:00,  1.30it/s]\n"
     ]
    },
    {
     "name": "stdout",
     "output_type": "stream",
     "text": [
      "                   all       1494        173      0.395      0.654      0.178     0.0883\n",
      "                  FCBK         86        172      0.776      0.308      0.308      0.148\n",
      "                Zigzag          1          1     0.0136          1     0.0474     0.0284\n",
      "Speed: 0.6ms preprocess, 37.5ms inference, 0.0ms loss, 0.2ms postprocess per image\n",
      "Results saved to \u001b[1mruns/detect/val\u001b[0m\n"
     ]
    }
   ],
   "source": [
    "from ultralytics import RTDETR\n",
    "\n",
    "# Load a COCO-pretrained RT-DETR-l model\n",
    "model = RTDETR(\"/home/rishabh.mondal/Brick-Kilns-project/albk_rishabh/albk_v2/YOLO_LOCALIZATION/runs/multi_state_80_train_20_test_aa_v1_rtdetr-x.pt_1120_100/weights/best.pt\")\n",
    "\n",
    "# Display model information (optional)\n",
    "model.info()\n",
    "\n",
    "validation_results = model.val(data=data, imgsz=1120, batch=16, conf=0.25, iou=0.5, device=\"0\")"
   ]
  },
  {
   "cell_type": "code",
   "execution_count": null,
   "metadata": {},
   "outputs": [],
   "source": []
  }
 ],
 "metadata": {
  "kernelspec": {
   "display_name": "rishabh_sat",
   "language": "python",
   "name": "python3"
  },
  "language_info": {
   "codemirror_mode": {
    "name": "ipython",
    "version": 3
   },
   "file_extension": ".py",
   "mimetype": "text/x-python",
   "name": "python",
   "nbconvert_exporter": "python",
   "pygments_lexer": "ipython3",
   "version": "3.12.4"
  }
 },
 "nbformat": 4,
 "nbformat_minor": 2
}
