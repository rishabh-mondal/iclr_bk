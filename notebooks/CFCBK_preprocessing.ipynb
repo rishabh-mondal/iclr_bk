{
 "cells": [
  {
   "cell_type": "code",
   "execution_count": 1,
   "metadata": {},
   "outputs": [],
   "source": [
    "import os\n",
    "import shutil"
   ]
  },
  {
   "cell_type": "code",
   "execution_count": 4,
   "metadata": {},
   "outputs": [
    {
     "name": "stdout",
     "output_type": "stream",
     "text": [
      "Count of 0:  0\n",
      "Count of 1:  0\n",
      "Count of 2:  505\n"
     ]
    }
   ],
   "source": [
    "count_zero = 0\n",
    "count_one = 0\n",
    "count_two=0\n",
    "data = \"/home/rishabh.mondal/Brick-Kilns-project/albk_rishabh/albk_v2/YOLO_LOCALIZATION/processed_data/multi_state_v1_labels_with_cfcbk/labels/\"\n",
    "for filename in os.listdir(data):\n",
    "    if filename.endswith('.txt'):\n",
    "        with open(data+filename,'r') as f:\n",
    "            for line in f:\n",
    "                values = line.split()\n",
    "                if values[0] == '0':\n",
    "                    count_zero += 1\n",
    "                elif values[0] == '1':\n",
    "                    count_one += 1\n",
    "                elif values[0] == '2':\n",
    "                    count_two +=1\n",
    "                else:\n",
    "                    print(\"Error\")\n",
    "\n",
    "print(\"Count of 0: \", count_zero)\n",
    "\n",
    "print(\"Count of 1: \", count_one)\n",
    "\n",
    "print(\"Count of 2: \", count_two)"
   ]
  },
  {
   "cell_type": "code",
   "execution_count": 3,
   "metadata": {},
   "outputs": [
    {
     "name": "stdout",
     "output_type": "stream",
     "text": [
      "Count of 0:  3430\n",
      "Count of 1:  1\n",
      "Count of 2:  505\n"
     ]
    }
   ],
   "source": [
    "\n",
    "\n",
    "# Path to the directory containing the label files\n",
    "# data = \"/home/rishabh.mondal/Brick-Kilns-project/albk_rishabh/albk_v2/YOLO_LOCALIZATION/predict/train_amedabad_test_lucknow_sarath_grid_obb_v1__1120_100/images/labels\"\n",
    "\n",
    "# Path to the new directory for files with '2' in the first column\n",
    "new_directory = \"/home/rishabh.mondal/Brick-Kilns-project/albk_rishabh/albk_v2/YOLO_LOCALIZATION/processed_data/lucknow_labels_with_multi_state_v1/labels\"\n",
    "os.makedirs(new_directory, exist_ok=True)\n",
    "\n",
    "count_zero = 0\n",
    "count_one = 0\n",
    "count_two = 0\n",
    "\n",
    "# Process each file in the directory\n",
    "for filename in os.listdir(data):\n",
    "    if filename.endswith('.txt'):\n",
    "        file_path = os.path.join(data, filename)\n",
    "        with open(file_path, 'r') as f:\n",
    "            for line in f:\n",
    "                values = line.split()\n",
    "                if values[0] == '0':\n",
    "                    count_zero += 1\n",
    "                elif values[0] == '1':\n",
    "                    count_one += 1\n",
    "                elif values[0] == '2':\n",
    "                    count_two += 1\n",
    "                    shutil.copy(file_path, os.path.join(new_directory, filename))\n",
    "                  \n",
    "                else:\n",
    "                    print(\"Error in file:\", filename)\n",
    "\n",
    "# Print the counts\n",
    "print(\"Count of 0: \", count_zero)\n",
    "print(\"Count of 1: \", count_one)\n",
    "print(\"Count of 2: \", count_two)"
   ]
  },
  {
   "cell_type": "code",
   "execution_count": 4,
   "metadata": {},
   "outputs": [
    {
     "name": "stdout",
     "output_type": "stream",
     "text": [
      "Count of 0:  3430\n",
      "Count of 1:  1\n",
      "Count of 2:  505\n"
     ]
    }
   ],
   "source": [
    "import os\n",
    "import shutil\n",
    "\n",
    "# Path to the directory containing the label files\n",
    "# data = \"/home/rishabh.mondal/Brick-Kilns-project/albk_rishabh/albk_v2/YOLO_LOCALIZATION/runs/obb/train_amedabad_circle_test_lucknow_sarath_grid_obb_v1_best.pt_1120_100/labels/\"\n",
    "\n",
    "# Path to the new directory for files with '2' in the first column\n",
    "new_directory = \"/home/rishabh.mondal/Brick-Kilns-project/albk_rishabh/albk_v2/YOLO_LOCALIZATION/processed_data/multi_state_v1_labels_with_cfcbk/\"\n",
    "os.makedirs(new_directory, exist_ok=True)\n",
    "\n",
    "count_zero = 0\n",
    "count_one = 0\n",
    "count_two = 0\n",
    "\n",
    "# Process each file in the directory\n",
    "for filename in os.listdir(data):\n",
    "    if filename.endswith('.txt'):\n",
    "        file_path = os.path.join(data, filename)\n",
    "        new_file_path = os.path.join(new_directory, filename)\n",
    "\n",
    "        # List to store lines where values[0] == '2'\n",
    "        valid_lines = []\n",
    "\n",
    "        with open(file_path, 'r') as f:\n",
    "            for line in f:\n",
    "                values = line.split()\n",
    "                if values[0] == '0':\n",
    "                    count_zero += 1\n",
    "                elif values[0] == '1':\n",
    "                    count_one += 1\n",
    "                elif values[0] == '2':\n",
    "                    count_two += 1\n",
    "                    valid_lines.append(line)  # Keep only lines where values[0] == '2'\n",
    "                else:\n",
    "                    print(\"Error in file:\", filename)\n",
    "\n",
    "        if valid_lines:\n",
    "            with open(new_file_path, 'w') as new_file:\n",
    "                new_file.writelines(valid_lines)\n",
    "\n",
    "# Print the counts\n",
    "print(\"Count of 0: \", count_zero)\n",
    "print(\"Count of 1: \", count_one)\n",
    "print(\"Count of 2: \", count_two)"
   ]
  },
  {
   "cell_type": "code",
   "execution_count": 10,
   "metadata": {},
   "outputs": [
    {
     "name": "stdout",
     "output_type": "stream",
     "text": [
      "['26.62,82.52.txt', '27.38,79.61.txt', '25.34,81.82.txt', '27.21,79.31.txt', '26.14,80.18.txt', '25.25,81.97.txt', '25.80,80.76.txt', '27.70,78.98.txt', '26.61,85.66.txt', '24.52,84.09.txt', '27.06,83.48.txt', '25.39,81.32.txt', '28.40,79.35.txt', '28.22,79.15.txt', '27.72,78.93.txt', '26.14,80.16.txt', '26.23,79.78.txt', '26.69,79.57.txt', '25.49,81.96.txt', '22.98,88.41.txt', '26.91,80.24.txt', '28.08,78.12.txt', '28.03,80.40.txt', '28.32,79.50.txt', '28.31,79.51.txt', '27.82,78.37.txt', '28.49,79.57.txt', '27.15,81.24.txt', '27.74,77.82.txt', '26.62,80.45.txt', '27.13,83.54.txt', '26.44,81.74.txt', '25.36,83.18.txt', '25.42,82.03.txt', '25.78,80.63.txt', '27.36,79.59.txt', '26.21,79.79.txt', '27.97,78.14.txt', '28.80,78.69.txt', '26.20,79.83.txt', '25.89,80.59.txt', '26.43,79.68.txt', '26.20,79.82.txt', '27.54,78.42.txt', '26.54,80.43.txt', '26.43,80.15.txt', '27.78,77.72.txt', '25.39,82.34.txt', '25.68,85.41.txt', '27.46,79.17.txt', '27.86,78.42.txt', '25.49,81.47.txt', '26.96,78.82.txt', '26.57,82.91.txt', '28.37,79.84.txt', '27.91,80.79.txt', '28.18,77.56.txt', '25.52,81.59.txt', '25.26,82.14.txt', '27.60,78.01.txt', '25.81,80.73.txt', '26.51,82.54.txt', '25.75,81.08.txt', '27.39,79.61.txt', '27.98,78.18.txt', '25.86,80.69.txt', '27.12,79.67.txt', '25.39,85.18.txt', '26.21,80.00.txt', '26.84,83.45.txt', '21.94,87.26.txt', '27.59,78.73.txt', '26.30,80.49.txt', '25.44,83.39.txt', '26.77,80.09.txt', '25.83,80.59.txt', '25.26,85.41.txt', '28.23,79.62.txt', '27.63,78.27.txt', '27.09,82.27.txt', '27.63,77.89.txt', '25.81,80.76.txt', '24.77,84.32.txt', '28.43,78.37.txt', '27.87,78.34.txt', '28.24,79.16.txt', '26.39,81.68.txt', '25.63,81.15.txt', '26.32,80.28.txt', '28.04,79.23.txt', '26.75,79.06.txt', '27.21,80.27.txt', '26.64,79.20.txt', '27.63,78.26.txt', '27.63,78.01.txt', '27.85,78.38.txt', '26.73,78.96.txt', '23.22,87.75.txt', '27.86,77.74.txt', '25.37,82.75.txt', '28.71,79.34.txt', '25.29,81.83.txt', '25.43,81.66.txt', '25.36,81.83.txt', '25.15,82.70.txt', '27.39,79.60.txt', '26.32,80.38.txt', '28.49,79.24.txt', '22.74,88.47.txt', '26.62,80.63.txt', '25.40,81.24.txt', '26.17,80.55.txt', '28.03,78.06.txt', '27.28,79.97.txt', '25.53,81.58.txt', '25.79,80.63.txt', '25.33,82.78.txt', '28.57,79.38.txt', '25.27,82.51.txt', '28.25,79.45.txt', '27.86,77.67.txt', '27.78,77.78.txt', '25.85,80.70.txt', '25.17,82.96.txt', '28.32,79.74.txt', '26.83,80.06.txt', '25.19,82.88.txt', '28.74,79.32.txt', '25.87,80.94.txt', '25.85,80.64.txt', '25.42,82.04.txt', '26.60,79.39.txt', '27.64,77.93.txt', '27.63,79.54.txt', '26.91,78.44.txt', '27.04,79.90.txt', '25.56,82.37.txt', '26.12,80.16.txt', '27.81,77.71.txt', '23.72,87.06.txt', '26.02,80.43.txt', '27.03,80.94.txt', '27.89,79.29.txt', '26.34,80.39.txt', '27.06,79.86.txt', '26.68,82.87.txt', '27.84,78.32.txt', '28.01,78.46.txt', '26.36,80.31.txt', '26.36,80.39.txt', '27.85,78.32.txt', '26.26,79.75.txt', '25.49,82.07.txt', '25.35,81.86.txt', '27.83,78.39.txt', '28.61,79.14.txt', '26.63,79.22.txt', '25.65,82.18.txt', '28.57,79.39.txt', '27.12,79.28.txt', '26.63,82.16.txt', '27.55,78.26.txt', '27.89,77.70.txt', '27.76,78.87.txt', '25.76,81.08.txt', '27.03,79.90.txt', '25.53,81.57.txt', '26.36,80.33.txt', '25.43,81.67.txt', '24.74,84.01.txt', '26.58,85.45.txt', '25.50,83.21.txt', '25.65,81.11.txt', '28.30,78.48.txt', '25.40,82.07.txt', '28.85,79.24.txt', '26.77,79.52.txt', '27.63,78.13.txt', '26.95,82.65.txt', '28.64,79.08.txt', '27.94,80.19.txt', '27.33,79.18.txt', '26.66,79.18.txt', '26.50,83.11.txt', '26.44,81.72.txt', '26.66,79.19.txt', '27.01,79.96.txt', '27.88,77.74.txt', '26.44,80.55.txt', '25.69,81.33.txt', '26.46,80.52.txt', '27.29,79.97.txt', '28.22,79.53.txt', '26.55,80.43.txt', '27.85,78.36.txt', '26.62,80.21.txt', '27.82,78.36.txt', '26.67,79.19.txt', '27.90,78.34.txt', '28.74,79.71.txt', '25.01,83.17.txt', '26.90,78.46.txt', '26.33,80.28.txt', '28.34,79.59.txt', '25.89,80.60.txt', '27.42,79.28.txt', '27.64,77.91.txt', '25.36,81.56.txt', '28.32,79.52.txt', '24.90,85.58.txt', '27.09,82.28.txt', '25.85,81.12.txt', '28.63,79.86.txt', '27.76,78.80.txt', '25.86,83.75.txt', '24.87,84.09.txt', '26.36,79.71.txt', '26.16,80.15.txt', '25.91,81.97.txt', '26.49,83.11.txt', '26.88,80.30.txt', '27.83,78.33.txt', '27.50,79.50.txt', '25.46,82.07.txt', '26.91,78.47.txt', '25.47,84.83.txt', '28.76,79.38.txt', '25.42,83.24.txt', '25.72,81.07.txt', '25.72,81.02.txt', '25.91,81.18.txt', '26.40,81.67.txt', '25.43,81.68.txt', '25.85,80.66.txt', '27.84,78.36.txt', '27.78,78.15.txt', '26.12,80.22.txt', '21.86,87.26.txt', '26.03,83.49.txt', '26.26,80.03.txt', '26.11,80.40.txt', '27.35,78.91.txt', '25.50,81.94.txt', '25.49,81.65.txt', '25.99,82.61.txt', '27.75,78.91.txt', '27.90,77.57.txt', '27.84,77.67.txt', '28.17,78.82.txt', '26.92,78.43.txt', '26.93,82.61.txt', '27.95,77.57.txt', '25.71,81.33.txt', '26.62,82.51.txt', '28.28,79.57.txt', '26.34,80.34.txt', '28.07,79.11.txt', '27.62,78.04.txt', '26.53,79.38.txt', '26.62,82.95.txt', '26.96,81.94.txt', '27.87,77.74.txt', '26.23,79.77.txt', '28.21,79.15.txt', '25.43,82.15.txt', '22.86,88.41.txt', '26.74,83.57.txt', '26.14,80.17.txt', '27.52,79.22.txt', '27.81,78.24.txt', '27.79,77.72.txt', '25.32,81.85.txt', '27.17,79.00.txt', '27.19,83.78.txt', '25.17,82.97.txt', '26.92,78.42.txt', '28.04,79.24.txt', '26.26,79.78.txt', '28.46,79.12.txt', '26.63,80.63.txt', '27.90,77.66.txt', '26.83,80.05.txt', '25.35,81.85.txt', '27.89,78.34.txt', '22.91,88.47.txt', '27.49,78.55.txt', '26.40,81.55.txt', '26.68,80.83.txt', '26.49,79.69.txt', '25.01,83.16.txt', '26.53,79.88.txt', '25.43,81.22.txt', '27.92,80.82.txt', '26.90,78.36.txt', '27.89,78.35.txt', '26.68,80.19.txt', '25.20,82.59.txt', '27.16,79.51.txt', '26.42,81.93.txt', '26.76,83.65.txt', '27.81,77.72.txt', '26.68,83.30.txt', '26.48,80.51.txt', '27.52,79.23.txt', '26.65,83.16.txt', '27.91,80.83.txt', '27.34,79.62.txt', '27.75,80.23.txt', '25.90,80.80.txt', '26.34,80.46.txt', '25.45,81.70.txt', '28.81,79.42.txt', '26.63,80.20.txt', '27.78,77.73.txt', '25.21,82.60.txt', '28.23,79.15.txt', '27.85,78.31.txt', '25.43,81.64.txt', '27.76,78.79.txt', '26.65,82.70.txt', '28.34,79.50.txt', '25.41,82.36.txt', '27.76,78.81.txt', '25.28,85.13.txt', '27.00,78.88.txt', '27.96,78.25.txt', '26.58,79.44.txt', '27.85,77.75.txt', '26.67,83.24.txt', '26.62,80.62.txt', '26.92,79.91.txt', '25.51,82.13.txt', '28.01,79.05.txt', '27.16,81.72.txt', '27.83,77.64.txt', '27.90,77.56.txt', '27.06,83.47.txt', '28.07,79.12.txt', '25.20,83.04.txt', '27.53,79.44.txt', '27.19,83.77.txt', '26.51,80.46.txt', '31.46,75.97.txt', '27.78,77.74.txt', '27.98,77.81.txt', '27.88,77.75.txt', '26.85,82.66.txt', '21.89,87.26.txt', '26.91,83.03.txt', '25.62,82.41.txt', '27.88,78.34.txt', '26.80,78.97.txt', '27.06,78.53.txt', '27.53,78.01.txt', '25.44,81.64.txt', '28.27,78.42.txt', '25.14,83.54.txt', '26.69,80.84.txt', '29.29,78.58.txt', '27.62,79.13.txt', '26.77,79.05.txt', '27.15,80.39.txt', '26.51,80.45.txt', '27.12,81.99.txt', '22.95,88.37.txt', '25.86,81.14.txt', '25.77,82.17.txt', '26.35,79.84.txt', '26.93,78.42.txt', '26.36,80.30.txt', '27.75,78.87.txt', '26.04,80.56.txt', '27.63,78.51.txt', '27.72,78.94.txt', '27.81,78.85.txt', '26.85,80.33.txt', '26.17,79.78.txt', '27.77,77.73.txt', '27.77,78.19.txt', '28.08,77.84.txt', '27.11,80.12.txt', '25.87,84.05.txt', '25.61,83.22.txt', '27.85,81.48.txt', '25.87,80.65.txt', '25.62,81.31.txt', '27.92,78.32.txt', '27.75,78.88.txt', '26.93,78.40.txt', '25.84,83.65.txt', '27.32,79.17.txt', '25.24,81.96.txt', '25.21,82.61.txt', '26.10,80.42.txt', '26.22,80.29.txt', '25.88,82.76.txt', '26.91,80.25.txt', '25.36,81.57.txt', '25.44,81.65.txt', '27.89,77.83.txt', '21.92,87.26.txt', '26.17,79.99.txt', '27.21,78.42.txt', '27.86,78.35.txt', '26.24,79.77.txt', '26.78,81.11.txt', '26.70,82.48.txt', '28.50,79.38.txt', '27.50,79.49.txt']\n"
     ]
    },
    {
     "name": "stderr",
     "output_type": "stream",
     "text": [
      "Processing files:   0%|          | 1/409 [00:00<01:04,  6.28file/s]"
     ]
    },
    {
     "name": "stdout",
     "output_type": "stream",
     "text": [
      "26.62,82.52\n",
      "Looking for: /mnt/dataset/brick_kilns/raw_data/uttar_pradesh/26.62,82.52.png\n",
      "27.38,79.61\n",
      "Looking for: /mnt/dataset/brick_kilns/raw_data/uttar_pradesh/27.38,79.61.png\n"
     ]
    },
    {
     "name": "stderr",
     "output_type": "stream",
     "text": [
      "Processing files:   1%|          | 3/409 [00:00<00:42,  9.58file/s]"
     ]
    },
    {
     "name": "stdout",
     "output_type": "stream",
     "text": [
      "25.34,81.82\n",
      "Looking for: /mnt/dataset/brick_kilns/raw_data/uttar_pradesh/25.34,81.82.png\n",
      "27.21,79.31\n",
      "Looking for: /mnt/dataset/brick_kilns/raw_data/uttar_pradesh/27.21,79.31.png\n",
      "26.14,80.18\n",
      "Looking for: /mnt/dataset/brick_kilns/raw_data/uttar_pradesh/26.14,80.18.png\n"
     ]
    },
    {
     "name": "stderr",
     "output_type": "stream",
     "text": [
      "Processing files:   2%|▏         | 7/409 [00:00<00:36, 11.07file/s]"
     ]
    },
    {
     "name": "stdout",
     "output_type": "stream",
     "text": [
      "25.25,81.97\n",
      "Looking for: /mnt/dataset/brick_kilns/raw_data/uttar_pradesh/25.25,81.97.png\n",
      "25.80,80.76\n",
      "Looking for: /mnt/dataset/brick_kilns/raw_data/uttar_pradesh/25.80,80.76.png\n",
      "27.70,78.98\n",
      "Looking for: /mnt/dataset/brick_kilns/raw_data/uttar_pradesh/27.70,78.98.png\n"
     ]
    },
    {
     "name": "stderr",
     "output_type": "stream",
     "text": [
      "Processing files:   3%|▎         | 11/409 [00:00<00:26, 15.21file/s]"
     ]
    },
    {
     "name": "stdout",
     "output_type": "stream",
     "text": [
      "26.61,85.66\n",
      "Looking for: /mnt/dataset/brick_kilns/raw_data/uttar_pradesh/26.61,85.66.png\n",
      "Looking for: /home/rishabh.mondal/Brick-Kilns-project/albk_rishabh/albk_v2/YOLO_LOCALIZATION/png_data/bihar/26.61,85.66.png\n",
      "24.52,84.09\n",
      "Looking for: /mnt/dataset/brick_kilns/raw_data/uttar_pradesh/24.52,84.09.png\n",
      "Looking for: /home/rishabh.mondal/Brick-Kilns-project/albk_rishabh/albk_v2/YOLO_LOCALIZATION/png_data/bihar/24.52,84.09.png\n",
      "27.06,83.48\n",
      "Looking for: /mnt/dataset/brick_kilns/raw_data/uttar_pradesh/27.06,83.48.png\n",
      "25.39,81.32\n",
      "Looking for: /mnt/dataset/brick_kilns/raw_data/uttar_pradesh/25.39,81.32.png\n",
      "28.40,79.35\n",
      "Looking for: /mnt/dataset/brick_kilns/raw_data/uttar_pradesh/28.40,79.35.png\n"
     ]
    },
    {
     "name": "stderr",
     "output_type": "stream",
     "text": [
      "Processing files:   4%|▎         | 15/409 [00:01<00:28, 13.74file/s]"
     ]
    },
    {
     "name": "stdout",
     "output_type": "stream",
     "text": [
      "28.22,79.15\n",
      "Looking for: /mnt/dataset/brick_kilns/raw_data/uttar_pradesh/28.22,79.15.png\n",
      "27.72,78.93\n",
      "Looking for: /mnt/dataset/brick_kilns/raw_data/uttar_pradesh/27.72,78.93.png\n",
      "26.14,80.16\n",
      "Looking for: /mnt/dataset/brick_kilns/raw_data/uttar_pradesh/26.14,80.16.png\n"
     ]
    },
    {
     "name": "stderr",
     "output_type": "stream",
     "text": [
      "Processing files:   4%|▍         | 17/409 [00:01<00:28, 13.72file/s]"
     ]
    },
    {
     "name": "stdout",
     "output_type": "stream",
     "text": [
      "26.23,79.78\n",
      "Looking for: /mnt/dataset/brick_kilns/raw_data/uttar_pradesh/26.23,79.78.png\n",
      "26.69,79.57\n",
      "Looking for: /mnt/dataset/brick_kilns/raw_data/uttar_pradesh/26.69,79.57.png\n",
      "25.49,81.96\n",
      "Looking for: /mnt/dataset/brick_kilns/raw_data/uttar_pradesh/25.49,81.96.png\n"
     ]
    },
    {
     "name": "stderr",
     "output_type": "stream",
     "text": [
      "Processing files:   5%|▌         | 22/409 [00:01<00:25, 15.41file/s]"
     ]
    },
    {
     "name": "stdout",
     "output_type": "stream",
     "text": [
      "22.98,88.41\n",
      "Looking for: /mnt/dataset/brick_kilns/raw_data/uttar_pradesh/22.98,88.41.png\n",
      "Looking for: /home/rishabh.mondal/Brick-Kilns-project/albk_rishabh/albk_v2/YOLO_LOCALIZATION/png_data/bihar/22.98,88.41.png\n",
      "Looking for: /home/rishabh.mondal/Brick-Kilns-project/albk_rishabh/albk_v2/YOLO_LOCALIZATION/png_data/haryana/22.98,88.41.png\n",
      "Looking for: /home/rishabh.mondal/Brick-Kilns-project/albk_rishabh/albk_v2/YOLO_LOCALIZATION/png_data/punjab/22.98,88.41.png\n",
      "Looking for: /home/rishabh.mondal/Brick-Kilns-project/albk_rishabh/albk_v2/YOLO_LOCALIZATION/png_data/west_bengal/22.98,88.41.png\n",
      "26.91,80.24\n",
      "Looking for: /mnt/dataset/brick_kilns/raw_data/uttar_pradesh/26.91,80.24.png\n",
      "28.08,78.12\n",
      "Looking for: /mnt/dataset/brick_kilns/raw_data/uttar_pradesh/28.08,78.12.png\n",
      "28.03,80.40\n",
      "Looking for: /mnt/dataset/brick_kilns/raw_data/uttar_pradesh/28.03,80.40.png\n"
     ]
    },
    {
     "name": "stderr",
     "output_type": "stream",
     "text": [
      "Processing files:   6%|▌         | 24/409 [00:01<00:25, 15.04file/s]"
     ]
    },
    {
     "name": "stdout",
     "output_type": "stream",
     "text": [
      "28.32,79.50\n",
      "Looking for: /mnt/dataset/brick_kilns/raw_data/uttar_pradesh/28.32,79.50.png\n",
      "28.31,79.51\n",
      "Looking for: /mnt/dataset/brick_kilns/raw_data/uttar_pradesh/28.31,79.51.png\n",
      "27.82,78.37\n",
      "Looking for: /mnt/dataset/brick_kilns/raw_data/uttar_pradesh/27.82,78.37.png\n"
     ]
    },
    {
     "name": "stderr",
     "output_type": "stream",
     "text": [
      "Processing files:   7%|▋         | 28/409 [00:02<00:26, 14.31file/s]"
     ]
    },
    {
     "name": "stdout",
     "output_type": "stream",
     "text": [
      "28.49,79.57\n",
      "Looking for: /mnt/dataset/brick_kilns/raw_data/uttar_pradesh/28.49,79.57.png\n",
      "27.15,81.24\n",
      "Looking for: /mnt/dataset/brick_kilns/raw_data/uttar_pradesh/27.15,81.24.png\n",
      "27.74,77.82\n",
      "Looking for: /mnt/dataset/brick_kilns/raw_data/uttar_pradesh/27.74,77.82.png\n"
     ]
    },
    {
     "name": "stderr",
     "output_type": "stream",
     "text": [
      "Processing files:   7%|▋         | 30/409 [00:02<00:26, 14.13file/s]"
     ]
    },
    {
     "name": "stdout",
     "output_type": "stream",
     "text": [
      "26.62,80.45\n",
      "Looking for: /mnt/dataset/brick_kilns/raw_data/uttar_pradesh/26.62,80.45.png\n",
      "27.13,83.54\n",
      "Looking for: /mnt/dataset/brick_kilns/raw_data/uttar_pradesh/27.13,83.54.png\n",
      "26.44,81.74\n",
      "Looking for: /mnt/dataset/brick_kilns/raw_data/uttar_pradesh/26.44,81.74.png\n"
     ]
    },
    {
     "name": "stderr",
     "output_type": "stream",
     "text": [
      "Processing files:   8%|▊         | 34/409 [00:02<00:29, 12.69file/s]"
     ]
    },
    {
     "name": "stdout",
     "output_type": "stream",
     "text": [
      "25.36,83.18\n",
      "Looking for: /mnt/dataset/brick_kilns/raw_data/uttar_pradesh/25.36,83.18.png\n",
      "25.42,82.03\n",
      "Looking for: /mnt/dataset/brick_kilns/raw_data/uttar_pradesh/25.42,82.03.png\n",
      "25.78,80.63\n",
      "Looking for: /mnt/dataset/brick_kilns/raw_data/uttar_pradesh/25.78,80.63.png\n"
     ]
    },
    {
     "name": "stderr",
     "output_type": "stream",
     "text": [
      "Processing files:   9%|▉         | 36/409 [00:02<00:28, 12.99file/s]"
     ]
    },
    {
     "name": "stdout",
     "output_type": "stream",
     "text": [
      "27.36,79.59\n",
      "Looking for: /mnt/dataset/brick_kilns/raw_data/uttar_pradesh/27.36,79.59.png\n",
      "26.21,79.79\n",
      "Looking for: /mnt/dataset/brick_kilns/raw_data/uttar_pradesh/26.21,79.79.png\n",
      "27.97,78.14\n",
      "Looking for: /mnt/dataset/brick_kilns/raw_data/uttar_pradesh/27.97,78.14.png\n"
     ]
    },
    {
     "name": "stderr",
     "output_type": "stream",
     "text": [
      "Processing files:  10%|▉         | 40/409 [00:03<00:28, 12.75file/s]"
     ]
    },
    {
     "name": "stdout",
     "output_type": "stream",
     "text": [
      "28.80,78.69\n",
      "Looking for: /mnt/dataset/brick_kilns/raw_data/uttar_pradesh/28.80,78.69.png\n",
      "26.20,79.83\n",
      "Looking for: /mnt/dataset/brick_kilns/raw_data/uttar_pradesh/26.20,79.83.png\n",
      "25.89,80.59\n",
      "Looking for: /mnt/dataset/brick_kilns/raw_data/uttar_pradesh/25.89,80.59.png\n"
     ]
    },
    {
     "name": "stderr",
     "output_type": "stream",
     "text": [
      "Processing files:  10%|█         | 42/409 [00:03<00:27, 13.33file/s]"
     ]
    },
    {
     "name": "stdout",
     "output_type": "stream",
     "text": [
      "26.43,79.68\n",
      "Looking for: /mnt/dataset/brick_kilns/raw_data/uttar_pradesh/26.43,79.68.png\n",
      "26.20,79.82\n",
      "Looking for: /mnt/dataset/brick_kilns/raw_data/uttar_pradesh/26.20,79.82.png\n",
      "27.54,78.42\n",
      "Looking for: /mnt/dataset/brick_kilns/raw_data/uttar_pradesh/27.54,78.42.png\n"
     ]
    },
    {
     "name": "stderr",
     "output_type": "stream",
     "text": [
      "Processing files:  11%|█         | 46/409 [00:03<00:26, 13.55file/s]"
     ]
    },
    {
     "name": "stdout",
     "output_type": "stream",
     "text": [
      "26.54,80.43\n",
      "Looking for: /mnt/dataset/brick_kilns/raw_data/uttar_pradesh/26.54,80.43.png\n",
      "26.43,80.15\n",
      "Looking for: /mnt/dataset/brick_kilns/raw_data/uttar_pradesh/26.43,80.15.png\n",
      "27.78,77.72\n",
      "Looking for: /mnt/dataset/brick_kilns/raw_data/uttar_pradesh/27.78,77.72.png\n"
     ]
    },
    {
     "name": "stderr",
     "output_type": "stream",
     "text": [
      "Processing files:  12%|█▏        | 48/409 [00:03<00:27, 13.36file/s]"
     ]
    },
    {
     "name": "stdout",
     "output_type": "stream",
     "text": [
      "25.39,82.34\n",
      "Looking for: /mnt/dataset/brick_kilns/raw_data/uttar_pradesh/25.39,82.34.png\n",
      "25.68,85.41\n",
      "Looking for: /mnt/dataset/brick_kilns/raw_data/uttar_pradesh/25.68,85.41.png\n",
      "Looking for: /home/rishabh.mondal/Brick-Kilns-project/albk_rishabh/albk_v2/YOLO_LOCALIZATION/png_data/bihar/25.68,85.41.png\n",
      "27.46,79.17\n",
      "Looking for: /mnt/dataset/brick_kilns/raw_data/uttar_pradesh/27.46,79.17.png\n",
      "27.86,78.42\n",
      "Looking for: /mnt/dataset/brick_kilns/raw_data/uttar_pradesh/27.86,78.42.png\n"
     ]
    },
    {
     "name": "stderr",
     "output_type": "stream",
     "text": [
      "Processing files:  13%|█▎        | 53/409 [00:03<00:23, 14.86file/s]"
     ]
    },
    {
     "name": "stdout",
     "output_type": "stream",
     "text": [
      "25.49,81.47\n",
      "Looking for: /mnt/dataset/brick_kilns/raw_data/uttar_pradesh/25.49,81.47.png\n",
      "26.96,78.82\n",
      "Looking for: /mnt/dataset/brick_kilns/raw_data/uttar_pradesh/26.96,78.82.png\n",
      "26.57,82.91\n",
      "Looking for: /mnt/dataset/brick_kilns/raw_data/uttar_pradesh/26.57,82.91.png\n"
     ]
    },
    {
     "name": "stderr",
     "output_type": "stream",
     "text": [
      "Processing files:  13%|█▎        | 55/409 [00:04<00:25, 13.67file/s]"
     ]
    },
    {
     "name": "stdout",
     "output_type": "stream",
     "text": [
      "28.37,79.84\n",
      "Looking for: /mnt/dataset/brick_kilns/raw_data/uttar_pradesh/28.37,79.84.png\n",
      "27.91,80.79\n",
      "Looking for: /mnt/dataset/brick_kilns/raw_data/uttar_pradesh/27.91,80.79.png\n",
      "28.18,77.56\n",
      "Looking for: /mnt/dataset/brick_kilns/raw_data/uttar_pradesh/28.18,77.56.png\n"
     ]
    },
    {
     "name": "stderr",
     "output_type": "stream",
     "text": [
      "Processing files:  14%|█▍        | 59/409 [00:04<00:27, 12.69file/s]"
     ]
    },
    {
     "name": "stdout",
     "output_type": "stream",
     "text": [
      "25.52,81.59\n",
      "Looking for: /mnt/dataset/brick_kilns/raw_data/uttar_pradesh/25.52,81.59.png\n",
      "25.26,82.14\n",
      "Looking for: /mnt/dataset/brick_kilns/raw_data/uttar_pradesh/25.26,82.14.png\n",
      "27.60,78.01\n",
      "Looking for: /mnt/dataset/brick_kilns/raw_data/uttar_pradesh/27.60,78.01.png\n"
     ]
    },
    {
     "name": "stderr",
     "output_type": "stream",
     "text": [
      "Processing files:  15%|█▌        | 63/409 [00:04<00:24, 14.37file/s]"
     ]
    },
    {
     "name": "stdout",
     "output_type": "stream",
     "text": [
      "25.81,80.73\n",
      "Looking for: /mnt/dataset/brick_kilns/raw_data/uttar_pradesh/25.81,80.73.png\n",
      "26.51,82.54\n",
      "Looking for: /mnt/dataset/brick_kilns/raw_data/uttar_pradesh/26.51,82.54.png\n",
      "25.75,81.08\n",
      "Looking for: /mnt/dataset/brick_kilns/raw_data/uttar_pradesh/25.75,81.08.png\n",
      "27.39,79.61\n",
      "Looking for: /mnt/dataset/brick_kilns/raw_data/uttar_pradesh/27.39,79.61.png\n"
     ]
    },
    {
     "name": "stderr",
     "output_type": "stream",
     "text": [
      "Processing files:  16%|█▌        | 65/409 [00:04<00:24, 14.08file/s]"
     ]
    },
    {
     "name": "stdout",
     "output_type": "stream",
     "text": [
      "27.98,78.18\n",
      "Looking for: /mnt/dataset/brick_kilns/raw_data/uttar_pradesh/27.98,78.18.png\n",
      "25.86,80.69\n",
      "Looking for: /mnt/dataset/brick_kilns/raw_data/uttar_pradesh/25.86,80.69.png\n",
      "27.12,79.67\n",
      "Looking for: /mnt/dataset/brick_kilns/raw_data/uttar_pradesh/27.12,79.67.png\n"
     ]
    },
    {
     "name": "stderr",
     "output_type": "stream",
     "text": [
      "Processing files:  17%|█▋        | 70/409 [00:05<00:21, 15.60file/s]"
     ]
    },
    {
     "name": "stdout",
     "output_type": "stream",
     "text": [
      "25.39,85.18\n",
      "Looking for: /mnt/dataset/brick_kilns/raw_data/uttar_pradesh/25.39,85.18.png\n",
      "Looking for: /home/rishabh.mondal/Brick-Kilns-project/albk_rishabh/albk_v2/YOLO_LOCALIZATION/png_data/bihar/25.39,85.18.png\n",
      "26.21,80.00\n",
      "Looking for: /mnt/dataset/brick_kilns/raw_data/uttar_pradesh/26.21,80.00.png\n",
      "26.84,83.45\n",
      "Looking for: /mnt/dataset/brick_kilns/raw_data/uttar_pradesh/26.84,83.45.png\n",
      "21.94,87.26\n",
      "Looking for: /mnt/dataset/brick_kilns/raw_data/uttar_pradesh/21.94,87.26.png\n",
      "Looking for: /home/rishabh.mondal/Brick-Kilns-project/albk_rishabh/albk_v2/YOLO_LOCALIZATION/png_data/bihar/21.94,87.26.png\n",
      "Looking for: /home/rishabh.mondal/Brick-Kilns-project/albk_rishabh/albk_v2/YOLO_LOCALIZATION/png_data/haryana/21.94,87.26.png\n",
      "Looking for: /home/rishabh.mondal/Brick-Kilns-project/albk_rishabh/albk_v2/YOLO_LOCALIZATION/png_data/punjab/21.94,87.26.png\n",
      "Looking for: /home/rishabh.mondal/Brick-Kilns-project/albk_rishabh/albk_v2/YOLO_LOCALIZATION/png_data/west_bengal/21.94,87.26.png\n",
      "27.59,78.73\n",
      "Looking for: /mnt/dataset/brick_kilns/raw_data/uttar_pradesh/27.59,78.73.png\n",
      "26.30,80.49\n",
      "Looking for: /mnt/dataset/brick_kilns/raw_data/uttar_pradesh/26.30,80.49.png\n"
     ]
    },
    {
     "name": "stderr",
     "output_type": "stream",
     "text": [
      "Processing files:  18%|█▊        | 75/409 [00:05<00:23, 13.93file/s]"
     ]
    },
    {
     "name": "stdout",
     "output_type": "stream",
     "text": [
      "25.44,83.39\n",
      "Looking for: /mnt/dataset/brick_kilns/raw_data/uttar_pradesh/25.44,83.39.png\n",
      "26.77,80.09\n",
      "Looking for: /mnt/dataset/brick_kilns/raw_data/uttar_pradesh/26.77,80.09.png\n",
      "25.83,80.59\n",
      "Looking for: /mnt/dataset/brick_kilns/raw_data/uttar_pradesh/25.83,80.59.png\n",
      "25.26,85.41\n",
      "Looking for: /mnt/dataset/brick_kilns/raw_data/uttar_pradesh/25.26,85.41.png\n",
      "Looking for: /home/rishabh.mondal/Brick-Kilns-project/albk_rishabh/albk_v2/YOLO_LOCALIZATION/png_data/bihar/25.26,85.41.png\n",
      "28.23,79.62\n",
      "Looking for: /mnt/dataset/brick_kilns/raw_data/uttar_pradesh/28.23,79.62.png\n"
     ]
    },
    {
     "name": "stderr",
     "output_type": "stream",
     "text": [
      "Processing files:  20%|█▉        | 80/409 [00:05<00:22, 14.91file/s]"
     ]
    },
    {
     "name": "stdout",
     "output_type": "stream",
     "text": [
      "27.63,78.27\n",
      "Looking for: /mnt/dataset/brick_kilns/raw_data/uttar_pradesh/27.63,78.27.png\n",
      "27.09,82.27\n",
      "Looking for: /mnt/dataset/brick_kilns/raw_data/uttar_pradesh/27.09,82.27.png\n",
      "27.63,77.89\n",
      "Looking for: /mnt/dataset/brick_kilns/raw_data/uttar_pradesh/27.63,77.89.png\n",
      "25.81,80.76\n",
      "Looking for: /mnt/dataset/brick_kilns/raw_data/uttar_pradesh/25.81,80.76.png\n"
     ]
    },
    {
     "name": "stderr",
     "output_type": "stream",
     "text": [
      "Processing files:  21%|██        | 85/409 [00:06<00:18, 17.32file/s]"
     ]
    },
    {
     "name": "stdout",
     "output_type": "stream",
     "text": [
      "24.77,84.32\n",
      "Looking for: /mnt/dataset/brick_kilns/raw_data/uttar_pradesh/24.77,84.32.png\n",
      "Looking for: /home/rishabh.mondal/Brick-Kilns-project/albk_rishabh/albk_v2/YOLO_LOCALIZATION/png_data/bihar/24.77,84.32.png\n",
      "28.43,78.37\n",
      "Looking for: /mnt/dataset/brick_kilns/raw_data/uttar_pradesh/28.43,78.37.png\n",
      "27.87,78.34\n",
      "Looking for: /mnt/dataset/brick_kilns/raw_data/uttar_pradesh/27.87,78.34.png\n",
      "28.24,79.16\n",
      "Looking for: /mnt/dataset/brick_kilns/raw_data/uttar_pradesh/28.24,79.16.png\n",
      "26.39,81.68\n",
      "Looking for: /mnt/dataset/brick_kilns/raw_data/uttar_pradesh/26.39,81.68.png\n"
     ]
    },
    {
     "name": "stderr",
     "output_type": "stream",
     "text": [
      "Processing files:  22%|██▏       | 89/409 [00:06<00:17, 17.82file/s]"
     ]
    },
    {
     "name": "stdout",
     "output_type": "stream",
     "text": [
      "25.63,81.15\n",
      "Looking for: /mnt/dataset/brick_kilns/raw_data/uttar_pradesh/25.63,81.15.png\n",
      "26.32,80.28\n",
      "Looking for: /mnt/dataset/brick_kilns/raw_data/uttar_pradesh/26.32,80.28.png\n",
      "28.04,79.23\n",
      "Looking for: /mnt/dataset/brick_kilns/raw_data/uttar_pradesh/28.04,79.23.png\n",
      "26.75,79.06\n",
      "Looking for: /mnt/dataset/brick_kilns/raw_data/uttar_pradesh/26.75,79.06.png\n"
     ]
    },
    {
     "name": "stderr",
     "output_type": "stream",
     "text": [
      "Processing files:  23%|██▎       | 93/409 [00:06<00:17, 17.69file/s]"
     ]
    },
    {
     "name": "stdout",
     "output_type": "stream",
     "text": [
      "27.21,80.27\n",
      "Looking for: /mnt/dataset/brick_kilns/raw_data/uttar_pradesh/27.21,80.27.png\n",
      "26.64,79.20\n",
      "Looking for: /mnt/dataset/brick_kilns/raw_data/uttar_pradesh/26.64,79.20.png\n",
      "27.63,78.26\n",
      "Looking for: /mnt/dataset/brick_kilns/raw_data/uttar_pradesh/27.63,78.26.png\n",
      "27.63,78.01\n",
      "Looking for: /mnt/dataset/brick_kilns/raw_data/uttar_pradesh/27.63,78.01.png\n"
     ]
    },
    {
     "name": "stderr",
     "output_type": "stream",
     "text": [
      "Processing files:  24%|██▎       | 97/409 [00:06<00:17, 17.71file/s]"
     ]
    },
    {
     "name": "stdout",
     "output_type": "stream",
     "text": [
      "27.85,78.38\n",
      "Looking for: /mnt/dataset/brick_kilns/raw_data/uttar_pradesh/27.85,78.38.png\n",
      "26.73,78.96\n",
      "Looking for: /mnt/dataset/brick_kilns/raw_data/uttar_pradesh/26.73,78.96.png\n",
      "23.22,87.75\n",
      "Looking for: /mnt/dataset/brick_kilns/raw_data/uttar_pradesh/23.22,87.75.png\n",
      "Looking for: /home/rishabh.mondal/Brick-Kilns-project/albk_rishabh/albk_v2/YOLO_LOCALIZATION/png_data/bihar/23.22,87.75.png\n",
      "Looking for: /home/rishabh.mondal/Brick-Kilns-project/albk_rishabh/albk_v2/YOLO_LOCALIZATION/png_data/haryana/23.22,87.75.png\n",
      "Looking for: /home/rishabh.mondal/Brick-Kilns-project/albk_rishabh/albk_v2/YOLO_LOCALIZATION/png_data/punjab/23.22,87.75.png\n",
      "Looking for: /home/rishabh.mondal/Brick-Kilns-project/albk_rishabh/albk_v2/YOLO_LOCALIZATION/png_data/west_bengal/23.22,87.75.png\n",
      "27.86,77.74\n",
      "Looking for: /mnt/dataset/brick_kilns/raw_data/uttar_pradesh/27.86,77.74.png\n",
      "25.37,82.75\n",
      "Looking for: /mnt/dataset/brick_kilns/raw_data/uttar_pradesh/25.37,82.75.png\n"
     ]
    },
    {
     "name": "stderr",
     "output_type": "stream",
     "text": [
      "Processing files:  25%|██▍       | 102/409 [00:07<00:17, 17.85file/s]"
     ]
    },
    {
     "name": "stdout",
     "output_type": "stream",
     "text": [
      "28.71,79.34\n",
      "Looking for: /mnt/dataset/brick_kilns/raw_data/uttar_pradesh/28.71,79.34.png\n",
      "25.29,81.83\n",
      "Looking for: /mnt/dataset/brick_kilns/raw_data/uttar_pradesh/25.29,81.83.png\n",
      "25.43,81.66\n",
      "Looking for: /mnt/dataset/brick_kilns/raw_data/uttar_pradesh/25.43,81.66.png\n",
      "25.36,81.83\n",
      "Looking for: /mnt/dataset/brick_kilns/raw_data/uttar_pradesh/25.36,81.83.png\n"
     ]
    },
    {
     "name": "stderr",
     "output_type": "stream",
     "text": [
      "Processing files:  26%|██▌       | 106/409 [00:07<00:17, 17.32file/s]"
     ]
    },
    {
     "name": "stdout",
     "output_type": "stream",
     "text": [
      "25.15,82.70\n",
      "Looking for: /mnt/dataset/brick_kilns/raw_data/uttar_pradesh/25.15,82.70.png\n",
      "27.39,79.60\n",
      "Looking for: /mnt/dataset/brick_kilns/raw_data/uttar_pradesh/27.39,79.60.png\n",
      "26.32,80.38\n",
      "Looking for: /mnt/dataset/brick_kilns/raw_data/uttar_pradesh/26.32,80.38.png\n",
      "28.49,79.24\n",
      "Looking for: /mnt/dataset/brick_kilns/raw_data/uttar_pradesh/28.49,79.24.png\n"
     ]
    },
    {
     "name": "stderr",
     "output_type": "stream",
     "text": [
      "Processing files:  27%|██▋       | 111/409 [00:07<00:15, 19.55file/s]"
     ]
    },
    {
     "name": "stdout",
     "output_type": "stream",
     "text": [
      "22.74,88.47\n",
      "Looking for: /mnt/dataset/brick_kilns/raw_data/uttar_pradesh/22.74,88.47.png\n",
      "Looking for: /home/rishabh.mondal/Brick-Kilns-project/albk_rishabh/albk_v2/YOLO_LOCALIZATION/png_data/bihar/22.74,88.47.png\n",
      "Looking for: /home/rishabh.mondal/Brick-Kilns-project/albk_rishabh/albk_v2/YOLO_LOCALIZATION/png_data/haryana/22.74,88.47.png\n",
      "Looking for: /home/rishabh.mondal/Brick-Kilns-project/albk_rishabh/albk_v2/YOLO_LOCALIZATION/png_data/punjab/22.74,88.47.png\n",
      "Looking for: /home/rishabh.mondal/Brick-Kilns-project/albk_rishabh/albk_v2/YOLO_LOCALIZATION/png_data/west_bengal/22.74,88.47.png\n",
      "26.62,80.63\n",
      "Looking for: /mnt/dataset/brick_kilns/raw_data/uttar_pradesh/26.62,80.63.png\n",
      "25.40,81.24\n",
      "Looking for: /mnt/dataset/brick_kilns/raw_data/uttar_pradesh/25.40,81.24.png\n",
      "26.17,80.55\n",
      "Looking for: /mnt/dataset/brick_kilns/raw_data/uttar_pradesh/26.17,80.55.png\n",
      "28.03,78.06\n",
      "Looking for: /mnt/dataset/brick_kilns/raw_data/uttar_pradesh/28.03,78.06.png\n"
     ]
    },
    {
     "name": "stderr",
     "output_type": "stream",
     "text": [
      "Processing files:  28%|██▊       | 115/409 [00:07<00:16, 17.87file/s]"
     ]
    },
    {
     "name": "stdout",
     "output_type": "stream",
     "text": [
      "27.28,79.97\n",
      "Looking for: /mnt/dataset/brick_kilns/raw_data/uttar_pradesh/27.28,79.97.png\n",
      "25.53,81.58\n",
      "Looking for: /mnt/dataset/brick_kilns/raw_data/uttar_pradesh/25.53,81.58.png\n",
      "25.79,80.63\n",
      "Looking for: /mnt/dataset/brick_kilns/raw_data/uttar_pradesh/25.79,80.63.png\n",
      "25.33,82.78\n",
      "Looking for: /mnt/dataset/brick_kilns/raw_data/uttar_pradesh/25.33,82.78.png\n"
     ]
    },
    {
     "name": "stderr",
     "output_type": "stream",
     "text": [
      "Processing files:  29%|██▉       | 119/409 [00:08<00:18, 15.75file/s]"
     ]
    },
    {
     "name": "stdout",
     "output_type": "stream",
     "text": [
      "28.57,79.38\n",
      "Looking for: /mnt/dataset/brick_kilns/raw_data/uttar_pradesh/28.57,79.38.png\n",
      "25.27,82.51\n",
      "Looking for: /mnt/dataset/brick_kilns/raw_data/uttar_pradesh/25.27,82.51.png\n",
      "28.25,79.45\n",
      "Looking for: /mnt/dataset/brick_kilns/raw_data/uttar_pradesh/28.25,79.45.png\n"
     ]
    },
    {
     "name": "stderr",
     "output_type": "stream",
     "text": [
      "Processing files:  30%|███       | 123/409 [00:08<00:18, 15.28file/s]"
     ]
    },
    {
     "name": "stdout",
     "output_type": "stream",
     "text": [
      "27.86,77.67\n",
      "Looking for: /mnt/dataset/brick_kilns/raw_data/uttar_pradesh/27.86,77.67.png\n",
      "27.78,77.78\n",
      "Looking for: /mnt/dataset/brick_kilns/raw_data/uttar_pradesh/27.78,77.78.png\n",
      "25.85,80.70\n",
      "Looking for: /mnt/dataset/brick_kilns/raw_data/uttar_pradesh/25.85,80.70.png\n",
      "25.17,82.96\n",
      "Looking for: /mnt/dataset/brick_kilns/raw_data/uttar_pradesh/25.17,82.96.png\n"
     ]
    },
    {
     "name": "stderr",
     "output_type": "stream",
     "text": [
      "Processing files:  31%|███       | 125/409 [00:08<00:18, 15.59file/s]"
     ]
    },
    {
     "name": "stdout",
     "output_type": "stream",
     "text": [
      "28.32,79.74\n",
      "Looking for: /mnt/dataset/brick_kilns/raw_data/uttar_pradesh/28.32,79.74.png\n",
      "26.83,80.06\n",
      "Looking for: /mnt/dataset/brick_kilns/raw_data/uttar_pradesh/26.83,80.06.png\n",
      "25.19,82.88\n",
      "Looking for: /mnt/dataset/brick_kilns/raw_data/uttar_pradesh/25.19,82.88.png\n"
     ]
    },
    {
     "name": "stderr",
     "output_type": "stream",
     "text": [
      "Processing files:  32%|███▏      | 129/409 [00:08<00:18, 15.24file/s]"
     ]
    },
    {
     "name": "stdout",
     "output_type": "stream",
     "text": [
      "28.74,79.32\n",
      "Looking for: /mnt/dataset/brick_kilns/raw_data/uttar_pradesh/28.74,79.32.png\n",
      "25.87,80.94\n",
      "Looking for: /mnt/dataset/brick_kilns/raw_data/uttar_pradesh/25.87,80.94.png\n",
      "25.85,80.64\n",
      "Looking for: /mnt/dataset/brick_kilns/raw_data/uttar_pradesh/25.85,80.64.png\n",
      "25.42,82.04\n",
      "Looking for: /mnt/dataset/brick_kilns/raw_data/uttar_pradesh/25.42,82.04.png\n"
     ]
    },
    {
     "name": "stderr",
     "output_type": "stream",
     "text": [
      "Processing files:  33%|███▎      | 133/409 [00:08<00:17, 15.51file/s]"
     ]
    },
    {
     "name": "stdout",
     "output_type": "stream",
     "text": [
      "26.60,79.39\n",
      "Looking for: /mnt/dataset/brick_kilns/raw_data/uttar_pradesh/26.60,79.39.png\n",
      "27.64,77.93\n",
      "Looking for: /mnt/dataset/brick_kilns/raw_data/uttar_pradesh/27.64,77.93.png\n",
      "27.63,79.54\n",
      "Looking for: /mnt/dataset/brick_kilns/raw_data/uttar_pradesh/27.63,79.54.png\n",
      "26.91,78.44\n",
      "Looking for: /mnt/dataset/brick_kilns/raw_data/uttar_pradesh/26.91,78.44.png\n"
     ]
    },
    {
     "name": "stderr",
     "output_type": "stream",
     "text": [
      "Processing files:  33%|███▎      | 137/409 [00:09<00:18, 14.57file/s]"
     ]
    },
    {
     "name": "stdout",
     "output_type": "stream",
     "text": [
      "27.04,79.90\n",
      "Looking for: /mnt/dataset/brick_kilns/raw_data/uttar_pradesh/27.04,79.90.png\n",
      "25.56,82.37\n",
      "Looking for: /mnt/dataset/brick_kilns/raw_data/uttar_pradesh/25.56,82.37.png\n",
      "26.12,80.16\n",
      "Looking for: /mnt/dataset/brick_kilns/raw_data/uttar_pradesh/26.12,80.16.png\n"
     ]
    },
    {
     "name": "stderr",
     "output_type": "stream",
     "text": [
      "Processing files:  34%|███▍      | 139/409 [00:09<00:17, 15.38file/s]"
     ]
    },
    {
     "name": "stdout",
     "output_type": "stream",
     "text": [
      "27.81,77.71\n",
      "Looking for: /mnt/dataset/brick_kilns/raw_data/uttar_pradesh/27.81,77.71.png\n",
      "23.72,87.06\n",
      "Looking for: /mnt/dataset/brick_kilns/raw_data/uttar_pradesh/23.72,87.06.png\n",
      "Looking for: /home/rishabh.mondal/Brick-Kilns-project/albk_rishabh/albk_v2/YOLO_LOCALIZATION/png_data/bihar/23.72,87.06.png\n",
      "Looking for: /home/rishabh.mondal/Brick-Kilns-project/albk_rishabh/albk_v2/YOLO_LOCALIZATION/png_data/haryana/23.72,87.06.png\n",
      "Looking for: /home/rishabh.mondal/Brick-Kilns-project/albk_rishabh/albk_v2/YOLO_LOCALIZATION/png_data/punjab/23.72,87.06.png\n",
      "Looking for: /home/rishabh.mondal/Brick-Kilns-project/albk_rishabh/albk_v2/YOLO_LOCALIZATION/png_data/west_bengal/23.72,87.06.png\n",
      "26.02,80.43\n",
      "Looking for: /mnt/dataset/brick_kilns/raw_data/uttar_pradesh/26.02,80.43.png\n",
      "27.03,80.94\n",
      "Looking for: /mnt/dataset/brick_kilns/raw_data/uttar_pradesh/27.03,80.94.png\n"
     ]
    },
    {
     "name": "stderr",
     "output_type": "stream",
     "text": [
      "Processing files:  35%|███▌      | 144/409 [00:09<00:15, 17.12file/s]"
     ]
    },
    {
     "name": "stdout",
     "output_type": "stream",
     "text": [
      "27.89,79.29\n",
      "Looking for: /mnt/dataset/brick_kilns/raw_data/uttar_pradesh/27.89,79.29.png\n",
      "26.34,80.39\n",
      "Looking for: /mnt/dataset/brick_kilns/raw_data/uttar_pradesh/26.34,80.39.png\n",
      "27.06,79.86\n",
      "Looking for: /mnt/dataset/brick_kilns/raw_data/uttar_pradesh/27.06,79.86.png\n",
      "26.68,82.87\n",
      "Looking for: /mnt/dataset/brick_kilns/raw_data/uttar_pradesh/26.68,82.87.png\n"
     ]
    },
    {
     "name": "stderr",
     "output_type": "stream",
     "text": [
      "Processing files:  36%|███▌      | 148/409 [00:09<00:15, 16.52file/s]"
     ]
    },
    {
     "name": "stdout",
     "output_type": "stream",
     "text": [
      "27.84,78.32\n",
      "Looking for: /mnt/dataset/brick_kilns/raw_data/uttar_pradesh/27.84,78.32.png\n",
      "28.01,78.46\n",
      "Looking for: /mnt/dataset/brick_kilns/raw_data/uttar_pradesh/28.01,78.46.png\n",
      "26.36,80.31\n",
      "Looking for: /mnt/dataset/brick_kilns/raw_data/uttar_pradesh/26.36,80.31.png\n",
      "26.36,80.39\n",
      "Looking for: /mnt/dataset/brick_kilns/raw_data/uttar_pradesh/26.36,80.39.png\n"
     ]
    },
    {
     "name": "stderr",
     "output_type": "stream",
     "text": [
      "Processing files:  37%|███▋      | 152/409 [00:10<00:16, 15.37file/s]"
     ]
    },
    {
     "name": "stdout",
     "output_type": "stream",
     "text": [
      "27.85,78.32\n",
      "Looking for: /mnt/dataset/brick_kilns/raw_data/uttar_pradesh/27.85,78.32.png\n",
      "26.26,79.75\n",
      "Looking for: /mnt/dataset/brick_kilns/raw_data/uttar_pradesh/26.26,79.75.png\n",
      "25.49,82.07\n",
      "Looking for: /mnt/dataset/brick_kilns/raw_data/uttar_pradesh/25.49,82.07.png\n"
     ]
    },
    {
     "name": "stderr",
     "output_type": "stream",
     "text": [
      "Processing files:  38%|███▊      | 156/409 [00:10<00:16, 15.79file/s]"
     ]
    },
    {
     "name": "stdout",
     "output_type": "stream",
     "text": [
      "25.35,81.86\n",
      "Looking for: /mnt/dataset/brick_kilns/raw_data/uttar_pradesh/25.35,81.86.png\n",
      "27.83,78.39\n",
      "Looking for: /mnt/dataset/brick_kilns/raw_data/uttar_pradesh/27.83,78.39.png\n",
      "28.61,79.14\n",
      "Looking for: /mnt/dataset/brick_kilns/raw_data/uttar_pradesh/28.61,79.14.png\n",
      "26.63,79.22\n",
      "Looking for: /mnt/dataset/brick_kilns/raw_data/uttar_pradesh/26.63,79.22.png\n"
     ]
    },
    {
     "name": "stderr",
     "output_type": "stream",
     "text": [
      "Processing files:  39%|███▉      | 160/409 [00:10<00:15, 15.88file/s]"
     ]
    },
    {
     "name": "stdout",
     "output_type": "stream",
     "text": [
      "25.65,82.18\n",
      "Looking for: /mnt/dataset/brick_kilns/raw_data/uttar_pradesh/25.65,82.18.png\n",
      "28.57,79.39\n",
      "Looking for: /mnt/dataset/brick_kilns/raw_data/uttar_pradesh/28.57,79.39.png\n",
      "27.12,79.28\n",
      "Looking for: /mnt/dataset/brick_kilns/raw_data/uttar_pradesh/27.12,79.28.png\n",
      "26.63,82.16\n",
      "Looking for: /mnt/dataset/brick_kilns/raw_data/uttar_pradesh/26.63,82.16.png\n"
     ]
    },
    {
     "name": "stderr",
     "output_type": "stream",
     "text": [
      "Processing files:  40%|████      | 164/409 [00:10<00:14, 16.62file/s]"
     ]
    },
    {
     "name": "stdout",
     "output_type": "stream",
     "text": [
      "27.55,78.26\n",
      "Looking for: /mnt/dataset/brick_kilns/raw_data/uttar_pradesh/27.55,78.26.png\n",
      "27.89,77.70\n",
      "Looking for: /mnt/dataset/brick_kilns/raw_data/uttar_pradesh/27.89,77.70.png\n",
      "27.76,78.87\n",
      "Looking for: /mnt/dataset/brick_kilns/raw_data/uttar_pradesh/27.76,78.87.png\n",
      "25.76,81.08\n",
      "Looking for: /mnt/dataset/brick_kilns/raw_data/uttar_pradesh/25.76,81.08.png\n"
     ]
    },
    {
     "name": "stderr",
     "output_type": "stream",
     "text": [
      "Processing files:  41%|████      | 168/409 [00:11<00:13, 17.42file/s]"
     ]
    },
    {
     "name": "stdout",
     "output_type": "stream",
     "text": [
      "27.03,79.90\n",
      "Looking for: /mnt/dataset/brick_kilns/raw_data/uttar_pradesh/27.03,79.90.png\n",
      "25.53,81.57\n",
      "Looking for: /mnt/dataset/brick_kilns/raw_data/uttar_pradesh/25.53,81.57.png\n",
      "26.36,80.33\n",
      "Looking for: /mnt/dataset/brick_kilns/raw_data/uttar_pradesh/26.36,80.33.png\n",
      "25.43,81.67\n",
      "Looking for: /mnt/dataset/brick_kilns/raw_data/uttar_pradesh/25.43,81.67.png\n"
     ]
    },
    {
     "name": "stderr",
     "output_type": "stream",
     "text": [
      "Processing files:  42%|████▏     | 172/409 [00:11<00:11, 19.94file/s]"
     ]
    },
    {
     "name": "stdout",
     "output_type": "stream",
     "text": [
      "24.74,84.01\n",
      "Looking for: /mnt/dataset/brick_kilns/raw_data/uttar_pradesh/24.74,84.01.png\n",
      "Looking for: /home/rishabh.mondal/Brick-Kilns-project/albk_rishabh/albk_v2/YOLO_LOCALIZATION/png_data/bihar/24.74,84.01.png\n",
      "26.58,85.45\n",
      "Looking for: /mnt/dataset/brick_kilns/raw_data/uttar_pradesh/26.58,85.45.png\n",
      "Looking for: /home/rishabh.mondal/Brick-Kilns-project/albk_rishabh/albk_v2/YOLO_LOCALIZATION/png_data/bihar/26.58,85.45.png\n",
      "25.50,83.21\n",
      "Looking for: /mnt/dataset/brick_kilns/raw_data/uttar_pradesh/25.50,83.21.png\n",
      "25.65,81.11\n",
      "Looking for: /mnt/dataset/brick_kilns/raw_data/uttar_pradesh/25.65,81.11.png\n",
      "28.30,78.48\n",
      "Looking for: /mnt/dataset/brick_kilns/raw_data/uttar_pradesh/28.30,78.48.png\n"
     ]
    },
    {
     "name": "stderr",
     "output_type": "stream",
     "text": [
      "Processing files:  43%|████▎     | 176/409 [00:11<00:13, 17.52file/s]"
     ]
    },
    {
     "name": "stdout",
     "output_type": "stream",
     "text": [
      "25.40,82.07\n",
      "Looking for: /mnt/dataset/brick_kilns/raw_data/uttar_pradesh/25.40,82.07.png\n",
      "28.85,79.24\n",
      "Looking for: /mnt/dataset/brick_kilns/raw_data/uttar_pradesh/28.85,79.24.png\n",
      "26.77,79.52\n",
      "Looking for: /mnt/dataset/brick_kilns/raw_data/uttar_pradesh/26.77,79.52.png\n",
      "27.63,78.13\n",
      "Looking for: /mnt/dataset/brick_kilns/raw_data/uttar_pradesh/27.63,78.13.png\n"
     ]
    },
    {
     "name": "stderr",
     "output_type": "stream",
     "text": [
      "Processing files:  44%|████▍     | 180/409 [00:11<00:13, 16.63file/s]"
     ]
    },
    {
     "name": "stdout",
     "output_type": "stream",
     "text": [
      "26.95,82.65\n",
      "Looking for: /mnt/dataset/brick_kilns/raw_data/uttar_pradesh/26.95,82.65.png\n",
      "28.64,79.08\n",
      "Looking for: /mnt/dataset/brick_kilns/raw_data/uttar_pradesh/28.64,79.08.png\n",
      "27.94,80.19\n",
      "Looking for: /mnt/dataset/brick_kilns/raw_data/uttar_pradesh/27.94,80.19.png\n",
      "27.33,79.18\n",
      "Looking for: /mnt/dataset/brick_kilns/raw_data/uttar_pradesh/27.33,79.18.png\n"
     ]
    },
    {
     "name": "stderr",
     "output_type": "stream",
     "text": [
      "Processing files:  45%|████▍     | 184/409 [00:12<00:13, 16.92file/s]"
     ]
    },
    {
     "name": "stdout",
     "output_type": "stream",
     "text": [
      "26.66,79.18\n",
      "Looking for: /mnt/dataset/brick_kilns/raw_data/uttar_pradesh/26.66,79.18.png\n",
      "26.50,83.11\n",
      "Looking for: /mnt/dataset/brick_kilns/raw_data/uttar_pradesh/26.50,83.11.png\n",
      "26.44,81.72\n",
      "Looking for: /mnt/dataset/brick_kilns/raw_data/uttar_pradesh/26.44,81.72.png\n",
      "26.66,79.19\n",
      "Looking for: /mnt/dataset/brick_kilns/raw_data/uttar_pradesh/26.66,79.19.png\n"
     ]
    },
    {
     "name": "stderr",
     "output_type": "stream",
     "text": [
      "Processing files:  46%|████▌     | 188/409 [00:12<00:12, 17.41file/s]"
     ]
    },
    {
     "name": "stdout",
     "output_type": "stream",
     "text": [
      "27.01,79.96\n",
      "Looking for: /mnt/dataset/brick_kilns/raw_data/uttar_pradesh/27.01,79.96.png\n",
      "27.88,77.74\n",
      "Looking for: /mnt/dataset/brick_kilns/raw_data/uttar_pradesh/27.88,77.74.png\n",
      "26.44,80.55\n",
      "Looking for: /mnt/dataset/brick_kilns/raw_data/uttar_pradesh/26.44,80.55.png\n",
      "25.69,81.33\n",
      "Looking for: /mnt/dataset/brick_kilns/raw_data/uttar_pradesh/25.69,81.33.png\n"
     ]
    },
    {
     "name": "stderr",
     "output_type": "stream",
     "text": [
      "Processing files:  47%|████▋     | 192/409 [00:12<00:12, 17.84file/s]"
     ]
    },
    {
     "name": "stdout",
     "output_type": "stream",
     "text": [
      "26.46,80.52\n",
      "Looking for: /mnt/dataset/brick_kilns/raw_data/uttar_pradesh/26.46,80.52.png\n",
      "27.29,79.97\n",
      "Looking for: /mnt/dataset/brick_kilns/raw_data/uttar_pradesh/27.29,79.97.png\n",
      "28.22,79.53\n",
      "Looking for: /mnt/dataset/brick_kilns/raw_data/uttar_pradesh/28.22,79.53.png\n",
      "26.55,80.43\n",
      "Looking for: /mnt/dataset/brick_kilns/raw_data/uttar_pradesh/26.55,80.43.png\n"
     ]
    },
    {
     "name": "stderr",
     "output_type": "stream",
     "text": [
      "Processing files:  48%|████▊     | 196/409 [00:12<00:13, 16.25file/s]"
     ]
    },
    {
     "name": "stdout",
     "output_type": "stream",
     "text": [
      "27.85,78.36\n",
      "Looking for: /mnt/dataset/brick_kilns/raw_data/uttar_pradesh/27.85,78.36.png\n",
      "26.62,80.21\n",
      "Looking for: /mnt/dataset/brick_kilns/raw_data/uttar_pradesh/26.62,80.21.png\n",
      "27.82,78.36\n",
      "Looking for: /mnt/dataset/brick_kilns/raw_data/uttar_pradesh/27.82,78.36.png\n"
     ]
    },
    {
     "name": "stderr",
     "output_type": "stream",
     "text": [
      "Processing files:  49%|████▉     | 200/409 [00:12<00:12, 16.73file/s]"
     ]
    },
    {
     "name": "stdout",
     "output_type": "stream",
     "text": [
      "26.67,79.19\n",
      "Looking for: /mnt/dataset/brick_kilns/raw_data/uttar_pradesh/26.67,79.19.png\n",
      "27.90,78.34\n",
      "Looking for: /mnt/dataset/brick_kilns/raw_data/uttar_pradesh/27.90,78.34.png\n",
      "28.74,79.71\n",
      "Looking for: /mnt/dataset/brick_kilns/raw_data/uttar_pradesh/28.74,79.71.png\n",
      "25.01,83.17\n",
      "Looking for: /mnt/dataset/brick_kilns/raw_data/uttar_pradesh/25.01,83.17.png\n"
     ]
    },
    {
     "name": "stderr",
     "output_type": "stream",
     "text": [
      "Processing files:  50%|████▉     | 203/409 [00:13<00:11, 17.94file/s]"
     ]
    },
    {
     "name": "stdout",
     "output_type": "stream",
     "text": [
      "26.90,78.46\n",
      "Looking for: /mnt/dataset/brick_kilns/raw_data/uttar_pradesh/26.90,78.46.png\n",
      "26.33,80.28\n",
      "Looking for: /mnt/dataset/brick_kilns/raw_data/uttar_pradesh/26.33,80.28.png\n",
      "28.34,79.59\n",
      "Looking for: /mnt/dataset/brick_kilns/raw_data/uttar_pradesh/28.34,79.59.png\n",
      "25.89,80.60\n",
      "Looking for: /mnt/dataset/brick_kilns/raw_data/uttar_pradesh/25.89,80.60.png\n"
     ]
    },
    {
     "name": "stderr",
     "output_type": "stream",
     "text": [
      "Processing files:  51%|█████     | 207/409 [00:13<00:11, 17.76file/s]"
     ]
    },
    {
     "name": "stdout",
     "output_type": "stream",
     "text": [
      "27.42,79.28\n",
      "Looking for: /mnt/dataset/brick_kilns/raw_data/uttar_pradesh/27.42,79.28.png\n",
      "27.64,77.91\n",
      "Looking for: /mnt/dataset/brick_kilns/raw_data/uttar_pradesh/27.64,77.91.png\n",
      "25.36,81.56\n",
      "Looking for: /mnt/dataset/brick_kilns/raw_data/uttar_pradesh/25.36,81.56.png\n",
      "28.32,79.52\n",
      "Looking for: /mnt/dataset/brick_kilns/raw_data/uttar_pradesh/28.32,79.52.png\n"
     ]
    },
    {
     "name": "stderr",
     "output_type": "stream",
     "text": [
      "Processing files:  52%|█████▏    | 212/409 [00:13<00:09, 20.45file/s]"
     ]
    },
    {
     "name": "stdout",
     "output_type": "stream",
     "text": [
      "24.90,85.58\n",
      "Looking for: /mnt/dataset/brick_kilns/raw_data/uttar_pradesh/24.90,85.58.png\n",
      "Looking for: /home/rishabh.mondal/Brick-Kilns-project/albk_rishabh/albk_v2/YOLO_LOCALIZATION/png_data/bihar/24.90,85.58.png\n",
      "27.09,82.28\n",
      "Looking for: /mnt/dataset/brick_kilns/raw_data/uttar_pradesh/27.09,82.28.png\n",
      "25.85,81.12\n",
      "Looking for: /mnt/dataset/brick_kilns/raw_data/uttar_pradesh/25.85,81.12.png\n",
      "28.63,79.86\n",
      "Looking for: /mnt/dataset/brick_kilns/raw_data/uttar_pradesh/28.63,79.86.png\n",
      "27.76,78.80\n",
      "Looking for: /mnt/dataset/brick_kilns/raw_data/uttar_pradesh/27.76,78.80.png\n"
     ]
    },
    {
     "name": "stderr",
     "output_type": "stream",
     "text": [
      "Processing files:  53%|█████▎    | 218/409 [00:13<00:09, 21.18file/s]"
     ]
    },
    {
     "name": "stdout",
     "output_type": "stream",
     "text": [
      "25.86,83.75\n",
      "Looking for: /mnt/dataset/brick_kilns/raw_data/uttar_pradesh/25.86,83.75.png\n",
      "24.87,84.09\n",
      "Looking for: /mnt/dataset/brick_kilns/raw_data/uttar_pradesh/24.87,84.09.png\n",
      "Looking for: /home/rishabh.mondal/Brick-Kilns-project/albk_rishabh/albk_v2/YOLO_LOCALIZATION/png_data/bihar/24.87,84.09.png\n",
      "26.36,79.71\n",
      "Looking for: /mnt/dataset/brick_kilns/raw_data/uttar_pradesh/26.36,79.71.png\n",
      "26.16,80.15\n",
      "Looking for: /mnt/dataset/brick_kilns/raw_data/uttar_pradesh/26.16,80.15.png\n",
      "25.91,81.97\n",
      "Looking for: /mnt/dataset/brick_kilns/raw_data/uttar_pradesh/25.91,81.97.png\n"
     ]
    },
    {
     "name": "stderr",
     "output_type": "stream",
     "text": [
      "Processing files:  54%|█████▍    | 221/409 [00:13<00:09, 20.53file/s]"
     ]
    },
    {
     "name": "stdout",
     "output_type": "stream",
     "text": [
      "26.49,83.11\n",
      "Looking for: /mnt/dataset/brick_kilns/raw_data/uttar_pradesh/26.49,83.11.png\n",
      "26.88,80.30\n",
      "Looking for: /mnt/dataset/brick_kilns/raw_data/uttar_pradesh/26.88,80.30.png\n",
      "27.83,78.33\n",
      "Looking for: /mnt/dataset/brick_kilns/raw_data/uttar_pradesh/27.83,78.33.png\n",
      "27.50,79.50\n",
      "Looking for: /mnt/dataset/brick_kilns/raw_data/uttar_pradesh/27.50,79.50.png\n"
     ]
    },
    {
     "name": "stderr",
     "output_type": "stream",
     "text": [
      "Processing files:  56%|█████▌    | 227/409 [00:14<00:08, 20.23file/s]"
     ]
    },
    {
     "name": "stdout",
     "output_type": "stream",
     "text": [
      "25.46,82.07\n",
      "Looking for: /mnt/dataset/brick_kilns/raw_data/uttar_pradesh/25.46,82.07.png\n",
      "26.91,78.47\n",
      "Looking for: /mnt/dataset/brick_kilns/raw_data/uttar_pradesh/26.91,78.47.png\n",
      "25.47,84.83\n",
      "Looking for: /mnt/dataset/brick_kilns/raw_data/uttar_pradesh/25.47,84.83.png\n",
      "Looking for: /home/rishabh.mondal/Brick-Kilns-project/albk_rishabh/albk_v2/YOLO_LOCALIZATION/png_data/bihar/25.47,84.83.png\n",
      "28.76,79.38\n",
      "Looking for: /mnt/dataset/brick_kilns/raw_data/uttar_pradesh/28.76,79.38.png\n",
      "25.42,83.24\n",
      "Looking for: /mnt/dataset/brick_kilns/raw_data/uttar_pradesh/25.42,83.24.png\n"
     ]
    },
    {
     "name": "stderr",
     "output_type": "stream",
     "text": [
      "Processing files:  56%|█████▌    | 230/409 [00:14<00:09, 19.02file/s]"
     ]
    },
    {
     "name": "stdout",
     "output_type": "stream",
     "text": [
      "25.72,81.07\n",
      "Looking for: /mnt/dataset/brick_kilns/raw_data/uttar_pradesh/25.72,81.07.png\n",
      "25.72,81.02\n",
      "Looking for: /mnt/dataset/brick_kilns/raw_data/uttar_pradesh/25.72,81.02.png\n",
      "25.91,81.18\n",
      "Looking for: /mnt/dataset/brick_kilns/raw_data/uttar_pradesh/25.91,81.18.png\n",
      "26.40,81.67\n",
      "Looking for: /mnt/dataset/brick_kilns/raw_data/uttar_pradesh/26.40,81.67.png\n"
     ]
    },
    {
     "name": "stderr",
     "output_type": "stream",
     "text": [
      "Processing files:  57%|█████▋    | 234/409 [00:14<00:09, 18.06file/s]"
     ]
    },
    {
     "name": "stdout",
     "output_type": "stream",
     "text": [
      "25.43,81.68\n",
      "Looking for: /mnt/dataset/brick_kilns/raw_data/uttar_pradesh/25.43,81.68.png\n",
      "25.85,80.66\n",
      "Looking for: /mnt/dataset/brick_kilns/raw_data/uttar_pradesh/25.85,80.66.png\n",
      "27.84,78.36\n",
      "Looking for: /mnt/dataset/brick_kilns/raw_data/uttar_pradesh/27.84,78.36.png\n",
      "27.78,78.15\n",
      "Looking for: /mnt/dataset/brick_kilns/raw_data/uttar_pradesh/27.78,78.15.png\n"
     ]
    },
    {
     "name": "stderr",
     "output_type": "stream",
     "text": [
      "Processing files:  58%|█████▊    | 239/409 [00:14<00:09, 18.78file/s]"
     ]
    },
    {
     "name": "stdout",
     "output_type": "stream",
     "text": [
      "26.12,80.22\n",
      "Looking for: /mnt/dataset/brick_kilns/raw_data/uttar_pradesh/26.12,80.22.png\n",
      "21.86,87.26\n",
      "Looking for: /mnt/dataset/brick_kilns/raw_data/uttar_pradesh/21.86,87.26.png\n",
      "Looking for: /home/rishabh.mondal/Brick-Kilns-project/albk_rishabh/albk_v2/YOLO_LOCALIZATION/png_data/bihar/21.86,87.26.png\n",
      "Looking for: /home/rishabh.mondal/Brick-Kilns-project/albk_rishabh/albk_v2/YOLO_LOCALIZATION/png_data/haryana/21.86,87.26.png\n",
      "Looking for: /home/rishabh.mondal/Brick-Kilns-project/albk_rishabh/albk_v2/YOLO_LOCALIZATION/png_data/punjab/21.86,87.26.png\n",
      "Looking for: /home/rishabh.mondal/Brick-Kilns-project/albk_rishabh/albk_v2/YOLO_LOCALIZATION/png_data/west_bengal/21.86,87.26.png\n",
      "26.03,83.49\n",
      "Looking for: /mnt/dataset/brick_kilns/raw_data/uttar_pradesh/26.03,83.49.png\n",
      "26.26,80.03\n",
      "Looking for: /mnt/dataset/brick_kilns/raw_data/uttar_pradesh/26.26,80.03.png\n",
      "26.11,80.40\n",
      "Looking for: /mnt/dataset/brick_kilns/raw_data/uttar_pradesh/26.11,80.40.png\n"
     ]
    },
    {
     "name": "stderr",
     "output_type": "stream",
     "text": [
      "Processing files:  59%|█████▉    | 243/409 [00:15<00:09, 16.90file/s]"
     ]
    },
    {
     "name": "stdout",
     "output_type": "stream",
     "text": [
      "27.35,78.91\n",
      "Looking for: /mnt/dataset/brick_kilns/raw_data/uttar_pradesh/27.35,78.91.png\n",
      "25.50,81.94\n",
      "Looking for: /mnt/dataset/brick_kilns/raw_data/uttar_pradesh/25.50,81.94.png\n",
      "25.49,81.65\n",
      "Looking for: /mnt/dataset/brick_kilns/raw_data/uttar_pradesh/25.49,81.65.png\n"
     ]
    },
    {
     "name": "stderr",
     "output_type": "stream",
     "text": [
      "Processing files:  60%|█████▉    | 245/409 [00:15<00:09, 16.42file/s]"
     ]
    },
    {
     "name": "stdout",
     "output_type": "stream",
     "text": [
      "25.99,82.61\n",
      "Looking for: /mnt/dataset/brick_kilns/raw_data/uttar_pradesh/25.99,82.61.png\n",
      "27.75,78.91\n",
      "Looking for: /mnt/dataset/brick_kilns/raw_data/uttar_pradesh/27.75,78.91.png\n"
     ]
    },
    {
     "name": "stderr",
     "output_type": "stream",
     "text": [
      "Processing files:  61%|██████    | 249/409 [00:15<00:14, 11.22file/s]"
     ]
    },
    {
     "name": "stdout",
     "output_type": "stream",
     "text": [
      "27.90,77.57\n",
      "Looking for: /mnt/dataset/brick_kilns/raw_data/uttar_pradesh/27.90,77.57.png\n",
      "27.84,77.67\n",
      "Looking for: /mnt/dataset/brick_kilns/raw_data/uttar_pradesh/27.84,77.67.png\n",
      "28.17,78.82\n",
      "Looking for: /mnt/dataset/brick_kilns/raw_data/uttar_pradesh/28.17,78.82.png\n",
      "26.92,78.43\n",
      "Looking for: /mnt/dataset/brick_kilns/raw_data/uttar_pradesh/26.92,78.43.png\n"
     ]
    },
    {
     "name": "stderr",
     "output_type": "stream",
     "text": [
      "Processing files:  62%|██████▏   | 252/409 [00:16<00:11, 13.79file/s]"
     ]
    },
    {
     "name": "stdout",
     "output_type": "stream",
     "text": [
      "26.93,82.61\n",
      "Looking for: /mnt/dataset/brick_kilns/raw_data/uttar_pradesh/26.93,82.61.png\n",
      "27.95,77.57\n",
      "Looking for: /mnt/dataset/brick_kilns/raw_data/uttar_pradesh/27.95,77.57.png\n",
      "25.71,81.33\n",
      "Looking for: /mnt/dataset/brick_kilns/raw_data/uttar_pradesh/25.71,81.33.png\n",
      "26.62,82.51\n",
      "Looking for: /mnt/dataset/brick_kilns/raw_data/uttar_pradesh/26.62,82.51.png\n"
     ]
    },
    {
     "name": "stderr",
     "output_type": "stream",
     "text": [
      "Processing files:  63%|██████▎   | 257/409 [00:16<00:09, 16.26file/s]"
     ]
    },
    {
     "name": "stdout",
     "output_type": "stream",
     "text": [
      "28.28,79.57\n",
      "Looking for: /mnt/dataset/brick_kilns/raw_data/uttar_pradesh/28.28,79.57.png\n",
      "26.34,80.34\n",
      "Looking for: /mnt/dataset/brick_kilns/raw_data/uttar_pradesh/26.34,80.34.png\n",
      "28.07,79.11\n",
      "Looking for: /mnt/dataset/brick_kilns/raw_data/uttar_pradesh/28.07,79.11.png\n",
      "27.62,78.04\n",
      "Looking for: /mnt/dataset/brick_kilns/raw_data/uttar_pradesh/27.62,78.04.png\n",
      "26.53,79.38\n",
      "Looking for: /mnt/dataset/brick_kilns/raw_data/uttar_pradesh/26.53,79.38.png\n"
     ]
    },
    {
     "name": "stderr",
     "output_type": "stream",
     "text": [
      "Processing files:  64%|██████▍   | 262/409 [00:16<00:08, 18.08file/s]"
     ]
    },
    {
     "name": "stdout",
     "output_type": "stream",
     "text": [
      "26.62,82.95\n",
      "Looking for: /mnt/dataset/brick_kilns/raw_data/uttar_pradesh/26.62,82.95.png\n",
      "26.96,81.94\n",
      "Looking for: /mnt/dataset/brick_kilns/raw_data/uttar_pradesh/26.96,81.94.png\n",
      "27.87,77.74\n",
      "Looking for: /mnt/dataset/brick_kilns/raw_data/uttar_pradesh/27.87,77.74.png\n",
      "26.23,79.77\n",
      "Looking for: /mnt/dataset/brick_kilns/raw_data/uttar_pradesh/26.23,79.77.png\n",
      "28.21,79.15\n",
      "Looking for: /mnt/dataset/brick_kilns/raw_data/uttar_pradesh/28.21,79.15.png\n"
     ]
    },
    {
     "name": "stderr",
     "output_type": "stream",
     "text": [
      "Processing files:  66%|██████▌   | 268/409 [00:16<00:06, 20.94file/s]"
     ]
    },
    {
     "name": "stdout",
     "output_type": "stream",
     "text": [
      "25.43,82.15\n",
      "Looking for: /mnt/dataset/brick_kilns/raw_data/uttar_pradesh/25.43,82.15.png\n",
      "22.86,88.41\n",
      "Looking for: /mnt/dataset/brick_kilns/raw_data/uttar_pradesh/22.86,88.41.png\n",
      "Looking for: /home/rishabh.mondal/Brick-Kilns-project/albk_rishabh/albk_v2/YOLO_LOCALIZATION/png_data/bihar/22.86,88.41.png\n",
      "Looking for: /home/rishabh.mondal/Brick-Kilns-project/albk_rishabh/albk_v2/YOLO_LOCALIZATION/png_data/haryana/22.86,88.41.png\n",
      "Looking for: /home/rishabh.mondal/Brick-Kilns-project/albk_rishabh/albk_v2/YOLO_LOCALIZATION/png_data/punjab/22.86,88.41.png\n",
      "Looking for: /home/rishabh.mondal/Brick-Kilns-project/albk_rishabh/albk_v2/YOLO_LOCALIZATION/png_data/west_bengal/22.86,88.41.png\n",
      "26.74,83.57\n",
      "Looking for: /mnt/dataset/brick_kilns/raw_data/uttar_pradesh/26.74,83.57.png\n",
      "26.14,80.17\n",
      "Looking for: /mnt/dataset/brick_kilns/raw_data/uttar_pradesh/26.14,80.17.png\n",
      "27.52,79.22\n",
      "Looking for: /mnt/dataset/brick_kilns/raw_data/uttar_pradesh/27.52,79.22.png\n"
     ]
    },
    {
     "name": "stderr",
     "output_type": "stream",
     "text": [
      "Processing files:  66%|██████▋   | 271/409 [00:16<00:06, 20.61file/s]"
     ]
    },
    {
     "name": "stdout",
     "output_type": "stream",
     "text": [
      "27.81,78.24\n",
      "Looking for: /mnt/dataset/brick_kilns/raw_data/uttar_pradesh/27.81,78.24.png\n",
      "27.79,77.72\n",
      "Looking for: /mnt/dataset/brick_kilns/raw_data/uttar_pradesh/27.79,77.72.png\n",
      "25.32,81.85\n",
      "Looking for: /mnt/dataset/brick_kilns/raw_data/uttar_pradesh/25.32,81.85.png\n",
      "27.17,79.00\n",
      "Looking for: /mnt/dataset/brick_kilns/raw_data/uttar_pradesh/27.17,79.00.png\n"
     ]
    },
    {
     "name": "stderr",
     "output_type": "stream",
     "text": [
      "Processing files:  67%|██████▋   | 276/409 [00:17<00:07, 18.70file/s]"
     ]
    },
    {
     "name": "stdout",
     "output_type": "stream",
     "text": [
      "27.19,83.78\n",
      "Looking for: /mnt/dataset/brick_kilns/raw_data/uttar_pradesh/27.19,83.78.png\n",
      "25.17,82.97\n",
      "Looking for: /mnt/dataset/brick_kilns/raw_data/uttar_pradesh/25.17,82.97.png\n",
      "26.92,78.42\n",
      "Looking for: /mnt/dataset/brick_kilns/raw_data/uttar_pradesh/26.92,78.42.png\n",
      "28.04,79.24\n",
      "Looking for: /mnt/dataset/brick_kilns/raw_data/uttar_pradesh/28.04,79.24.png\n"
     ]
    },
    {
     "name": "stderr",
     "output_type": "stream",
     "text": [
      "Processing files:  68%|██████▊   | 280/409 [00:17<00:07, 16.92file/s]"
     ]
    },
    {
     "name": "stdout",
     "output_type": "stream",
     "text": [
      "26.26,79.78\n",
      "Looking for: /mnt/dataset/brick_kilns/raw_data/uttar_pradesh/26.26,79.78.png\n",
      "28.46,79.12\n",
      "Looking for: /mnt/dataset/brick_kilns/raw_data/uttar_pradesh/28.46,79.12.png\n",
      "26.63,80.63\n",
      "Looking for: /mnt/dataset/brick_kilns/raw_data/uttar_pradesh/26.63,80.63.png\n",
      "27.90,77.66\n",
      "Looking for: /mnt/dataset/brick_kilns/raw_data/uttar_pradesh/27.90,77.66.png\n"
     ]
    },
    {
     "name": "stderr",
     "output_type": "stream",
     "text": [
      "Processing files:  69%|██████▉   | 284/409 [00:17<00:07, 16.05file/s]"
     ]
    },
    {
     "name": "stdout",
     "output_type": "stream",
     "text": [
      "26.83,80.05\n",
      "Looking for: /mnt/dataset/brick_kilns/raw_data/uttar_pradesh/26.83,80.05.png\n",
      "25.35,81.85\n",
      "Looking for: /mnt/dataset/brick_kilns/raw_data/uttar_pradesh/25.35,81.85.png\n",
      "27.89,78.34\n",
      "Looking for: /mnt/dataset/brick_kilns/raw_data/uttar_pradesh/27.89,78.34.png\n",
      "22.91,88.47\n",
      "Looking for: /mnt/dataset/brick_kilns/raw_data/uttar_pradesh/22.91,88.47.png\n"
     ]
    },
    {
     "name": "stderr",
     "output_type": "stream",
     "text": [
      "Processing files:  70%|███████   | 287/409 [00:17<00:07, 17.31file/s]"
     ]
    },
    {
     "name": "stdout",
     "output_type": "stream",
     "text": [
      "Looking for: /home/rishabh.mondal/Brick-Kilns-project/albk_rishabh/albk_v2/YOLO_LOCALIZATION/png_data/bihar/22.91,88.47.png\n",
      "Looking for: /home/rishabh.mondal/Brick-Kilns-project/albk_rishabh/albk_v2/YOLO_LOCALIZATION/png_data/haryana/22.91,88.47.png\n",
      "Looking for: /home/rishabh.mondal/Brick-Kilns-project/albk_rishabh/albk_v2/YOLO_LOCALIZATION/png_data/punjab/22.91,88.47.png\n",
      "Looking for: /home/rishabh.mondal/Brick-Kilns-project/albk_rishabh/albk_v2/YOLO_LOCALIZATION/png_data/west_bengal/22.91,88.47.png\n",
      "27.49,78.55\n",
      "Looking for: /mnt/dataset/brick_kilns/raw_data/uttar_pradesh/27.49,78.55.png\n",
      "26.40,81.55\n",
      "Looking for: /mnt/dataset/brick_kilns/raw_data/uttar_pradesh/26.40,81.55.png\n",
      "26.68,80.83\n",
      "Looking for: /mnt/dataset/brick_kilns/raw_data/uttar_pradesh/26.68,80.83.png\n",
      "26.49,79.69\n",
      "Looking for: /mnt/dataset/brick_kilns/raw_data/uttar_pradesh/26.49,79.69.png\n"
     ]
    },
    {
     "name": "stderr",
     "output_type": "stream",
     "text": [
      "Processing files:  71%|███████   | 291/409 [00:18<00:06, 17.53file/s]"
     ]
    },
    {
     "name": "stdout",
     "output_type": "stream",
     "text": [
      "25.01,83.16\n",
      "Looking for: /mnt/dataset/brick_kilns/raw_data/uttar_pradesh/25.01,83.16.png\n",
      "26.53,79.88\n",
      "Looking for: /mnt/dataset/brick_kilns/raw_data/uttar_pradesh/26.53,79.88.png\n",
      "25.43,81.22\n",
      "Looking for: /mnt/dataset/brick_kilns/raw_data/uttar_pradesh/25.43,81.22.png\n",
      "27.92,80.82\n",
      "Looking for: /mnt/dataset/brick_kilns/raw_data/uttar_pradesh/27.92,80.82.png\n"
     ]
    },
    {
     "name": "stderr",
     "output_type": "stream",
     "text": [
      "Processing files:  72%|███████▏  | 295/409 [00:18<00:06, 16.85file/s]"
     ]
    },
    {
     "name": "stdout",
     "output_type": "stream",
     "text": [
      "26.90,78.36\n",
      "Looking for: /mnt/dataset/brick_kilns/raw_data/uttar_pradesh/26.90,78.36.png\n",
      "27.89,78.35\n",
      "Looking for: /mnt/dataset/brick_kilns/raw_data/uttar_pradesh/27.89,78.35.png\n",
      "26.68,80.19\n",
      "Looking for: /mnt/dataset/brick_kilns/raw_data/uttar_pradesh/26.68,80.19.png\n",
      "25.20,82.59\n",
      "Looking for: /mnt/dataset/brick_kilns/raw_data/uttar_pradesh/25.20,82.59.png\n"
     ]
    },
    {
     "name": "stderr",
     "output_type": "stream",
     "text": [
      "Processing files:  73%|███████▎  | 299/409 [00:18<00:06, 15.89file/s]"
     ]
    },
    {
     "name": "stdout",
     "output_type": "stream",
     "text": [
      "27.16,79.51\n",
      "Looking for: /mnt/dataset/brick_kilns/raw_data/uttar_pradesh/27.16,79.51.png\n",
      "26.42,81.93\n",
      "Looking for: /mnt/dataset/brick_kilns/raw_data/uttar_pradesh/26.42,81.93.png\n",
      "26.76,83.65\n",
      "Looking for: /mnt/dataset/brick_kilns/raw_data/uttar_pradesh/26.76,83.65.png\n"
     ]
    },
    {
     "name": "stderr",
     "output_type": "stream",
     "text": [
      "Processing files:  74%|███████▍  | 303/409 [00:18<00:06, 15.67file/s]"
     ]
    },
    {
     "name": "stdout",
     "output_type": "stream",
     "text": [
      "27.81,77.72\n",
      "Looking for: /mnt/dataset/brick_kilns/raw_data/uttar_pradesh/27.81,77.72.png\n",
      "26.68,83.30\n",
      "Looking for: /mnt/dataset/brick_kilns/raw_data/uttar_pradesh/26.68,83.30.png\n",
      "26.48,80.51\n",
      "Looking for: /mnt/dataset/brick_kilns/raw_data/uttar_pradesh/26.48,80.51.png\n",
      "27.52,79.23\n",
      "Looking for: /mnt/dataset/brick_kilns/raw_data/uttar_pradesh/27.52,79.23.png\n"
     ]
    },
    {
     "name": "stderr",
     "output_type": "stream",
     "text": [
      "Processing files:  75%|███████▌  | 307/409 [00:19<00:06, 15.43file/s]"
     ]
    },
    {
     "name": "stdout",
     "output_type": "stream",
     "text": [
      "26.65,83.16\n",
      "Looking for: /mnt/dataset/brick_kilns/raw_data/uttar_pradesh/26.65,83.16.png\n",
      "27.91,80.83\n",
      "Looking for: /mnt/dataset/brick_kilns/raw_data/uttar_pradesh/27.91,80.83.png\n",
      "27.34,79.62\n",
      "Looking for: /mnt/dataset/brick_kilns/raw_data/uttar_pradesh/27.34,79.62.png\n",
      "27.75,80.23\n",
      "Looking for: /mnt/dataset/brick_kilns/raw_data/uttar_pradesh/27.75,80.23.png\n"
     ]
    },
    {
     "name": "stderr",
     "output_type": "stream",
     "text": [
      "Processing files:  76%|███████▌  | 311/409 [00:19<00:06, 15.08file/s]"
     ]
    },
    {
     "name": "stdout",
     "output_type": "stream",
     "text": [
      "25.90,80.80\n",
      "Looking for: /mnt/dataset/brick_kilns/raw_data/uttar_pradesh/25.90,80.80.png\n",
      "26.34,80.46\n",
      "Looking for: /mnt/dataset/brick_kilns/raw_data/uttar_pradesh/26.34,80.46.png\n",
      "25.45,81.70\n",
      "Looking for: /mnt/dataset/brick_kilns/raw_data/uttar_pradesh/25.45,81.70.png\n",
      "28.81,79.42\n",
      "Looking for: /mnt/dataset/brick_kilns/raw_data/uttar_pradesh/28.81,79.42.png\n"
     ]
    },
    {
     "name": "stderr",
     "output_type": "stream",
     "text": [
      "Processing files:  77%|███████▋  | 315/409 [00:19<00:06, 15.15file/s]"
     ]
    },
    {
     "name": "stdout",
     "output_type": "stream",
     "text": [
      "26.63,80.20\n",
      "Looking for: /mnt/dataset/brick_kilns/raw_data/uttar_pradesh/26.63,80.20.png\n",
      "27.78,77.73\n",
      "Looking for: /mnt/dataset/brick_kilns/raw_data/uttar_pradesh/27.78,77.73.png\n",
      "25.21,82.60\n",
      "Looking for: /mnt/dataset/brick_kilns/raw_data/uttar_pradesh/25.21,82.60.png\n",
      "28.23,79.15\n",
      "Looking for: /mnt/dataset/brick_kilns/raw_data/uttar_pradesh/28.23,79.15.png\n"
     ]
    },
    {
     "name": "stderr",
     "output_type": "stream",
     "text": [
      "Processing files:  78%|███████▊  | 319/409 [00:19<00:05, 15.28file/s]"
     ]
    },
    {
     "name": "stdout",
     "output_type": "stream",
     "text": [
      "27.85,78.31\n",
      "Looking for: /mnt/dataset/brick_kilns/raw_data/uttar_pradesh/27.85,78.31.png\n",
      "25.43,81.64\n",
      "Looking for: /mnt/dataset/brick_kilns/raw_data/uttar_pradesh/25.43,81.64.png\n",
      "27.76,78.79\n",
      "Looking for: /mnt/dataset/brick_kilns/raw_data/uttar_pradesh/27.76,78.79.png\n",
      "26.65,82.70\n",
      "Looking for: /mnt/dataset/brick_kilns/raw_data/uttar_pradesh/26.65,82.70.png\n"
     ]
    },
    {
     "name": "stderr",
     "output_type": "stream",
     "text": [
      "Processing files:  78%|███████▊  | 321/409 [00:20<00:06, 14.61file/s]"
     ]
    },
    {
     "name": "stdout",
     "output_type": "stream",
     "text": [
      "28.34,79.50\n",
      "Looking for: /mnt/dataset/brick_kilns/raw_data/uttar_pradesh/28.34,79.50.png\n",
      "25.41,82.36\n",
      "Looking for: /mnt/dataset/brick_kilns/raw_data/uttar_pradesh/25.41,82.36.png\n",
      "27.76,78.81\n",
      "Looking for: /mnt/dataset/brick_kilns/raw_data/uttar_pradesh/27.76,78.81.png\n"
     ]
    },
    {
     "name": "stderr",
     "output_type": "stream",
     "text": [
      "Processing files:  80%|███████▉  | 326/409 [00:20<00:04, 16.98file/s]"
     ]
    },
    {
     "name": "stdout",
     "output_type": "stream",
     "text": [
      "25.28,85.13\n",
      "Looking for: /mnt/dataset/brick_kilns/raw_data/uttar_pradesh/25.28,85.13.png\n",
      "Looking for: /home/rishabh.mondal/Brick-Kilns-project/albk_rishabh/albk_v2/YOLO_LOCALIZATION/png_data/bihar/25.28,85.13.png\n",
      "27.00,78.88\n",
      "Looking for: /mnt/dataset/brick_kilns/raw_data/uttar_pradesh/27.00,78.88.png\n",
      "27.96,78.25\n",
      "Looking for: /mnt/dataset/brick_kilns/raw_data/uttar_pradesh/27.96,78.25.png\n",
      "26.58,79.44\n",
      "Looking for: /mnt/dataset/brick_kilns/raw_data/uttar_pradesh/26.58,79.44.png\n",
      "27.85,77.75\n",
      "Looking for: /mnt/dataset/brick_kilns/raw_data/uttar_pradesh/27.85,77.75.png\n"
     ]
    },
    {
     "name": "stderr",
     "output_type": "stream",
     "text": [
      "Processing files:  80%|████████  | 328/409 [00:20<00:04, 16.34file/s]"
     ]
    },
    {
     "name": "stdout",
     "output_type": "stream",
     "text": [
      "26.67,83.24\n",
      "Looking for: /mnt/dataset/brick_kilns/raw_data/uttar_pradesh/26.67,83.24.png\n",
      "26.62,80.62\n",
      "Looking for: /mnt/dataset/brick_kilns/raw_data/uttar_pradesh/26.62,80.62.png\n"
     ]
    },
    {
     "name": "stderr",
     "output_type": "stream",
     "text": [
      "Processing files:  81%|████████  | 332/409 [00:20<00:05, 14.42file/s]"
     ]
    },
    {
     "name": "stdout",
     "output_type": "stream",
     "text": [
      "26.92,79.91\n",
      "Looking for: /mnt/dataset/brick_kilns/raw_data/uttar_pradesh/26.92,79.91.png\n",
      "25.51,82.13\n",
      "Looking for: /mnt/dataset/brick_kilns/raw_data/uttar_pradesh/25.51,82.13.png\n",
      "28.01,79.05\n",
      "Looking for: /mnt/dataset/brick_kilns/raw_data/uttar_pradesh/28.01,79.05.png\n",
      "27.16,81.72\n",
      "Looking for: /mnt/dataset/brick_kilns/raw_data/uttar_pradesh/27.16,81.72.png\n"
     ]
    },
    {
     "name": "stderr",
     "output_type": "stream",
     "text": [
      "Processing files:  82%|████████▏ | 336/409 [00:21<00:04, 15.34file/s]"
     ]
    },
    {
     "name": "stdout",
     "output_type": "stream",
     "text": [
      "27.83,77.64\n",
      "Looking for: /mnt/dataset/brick_kilns/raw_data/uttar_pradesh/27.83,77.64.png\n",
      "27.90,77.56\n",
      "Looking for: /mnt/dataset/brick_kilns/raw_data/uttar_pradesh/27.90,77.56.png\n",
      "27.06,83.47\n",
      "Looking for: /mnt/dataset/brick_kilns/raw_data/uttar_pradesh/27.06,83.47.png\n"
     ]
    },
    {
     "name": "stderr",
     "output_type": "stream",
     "text": [
      "Processing files:  83%|████████▎ | 340/409 [00:21<00:04, 14.71file/s]"
     ]
    },
    {
     "name": "stdout",
     "output_type": "stream",
     "text": [
      "28.07,79.12\n",
      "Looking for: /mnt/dataset/brick_kilns/raw_data/uttar_pradesh/28.07,79.12.png\n",
      "25.20,83.04\n",
      "Looking for: /mnt/dataset/brick_kilns/raw_data/uttar_pradesh/25.20,83.04.png\n",
      "27.53,79.44\n",
      "Looking for: /mnt/dataset/brick_kilns/raw_data/uttar_pradesh/27.53,79.44.png\n",
      "27.19,83.77\n",
      "Looking for: /mnt/dataset/brick_kilns/raw_data/uttar_pradesh/27.19,83.77.png\n"
     ]
    },
    {
     "name": "stderr",
     "output_type": "stream",
     "text": [
      "Processing files:  84%|████████▍ | 345/409 [00:21<00:03, 18.56file/s]"
     ]
    },
    {
     "name": "stdout",
     "output_type": "stream",
     "text": [
      "26.51,80.46\n",
      "Looking for: /mnt/dataset/brick_kilns/raw_data/uttar_pradesh/26.51,80.46.png\n",
      "31.46,75.97\n",
      "Looking for: /mnt/dataset/brick_kilns/raw_data/uttar_pradesh/31.46,75.97.png\n",
      "Looking for: /home/rishabh.mondal/Brick-Kilns-project/albk_rishabh/albk_v2/YOLO_LOCALIZATION/png_data/bihar/31.46,75.97.png\n",
      "Looking for: /home/rishabh.mondal/Brick-Kilns-project/albk_rishabh/albk_v2/YOLO_LOCALIZATION/png_data/haryana/31.46,75.97.png\n",
      "Looking for: /home/rishabh.mondal/Brick-Kilns-project/albk_rishabh/albk_v2/YOLO_LOCALIZATION/png_data/punjab/31.46,75.97.png\n",
      "27.78,77.74\n",
      "Looking for: /mnt/dataset/brick_kilns/raw_data/uttar_pradesh/27.78,77.74.png\n",
      "27.98,77.81\n",
      "Looking for: /mnt/dataset/brick_kilns/raw_data/uttar_pradesh/27.98,77.81.png\n",
      "27.88,77.75\n",
      "Looking for: /mnt/dataset/brick_kilns/raw_data/uttar_pradesh/27.88,77.75.png\n"
     ]
    },
    {
     "name": "stderr",
     "output_type": "stream",
     "text": [
      "Processing files:  85%|████████▍ | 347/409 [00:21<00:03, 17.55file/s]"
     ]
    },
    {
     "name": "stdout",
     "output_type": "stream",
     "text": [
      "26.85,82.66\n",
      "Looking for: /mnt/dataset/brick_kilns/raw_data/uttar_pradesh/26.85,82.66.png\n",
      "21.89,87.26\n",
      "Looking for: /mnt/dataset/brick_kilns/raw_data/uttar_pradesh/21.89,87.26.png\n",
      "Looking for: /home/rishabh.mondal/Brick-Kilns-project/albk_rishabh/albk_v2/YOLO_LOCALIZATION/png_data/bihar/21.89,87.26.png\n",
      "Looking for: /home/rishabh.mondal/Brick-Kilns-project/albk_rishabh/albk_v2/YOLO_LOCALIZATION/png_data/haryana/21.89,87.26.png\n",
      "Looking for: /home/rishabh.mondal/Brick-Kilns-project/albk_rishabh/albk_v2/YOLO_LOCALIZATION/png_data/punjab/21.89,87.26.png\n",
      "Looking for: /home/rishabh.mondal/Brick-Kilns-project/albk_rishabh/albk_v2/YOLO_LOCALIZATION/png_data/west_bengal/21.89,87.26.png\n",
      "26.91,83.03\n",
      "Looking for: /mnt/dataset/brick_kilns/raw_data/uttar_pradesh/26.91,83.03.png\n",
      "25.62,82.41\n",
      "Looking for: /mnt/dataset/brick_kilns/raw_data/uttar_pradesh/25.62,82.41.png\n"
     ]
    },
    {
     "name": "stderr",
     "output_type": "stream",
     "text": [
      "Processing files:  86%|████████▌ | 352/409 [00:22<00:03, 17.53file/s]"
     ]
    },
    {
     "name": "stdout",
     "output_type": "stream",
     "text": [
      "27.88,78.34\n",
      "Looking for: /mnt/dataset/brick_kilns/raw_data/uttar_pradesh/27.88,78.34.png\n",
      "26.80,78.97\n",
      "Looking for: /mnt/dataset/brick_kilns/raw_data/uttar_pradesh/26.80,78.97.png\n",
      "27.06,78.53\n",
      "Looking for: /mnt/dataset/brick_kilns/raw_data/uttar_pradesh/27.06,78.53.png\n",
      "27.53,78.01\n",
      "Looking for: /mnt/dataset/brick_kilns/raw_data/uttar_pradesh/27.53,78.01.png\n"
     ]
    },
    {
     "name": "stderr",
     "output_type": "stream",
     "text": [
      "Processing files:  87%|████████▋ | 356/409 [00:22<00:03, 17.28file/s]"
     ]
    },
    {
     "name": "stdout",
     "output_type": "stream",
     "text": [
      "25.44,81.64\n",
      "Looking for: /mnt/dataset/brick_kilns/raw_data/uttar_pradesh/25.44,81.64.png\n",
      "28.27,78.42\n",
      "Looking for: /mnt/dataset/brick_kilns/raw_data/uttar_pradesh/28.27,78.42.png\n",
      "25.14,83.54\n",
      "Looking for: /mnt/dataset/brick_kilns/raw_data/uttar_pradesh/25.14,83.54.png\n",
      "Looking for: /home/rishabh.mondal/Brick-Kilns-project/albk_rishabh/albk_v2/YOLO_LOCALIZATION/png_data/bihar/25.14,83.54.png\n",
      "26.69,80.84\n",
      "Looking for: /mnt/dataset/brick_kilns/raw_data/uttar_pradesh/26.69,80.84.png\n"
     ]
    },
    {
     "name": "stderr",
     "output_type": "stream",
     "text": [
      "Processing files:  88%|████████▊ | 359/409 [00:22<00:02, 18.67file/s]"
     ]
    },
    {
     "name": "stdout",
     "output_type": "stream",
     "text": [
      "29.29,78.58\n",
      "Looking for: /mnt/dataset/brick_kilns/raw_data/uttar_pradesh/29.29,78.58.png\n",
      "27.62,79.13\n",
      "Looking for: /mnt/dataset/brick_kilns/raw_data/uttar_pradesh/27.62,79.13.png\n",
      "26.77,79.05\n",
      "Looking for: /mnt/dataset/brick_kilns/raw_data/uttar_pradesh/26.77,79.05.png\n"
     ]
    },
    {
     "name": "stderr",
     "output_type": "stream",
     "text": [
      "Processing files:  89%|████████▉ | 363/409 [00:22<00:02, 16.58file/s]"
     ]
    },
    {
     "name": "stdout",
     "output_type": "stream",
     "text": [
      "27.15,80.39\n",
      "Looking for: /mnt/dataset/brick_kilns/raw_data/uttar_pradesh/27.15,80.39.png\n",
      "26.51,80.45\n",
      "Looking for: /mnt/dataset/brick_kilns/raw_data/uttar_pradesh/26.51,80.45.png\n",
      "27.12,81.99\n",
      "Looking for: /mnt/dataset/brick_kilns/raw_data/uttar_pradesh/27.12,81.99.png\n",
      "22.95,88.37\n",
      "Looking for: /mnt/dataset/brick_kilns/raw_data/uttar_pradesh/22.95,88.37.png\n",
      "Looking for: /home/rishabh.mondal/Brick-Kilns-project/albk_rishabh/albk_v2/YOLO_LOCALIZATION/png_data/bihar/22.95,88.37.png\n",
      "Looking for: /home/rishabh.mondal/Brick-Kilns-project/albk_rishabh/albk_v2/YOLO_LOCALIZATION/png_data/haryana/22.95,88.37.png\n",
      "Looking for: /home/rishabh.mondal/Brick-Kilns-project/albk_rishabh/albk_v2/YOLO_LOCALIZATION/png_data/punjab/22.95,88.37.png\n",
      "Looking for: /home/rishabh.mondal/Brick-Kilns-project/albk_rishabh/albk_v2/YOLO_LOCALIZATION/png_data/west_bengal/22.95,88.37.png\n",
      "25.86,81.14\n",
      "Looking for: /mnt/dataset/brick_kilns/raw_data/uttar_pradesh/25.86,81.14.png\n"
     ]
    },
    {
     "name": "stderr",
     "output_type": "stream",
     "text": [
      "Processing files:  90%|████████▉ | 368/409 [00:22<00:02, 17.27file/s]"
     ]
    },
    {
     "name": "stdout",
     "output_type": "stream",
     "text": [
      "25.77,82.17\n",
      "Looking for: /mnt/dataset/brick_kilns/raw_data/uttar_pradesh/25.77,82.17.png\n",
      "26.35,79.84\n",
      "Looking for: /mnt/dataset/brick_kilns/raw_data/uttar_pradesh/26.35,79.84.png\n",
      "26.93,78.42\n",
      "Looking for: /mnt/dataset/brick_kilns/raw_data/uttar_pradesh/26.93,78.42.png\n",
      "26.36,80.30\n",
      "Looking for: /mnt/dataset/brick_kilns/raw_data/uttar_pradesh/26.36,80.30.png\n"
     ]
    },
    {
     "name": "stderr",
     "output_type": "stream",
     "text": [
      "Processing files:  91%|█████████ | 372/409 [00:23<00:02, 16.43file/s]"
     ]
    },
    {
     "name": "stdout",
     "output_type": "stream",
     "text": [
      "27.75,78.87\n",
      "Looking for: /mnt/dataset/brick_kilns/raw_data/uttar_pradesh/27.75,78.87.png\n",
      "26.04,80.56\n",
      "Looking for: /mnt/dataset/brick_kilns/raw_data/uttar_pradesh/26.04,80.56.png\n",
      "27.63,78.51\n",
      "Looking for: /mnt/dataset/brick_kilns/raw_data/uttar_pradesh/27.63,78.51.png\n",
      "27.72,78.94\n",
      "Looking for: /mnt/dataset/brick_kilns/raw_data/uttar_pradesh/27.72,78.94.png\n"
     ]
    },
    {
     "name": "stderr",
     "output_type": "stream",
     "text": [
      "Processing files:  92%|█████████▏| 376/409 [00:23<00:02, 15.10file/s]"
     ]
    },
    {
     "name": "stdout",
     "output_type": "stream",
     "text": [
      "27.81,78.85\n",
      "Looking for: /mnt/dataset/brick_kilns/raw_data/uttar_pradesh/27.81,78.85.png\n",
      "26.85,80.33\n",
      "Looking for: /mnt/dataset/brick_kilns/raw_data/uttar_pradesh/26.85,80.33.png\n",
      "26.17,79.78\n",
      "Looking for: /mnt/dataset/brick_kilns/raw_data/uttar_pradesh/26.17,79.78.png\n"
     ]
    },
    {
     "name": "stderr",
     "output_type": "stream",
     "text": [
      "Processing files:  93%|█████████▎| 380/409 [00:23<00:01, 15.76file/s]"
     ]
    },
    {
     "name": "stdout",
     "output_type": "stream",
     "text": [
      "27.77,77.73\n",
      "Looking for: /mnt/dataset/brick_kilns/raw_data/uttar_pradesh/27.77,77.73.png\n",
      "27.77,78.19\n",
      "Looking for: /mnt/dataset/brick_kilns/raw_data/uttar_pradesh/27.77,78.19.png\n",
      "28.08,77.84\n",
      "Looking for: /mnt/dataset/brick_kilns/raw_data/uttar_pradesh/28.08,77.84.png\n",
      "27.11,80.12\n",
      "Looking for: /mnt/dataset/brick_kilns/raw_data/uttar_pradesh/27.11,80.12.png\n"
     ]
    },
    {
     "name": "stderr",
     "output_type": "stream",
     "text": [
      "Processing files:  94%|█████████▍| 384/409 [00:23<00:01, 15.68file/s]"
     ]
    },
    {
     "name": "stdout",
     "output_type": "stream",
     "text": [
      "25.87,84.05\n",
      "Looking for: /mnt/dataset/brick_kilns/raw_data/uttar_pradesh/25.87,84.05.png\n",
      "25.61,83.22\n",
      "Looking for: /mnt/dataset/brick_kilns/raw_data/uttar_pradesh/25.61,83.22.png\n",
      "27.85,81.48\n",
      "Looking for: /mnt/dataset/brick_kilns/raw_data/uttar_pradesh/27.85,81.48.png\n",
      "25.87,80.65\n",
      "Looking for: /mnt/dataset/brick_kilns/raw_data/uttar_pradesh/25.87,80.65.png\n"
     ]
    },
    {
     "name": "stderr",
     "output_type": "stream",
     "text": [
      "Processing files:  95%|█████████▍| 388/409 [00:24<00:01, 15.73file/s]"
     ]
    },
    {
     "name": "stdout",
     "output_type": "stream",
     "text": [
      "25.62,81.31\n",
      "Looking for: /mnt/dataset/brick_kilns/raw_data/uttar_pradesh/25.62,81.31.png\n",
      "27.92,78.32\n",
      "Looking for: /mnt/dataset/brick_kilns/raw_data/uttar_pradesh/27.92,78.32.png\n",
      "27.75,78.88\n",
      "Looking for: /mnt/dataset/brick_kilns/raw_data/uttar_pradesh/27.75,78.88.png\n",
      "26.93,78.40\n",
      "Looking for: /mnt/dataset/brick_kilns/raw_data/uttar_pradesh/26.93,78.40.png\n"
     ]
    },
    {
     "name": "stderr",
     "output_type": "stream",
     "text": [
      "Processing files:  95%|█████████▌| 390/409 [00:24<00:01, 15.62file/s]"
     ]
    },
    {
     "name": "stdout",
     "output_type": "stream",
     "text": [
      "25.84,83.65\n",
      "Looking for: /mnt/dataset/brick_kilns/raw_data/uttar_pradesh/25.84,83.65.png\n",
      "27.32,79.17\n",
      "Looking for: /mnt/dataset/brick_kilns/raw_data/uttar_pradesh/27.32,79.17.png\n",
      "25.24,81.96\n",
      "Looking for: /mnt/dataset/brick_kilns/raw_data/uttar_pradesh/25.24,81.96.png\n"
     ]
    },
    {
     "name": "stderr",
     "output_type": "stream",
     "text": [
      "Processing files:  96%|█████████▋| 394/409 [00:24<00:00, 15.31file/s]"
     ]
    },
    {
     "name": "stdout",
     "output_type": "stream",
     "text": [
      "25.21,82.61\n",
      "Looking for: /mnt/dataset/brick_kilns/raw_data/uttar_pradesh/25.21,82.61.png\n",
      "26.10,80.42\n",
      "Looking for: /mnt/dataset/brick_kilns/raw_data/uttar_pradesh/26.10,80.42.png\n",
      "26.22,80.29\n",
      "Looking for: /mnt/dataset/brick_kilns/raw_data/uttar_pradesh/26.22,80.29.png\n",
      "25.88,82.76\n",
      "Looking for: /mnt/dataset/brick_kilns/raw_data/uttar_pradesh/25.88,82.76.png\n"
     ]
    },
    {
     "name": "stderr",
     "output_type": "stream",
     "text": [
      "Processing files:  97%|█████████▋| 398/409 [00:24<00:00, 16.01file/s]"
     ]
    },
    {
     "name": "stdout",
     "output_type": "stream",
     "text": [
      "26.91,80.25\n",
      "Looking for: /mnt/dataset/brick_kilns/raw_data/uttar_pradesh/26.91,80.25.png\n",
      "25.36,81.57\n",
      "Looking for: /mnt/dataset/brick_kilns/raw_data/uttar_pradesh/25.36,81.57.png\n",
      "25.44,81.65\n",
      "Looking for: /mnt/dataset/brick_kilns/raw_data/uttar_pradesh/25.44,81.65.png\n",
      "27.89,77.83\n",
      "Looking for: /mnt/dataset/brick_kilns/raw_data/uttar_pradesh/27.89,77.83.png\n"
     ]
    },
    {
     "name": "stderr",
     "output_type": "stream",
     "text": [
      "Processing files:  99%|█████████▊| 403/409 [00:25<00:00, 18.91file/s]"
     ]
    },
    {
     "name": "stdout",
     "output_type": "stream",
     "text": [
      "21.92,87.26\n",
      "Looking for: /mnt/dataset/brick_kilns/raw_data/uttar_pradesh/21.92,87.26.png\n",
      "Looking for: /home/rishabh.mondal/Brick-Kilns-project/albk_rishabh/albk_v2/YOLO_LOCALIZATION/png_data/bihar/21.92,87.26.png\n",
      "Looking for: /home/rishabh.mondal/Brick-Kilns-project/albk_rishabh/albk_v2/YOLO_LOCALIZATION/png_data/haryana/21.92,87.26.png\n",
      "Looking for: /home/rishabh.mondal/Brick-Kilns-project/albk_rishabh/albk_v2/YOLO_LOCALIZATION/png_data/punjab/21.92,87.26.png\n",
      "Looking for: /home/rishabh.mondal/Brick-Kilns-project/albk_rishabh/albk_v2/YOLO_LOCALIZATION/png_data/west_bengal/21.92,87.26.png\n",
      "26.17,79.99\n",
      "Looking for: /mnt/dataset/brick_kilns/raw_data/uttar_pradesh/26.17,79.99.png\n",
      "27.21,78.42\n",
      "Looking for: /mnt/dataset/brick_kilns/raw_data/uttar_pradesh/27.21,78.42.png\n",
      "27.86,78.35\n",
      "Looking for: /mnt/dataset/brick_kilns/raw_data/uttar_pradesh/27.86,78.35.png\n",
      "26.24,79.77\n",
      "Looking for: /mnt/dataset/brick_kilns/raw_data/uttar_pradesh/26.24,79.77.png\n"
     ]
    },
    {
     "name": "stderr",
     "output_type": "stream",
     "text": [
      "Processing files: 100%|█████████▉| 407/409 [00:25<00:00, 17.26file/s]"
     ]
    },
    {
     "name": "stdout",
     "output_type": "stream",
     "text": [
      "26.78,81.11\n",
      "Looking for: /mnt/dataset/brick_kilns/raw_data/uttar_pradesh/26.78,81.11.png\n",
      "26.70,82.48\n",
      "Looking for: /mnt/dataset/brick_kilns/raw_data/uttar_pradesh/26.70,82.48.png\n",
      "28.50,79.38\n",
      "Looking for: /mnt/dataset/brick_kilns/raw_data/uttar_pradesh/28.50,79.38.png\n",
      "27.50,79.49\n",
      "Looking for: /mnt/dataset/brick_kilns/raw_data/uttar_pradesh/27.50,79.49.png\n"
     ]
    },
    {
     "name": "stderr",
     "output_type": "stream",
     "text": [
      "Processing files: 100%|██████████| 409/409 [00:25<00:00, 16.05file/s]"
     ]
    },
    {
     "name": "stdout",
     "output_type": "stream",
     "text": [
      "Total count of image files: 409\n"
     ]
    },
    {
     "name": "stderr",
     "output_type": "stream",
     "text": [
      "\n"
     ]
    }
   ],
   "source": [
    "import os\n",
    "from tqdm import tqdm\n",
    "\n",
    "data = \"/home/rishabh.mondal/Brick-Kilns-project/albk_rishabh/albk_v2/YOLO_LOCALIZATION/processed_data/multi_state_v1_labels_with_cfcbk/labels\"\n",
    "\n",
    "# List of image data directories\n",
    "image_data = [\n",
    "    \"/mnt/dataset/brick_kilns/raw_data/uttar_pradesh/\",\n",
    "    \"/home/rishabh.mondal/Brick-Kilns-project/albk_rishabh/albk_v2/YOLO_LOCALIZATION/png_data/bihar/\",\n",
    "    \"/home/rishabh.mondal/Brick-Kilns-project/albk_rishabh/albk_v2/YOLO_LOCALIZATION/png_data/haryana/\",\n",
    "    \"/home/rishabh.mondal/Brick-Kilns-project/albk_rishabh/albk_v2/YOLO_LOCALIZATION/png_data/punjab/\",\n",
    "    \"/home/rishabh.mondal/Brick-Kilns-project/albk_rishabh/albk_v2/YOLO_LOCALIZATION/png_data/west_bengal/\"\n",
    "]\n",
    "\n",
    "processed_data_dir = \"/home/rishabh.mondal/Brick-Kilns-project/albk_rishabh/albk_v2/YOLO_LOCALIZATION/processed_data/multi_state_v1_labels_with_cfcbk/images\"\n",
    "os.makedirs(processed_data_dir, exist_ok=True)\n",
    "\n",
    "# Get list of .txt files in the label directory\n",
    "txt_files = [f for f in os.listdir(data) if f.endswith('.txt')]\n",
    "print(txt_files)\n",
    "\n",
    "count_image = 0\n",
    "\n",
    "# Iterate over the .txt files\n",
    "for file in tqdm(txt_files, desc=\"Processing files\", unit=\"file\"):\n",
    "    # Extract lat and lon from the .txt file name (e.g., \"22.15,85.49.txt\")\n",
    "    lat, lon = map(float, file.replace('.txt', '').split(','))\n",
    "        \n",
    "    base_filename = file.replace('.txt', '')\n",
    "    print(base_filename)    \n",
    "\n",
    "    image_found = False\n",
    "    # Iterate over the directories in image_data\n",
    "    for image_dir in image_data:\n",
    "        image_file = os.path.join(image_dir, base_filename + '.png')\n",
    "        print(f\"Looking for: {image_file}\")\n",
    "        \n",
    "        if os.path.exists(image_file):\n",
    "            count_image += 1\n",
    "            os.system(f\"cp {image_file} {processed_data_dir}\")\n",
    "            image_found = True\n",
    "            break  # Stop searching once the image is found\n",
    "\n",
    "    if not image_found:\n",
    "        print(f\"Image file {base_filename}.png not found in any directory\")\n",
    "\n",
    "print(f\"Total count of image files: {count_image}\")"
   ]
  },
  {
   "cell_type": "code",
   "execution_count": null,
   "metadata": {},
   "outputs": [],
   "source": []
  }
 ],
 "metadata": {
  "kernelspec": {
   "display_name": "rishabh_sat",
   "language": "python",
   "name": "python3"
  },
  "language_info": {
   "codemirror_mode": {
    "name": "ipython",
    "version": 3
   },
   "file_extension": ".py",
   "mimetype": "text/x-python",
   "name": "python",
   "nbconvert_exporter": "python",
   "pygments_lexer": "ipython3",
   "version": "3.12.4"
  }
 },
 "nbformat": 4,
 "nbformat_minor": 2
}
