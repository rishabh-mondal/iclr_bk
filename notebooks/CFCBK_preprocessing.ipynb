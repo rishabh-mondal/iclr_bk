{
 "cells": [
  {
   "cell_type": "code",
   "execution_count": 2,
   "metadata": {},
   "outputs": [],
   "source": [
    "import os\n",
    "import shutil"
   ]
  },
  {
   "cell_type": "code",
   "execution_count": 3,
   "metadata": {},
   "outputs": [
    {
     "name": "stdout",
     "output_type": "stream",
     "text": [
      "Count of 0:  289\n",
      "Count of 1:  332\n",
      "Count of 2:  36\n"
     ]
    }
   ],
   "source": [
    "count_zero = 0\n",
    "count_one = 0\n",
    "count_two=0\n",
    "data = \"/home/rishabh.mondal/Brick-Kilns-project/albk_rishabh/albk_v2/YOLO_LOCALIZATION/predict/multi_state_train_data_v2_test_lucknow_sarath_grid_v2_obb_v2__1120_100/labels/\"\n",
    "for filename in os.listdir(data):\n",
    "    if filename.endswith('.txt'):\n",
    "        with open(data+filename,'r') as f:\n",
    "            for line in f:\n",
    "                values = line.split()\n",
    "                if values[0] == '0':\n",
    "                    count_zero += 1\n",
    "                elif values[0] == '1':\n",
    "                    count_one += 1\n",
    "                elif values[0] == '2':\n",
    "                    count_two +=1\n",
    "                else:\n",
    "                    print(\"Error\")\n",
    "\n",
    "print(\"Count of 0: \", count_zero)\n",
    "\n",
    "print(\"Count of 1: \", count_one)\n",
    "\n",
    "print(\"Count of 2: \", count_two)"
   ]
  },
  {
   "cell_type": "code",
   "execution_count": 4,
   "metadata": {},
   "outputs": [
    {
     "name": "stdout",
     "output_type": "stream",
     "text": [
      "Count of 0:  289\n",
      "Count of 1:  332\n",
      "Count of 2:  36\n"
     ]
    }
   ],
   "source": [
    "\n",
    "\n",
    "# Path to the directory containing the label files\n",
    "# data = \"/home/rishabh.mondal/Brick-Kilns-project/albk_rishabh/albk_v2/YOLO_LOCALIZATION/predict/train_amedabad_test_lucknow_sarath_grid_obb_v1__1120_100/images/labels\"\n",
    "\n",
    "# Path to the new directory for files with '2' in the first column\n",
    "new_directory = \"/home/rishabh.mondal/Brick-Kilns-project/albk_rishabh/albk_v2/YOLO_LOCALIZATION/processed_data/lucknow_labels_with_multi_state_v3/labels\"\n",
    "os.makedirs(new_directory, exist_ok=True)\n",
    "\n",
    "count_zero = 0\n",
    "count_one = 0\n",
    "count_two = 0\n",
    "\n",
    "# Process each file in the directory\n",
    "for filename in os.listdir(data):\n",
    "    if filename.endswith('.txt'):\n",
    "        file_path = os.path.join(data, filename)\n",
    "        with open(file_path, 'r') as f:\n",
    "            for line in f:\n",
    "                values = line.split()\n",
    "                if values[0] == '0':\n",
    "                    count_zero += 1\n",
    "                elif values[0] == '1':\n",
    "                    count_one += 1\n",
    "                elif values[0] == '2':\n",
    "                    count_two += 1\n",
    "                    shutil.copy(file_path, os.path.join(new_directory, filename))\n",
    "                  \n",
    "                else:\n",
    "                    print(\"Error in file:\", filename)\n",
    "\n",
    "# Print the counts\n",
    "print(\"Count of 0: \", count_zero)\n",
    "print(\"Count of 1: \", count_one)\n",
    "print(\"Count of 2: \", count_two)"
   ]
  },
  {
   "cell_type": "code",
   "execution_count": 6,
   "metadata": {},
   "outputs": [
    {
     "name": "stdout",
     "output_type": "stream",
     "text": [
      "Count of 0:  289\n",
      "Count of 1:  332\n",
      "Count of 2:  36\n"
     ]
    }
   ],
   "source": [
    "import os\n",
    "import shutil\n",
    "\n",
    "# Path to the directory containing the label files\n",
    "# data = \"/home/rishabh.mondal/Brick-Kilns-project/albk_rishabh/albk_v2/YOLO_LOCALIZATION/runs/obb/train_amedabad_circle_test_lucknow_sarath_grid_obb_v1_best.pt_1120_100/labels/\"\n",
    "\n",
    "# Path to the new directory for files with '2' in the first column\n",
    "new_directory = \"/home/rishabh.mondal/Brick-Kilns-project/albk_rishabh/albk_v2/YOLO_LOCALIZATION/processed_data/lucknow_labels_with_cfcbk_v2/labels/\"\n",
    "os.makedirs(new_directory, exist_ok=True)\n",
    "\n",
    "count_zero = 0\n",
    "count_one = 0\n",
    "count_two = 0\n",
    "\n",
    "# Process each file in the directory\n",
    "for filename in os.listdir(data):\n",
    "    if filename.endswith('.txt'):\n",
    "        file_path = os.path.join(data, filename)\n",
    "        new_file_path = os.path.join(new_directory, filename)\n",
    "\n",
    "        # List to store lines where values[0] == '2'\n",
    "        valid_lines = []\n",
    "\n",
    "        with open(file_path, 'r') as f:\n",
    "            for line in f:\n",
    "                values = line.split()\n",
    "                if values[0] == '0':\n",
    "                    count_zero += 1\n",
    "                elif values[0] == '1':\n",
    "                    count_one += 1\n",
    "                elif values[0] == '2':\n",
    "                    count_two += 1\n",
    "                    valid_lines.append(line)  # Keep only lines where values[0] == '2'\n",
    "                else:\n",
    "                    print(\"Error in file:\", filename)\n",
    "\n",
    "        if valid_lines:\n",
    "            with open(new_file_path, 'w') as new_file:\n",
    "                new_file.writelines(valid_lines)\n",
    "\n",
    "# Print the counts\n",
    "print(\"Count of 0: \", count_zero)\n",
    "print(\"Count of 1: \", count_one)\n",
    "print(\"Count of 2: \", count_two)"
   ]
  },
  {
   "cell_type": "code",
   "execution_count": null,
   "metadata": {},
   "outputs": [],
   "source": [
    "import os\n",
    "from tqdm import tqdm\n",
    "\n",
    "data = \"/home/rishabh.mondal/Brick-Kilns-project/albk_rishabh/albk_v2/YOLO_LOCALIZATION/processed_data/multi_state_v1_labels_with_cfcbk/labels\"\n",
    "\n",
    "# List of image data directories\n",
    "image_data = [\n",
    "    \"/mnt/dataset/brick_kilns/raw_data/uttar_pradesh/\",\n",
    "    \"/home/rishabh.mondal/Brick-Kilns-project/albk_rishabh/albk_v2/YOLO_LOCALIZATION/png_data/bihar/\",\n",
    "    \"/home/rishabh.mondal/Brick-Kilns-project/albk_rishabh/albk_v2/YOLO_LOCALIZATION/png_data/haryana/\",\n",
    "    \"/home/rishabh.mondal/Brick-Kilns-project/albk_rishabh/albk_v2/YOLO_LOCALIZATION/png_data/punjab/\",\n",
    "    \"/home/rishabh.mondal/Brick-Kilns-project/albk_rishabh/albk_v2/YOLO_LOCALIZATION/png_data/west_bengal/\"\n",
    "]\n",
    "\n",
    "processed_data_dir = \"/home/rishabh.mondal/Brick-Kilns-project/albk_rishabh/albk_v2/YOLO_LOCALIZATION/processed_data/multi_state_v1_labels_with_cfcbk/images\"\n",
    "os.makedirs(processed_data_dir, exist_ok=True)\n",
    "\n",
    "# Get list of .txt files in the label directory\n",
    "txt_files = [f for f in os.listdir(data) if f.endswith('.txt')]\n",
    "print(txt_files)\n",
    "\n",
    "count_image = 0\n",
    "\n",
    "# Iterate over the .txt files\n",
    "for file in tqdm(txt_files, desc=\"Processing files\", unit=\"file\"):\n",
    "    # Extract lat and lon from the .txt file name (e.g., \"22.15,85.49.txt\")\n",
    "    lat, lon = map(float, file.replace('.txt', '').split(','))\n",
    "        \n",
    "    base_filename = file.replace('.txt', '')\n",
    "    print(base_filename)    \n",
    "\n",
    "    image_found = False\n",
    "    # Iterate over the directories in image_data\n",
    "    for image_dir in image_data:\n",
    "        image_file = os.path.join(image_dir, base_filename + '.png')\n",
    "        print(f\"Looking for: {image_file}\")\n",
    "        \n",
    "        if os.path.exists(image_file):\n",
    "            count_image += 1\n",
    "            os.system(f\"cp {image_file} {processed_data_dir}\")\n",
    "            image_found = True\n",
    "            break  # Stop searching once the image is found\n",
    "\n",
    "    if not image_found:\n",
    "        print(f\"Image file {base_filename}.png not found in any directory\")\n",
    "\n",
    "print(f\"Total count of image files: {count_image}\")"
   ]
  },
  {
   "cell_type": "code",
   "execution_count": 7,
   "metadata": {},
   "outputs": [
    {
     "name": "stdout",
     "output_type": "stream",
     "text": [
      "Found 33 label files.\n"
     ]
    },
    {
     "name": "stderr",
     "output_type": "stream",
     "text": [
      "Processing files:   0%|          | 0/33 [00:00<?, ?file/s]"
     ]
    },
    {
     "name": "stderr",
     "output_type": "stream",
     "text": [
      "Processing files:  33%|███▎      | 11/33 [00:00<00:00, 105.92file/s]"
     ]
    },
    {
     "name": "stdout",
     "output_type": "stream",
     "text": [
      "Processing: 27.13,80.84\n",
      "Looking for: /home/rishabh.mondal/Brick-Kilns-project/albk_rishabh/albk_v2/YOLO_LOCALIZATION/png_data/lucknow_sarath_grid_v1/27.13,80.84.png\n",
      "Processing: 27.15,81.24\n",
      "Looking for: /home/rishabh.mondal/Brick-Kilns-project/albk_rishabh/albk_v2/YOLO_LOCALIZATION/png_data/lucknow_sarath_grid_v1/27.15,81.24.png\n",
      "Processing: 26.86,80.97\n",
      "Looking for: /home/rishabh.mondal/Brick-Kilns-project/albk_rishabh/albk_v2/YOLO_LOCALIZATION/png_data/lucknow_sarath_grid_v1/26.86,80.97.png\n",
      "Processing: 26.89,81.14\n",
      "Looking for: /home/rishabh.mondal/Brick-Kilns-project/albk_rishabh/albk_v2/YOLO_LOCALIZATION/png_data/lucknow_sarath_grid_v1/26.89,81.14.png\n",
      "Processing: 26.73,80.91\n",
      "Looking for: /home/rishabh.mondal/Brick-Kilns-project/albk_rishabh/albk_v2/YOLO_LOCALIZATION/png_data/lucknow_sarath_grid_v1/26.73,80.91.png\n",
      "Processing: 26.68,80.84\n",
      "Looking for: /home/rishabh.mondal/Brick-Kilns-project/albk_rishabh/albk_v2/YOLO_LOCALIZATION/png_data/lucknow_sarath_grid_v1/26.68,80.84.png\n",
      "Processing: 26.91,81.01\n",
      "Looking for: /home/rishabh.mondal/Brick-Kilns-project/albk_rishabh/albk_v2/YOLO_LOCALIZATION/png_data/lucknow_sarath_grid_v1/26.91,81.01.png\n",
      "Processing: 27.00,81.14\n",
      "Looking for: /home/rishabh.mondal/Brick-Kilns-project/albk_rishabh/albk_v2/YOLO_LOCALIZATION/png_data/lucknow_sarath_grid_v1/27.00,81.14.png\n",
      "Processing: 26.67,80.83\n",
      "Looking for: /home/rishabh.mondal/Brick-Kilns-project/albk_rishabh/albk_v2/YOLO_LOCALIZATION/png_data/lucknow_sarath_grid_v1/26.67,80.83.png\n",
      "Processing: 27.14,80.84\n",
      "Looking for: /home/rishabh.mondal/Brick-Kilns-project/albk_rishabh/albk_v2/YOLO_LOCALIZATION/png_data/lucknow_sarath_grid_v1/27.14,80.84.png\n",
      "Processing: 26.79,80.90\n",
      "Looking for: /home/rishabh.mondal/Brick-Kilns-project/albk_rishabh/albk_v2/YOLO_LOCALIZATION/png_data/lucknow_sarath_grid_v1/26.79,80.90.png\n",
      "Processing: 26.96,80.91\n",
      "Looking for: /home/rishabh.mondal/Brick-Kilns-project/albk_rishabh/albk_v2/YOLO_LOCALIZATION/png_data/lucknow_sarath_grid_v1/26.96,80.91.png\n",
      "Processing: 26.85,80.96\n",
      "Looking for: /home/rishabh.mondal/Brick-Kilns-project/albk_rishabh/albk_v2/YOLO_LOCALIZATION/png_data/lucknow_sarath_grid_v1/26.85,80.96.png\n",
      "Processing: 26.85,80.93\n",
      "Looking for: /home/rishabh.mondal/Brick-Kilns-project/albk_rishabh/albk_v2/YOLO_LOCALIZATION/png_data/lucknow_sarath_grid_v1/26.85,80.93.png\n",
      "Processing: 26.87,81.16\n",
      "Looking for: /home/rishabh.mondal/Brick-Kilns-project/albk_rishabh/albk_v2/YOLO_LOCALIZATION/png_data/lucknow_sarath_grid_v1/26.87,81.16.png\n",
      "Processing: 26.77,80.93\n",
      "Looking for: /home/rishabh.mondal/Brick-Kilns-project/albk_rishabh/albk_v2/YOLO_LOCALIZATION/png_data/lucknow_sarath_grid_v1/26.77,80.93.png\n",
      "Processing: 27.03,80.94\n",
      "Looking for: /home/rishabh.mondal/Brick-Kilns-project/albk_rishabh/albk_v2/YOLO_LOCALIZATION/png_data/lucknow_sarath_grid_v1/27.03,80.94.png\n",
      "Processing: 26.67,80.82\n",
      "Looking for: /home/rishabh.mondal/Brick-Kilns-project/albk_rishabh/albk_v2/YOLO_LOCALIZATION/png_data/lucknow_sarath_grid_v1/26.67,80.82.png\n",
      "Processing: 26.72,80.92\n",
      "Looking for: /home/rishabh.mondal/Brick-Kilns-project/albk_rishabh/albk_v2/YOLO_LOCALIZATION/png_data/lucknow_sarath_grid_v1/26.72,80.92.png\n",
      "Processing: 26.85,80.97\n",
      "Looking for: /home/rishabh.mondal/Brick-Kilns-project/albk_rishabh/albk_v2/YOLO_LOCALIZATION/png_data/lucknow_sarath_grid_v1/26.85,80.97.png\n",
      "Processing: 26.82,80.92\n",
      "Looking for: /home/rishabh.mondal/Brick-Kilns-project/albk_rishabh/albk_v2/YOLO_LOCALIZATION/png_data/lucknow_sarath_grid_v1/26.82,80.92.png\n"
     ]
    },
    {
     "name": "stderr",
     "output_type": "stream",
     "text": [
      "Processing files: 100%|██████████| 33/33 [00:00<00:00, 102.39file/s]"
     ]
    },
    {
     "name": "stdout",
     "output_type": "stream",
     "text": [
      "Processing: 26.81,81.02\n",
      "Looking for: /home/rishabh.mondal/Brick-Kilns-project/albk_rishabh/albk_v2/YOLO_LOCALIZATION/png_data/lucknow_sarath_grid_v1/26.81,81.02.png\n",
      "Processing: 26.68,80.95\n",
      "Looking for: /home/rishabh.mondal/Brick-Kilns-project/albk_rishabh/albk_v2/YOLO_LOCALIZATION/png_data/lucknow_sarath_grid_v1/26.68,80.95.png\n",
      "Processing: 26.74,81.17\n",
      "Looking for: /home/rishabh.mondal/Brick-Kilns-project/albk_rishabh/albk_v2/YOLO_LOCALIZATION/png_data/lucknow_sarath_grid_v1/26.74,81.17.png\n",
      "Processing: 26.68,80.83\n",
      "Looking for: /home/rishabh.mondal/Brick-Kilns-project/albk_rishabh/albk_v2/YOLO_LOCALIZATION/png_data/lucknow_sarath_grid_v1/26.68,80.83.png\n",
      "Processing: 26.66,80.83\n",
      "Looking for: /home/rishabh.mondal/Brick-Kilns-project/albk_rishabh/albk_v2/YOLO_LOCALIZATION/png_data/lucknow_sarath_grid_v1/26.66,80.83.png\n",
      "Processing: 26.69,80.95\n",
      "Looking for: /home/rishabh.mondal/Brick-Kilns-project/albk_rishabh/albk_v2/YOLO_LOCALIZATION/png_data/lucknow_sarath_grid_v1/26.69,80.95.png\n",
      "Processing: 26.79,80.91\n",
      "Looking for: /home/rishabh.mondal/Brick-Kilns-project/albk_rishabh/albk_v2/YOLO_LOCALIZATION/png_data/lucknow_sarath_grid_v1/26.79,80.91.png\n",
      "Processing: 26.81,81.18\n",
      "Looking for: /home/rishabh.mondal/Brick-Kilns-project/albk_rishabh/albk_v2/YOLO_LOCALIZATION/png_data/lucknow_sarath_grid_v1/26.81,81.18.png\n",
      "Processing: 26.69,80.84\n",
      "Looking for: /home/rishabh.mondal/Brick-Kilns-project/albk_rishabh/albk_v2/YOLO_LOCALIZATION/png_data/lucknow_sarath_grid_v1/26.69,80.84.png\n",
      "Processing: 27.00,80.93\n",
      "Looking for: /home/rishabh.mondal/Brick-Kilns-project/albk_rishabh/albk_v2/YOLO_LOCALIZATION/png_data/lucknow_sarath_grid_v1/27.00,80.93.png\n",
      "Processing: 26.78,81.11\n",
      "Looking for: /home/rishabh.mondal/Brick-Kilns-project/albk_rishabh/albk_v2/YOLO_LOCALIZATION/png_data/lucknow_sarath_grid_v1/26.78,81.11.png\n",
      "Processing: 27.04,80.91\n",
      "Looking for: /home/rishabh.mondal/Brick-Kilns-project/albk_rishabh/albk_v2/YOLO_LOCALIZATION/png_data/lucknow_sarath_grid_v1/27.04,80.91.png\n",
      "Total count of image files copied: 33\n"
     ]
    },
    {
     "name": "stderr",
     "output_type": "stream",
     "text": [
      "\n"
     ]
    }
   ],
   "source": [
    "import os\n",
    "from tqdm import tqdm\n",
    "\n",
    "# Path to label files\n",
    "data = \"/home/rishabh.mondal/Brick-Kilns-project/albk_rishabh/albk_v2/YOLO_LOCALIZATION/processed_data/lucknow_labels_with_cfcbk_v2/labels/\"\n",
    "\n",
    "# Path to the Sentinel image directory\n",
    "image_data = \"/home/rishabh.mondal/Brick-Kilns-project/albk_rishabh/albk_v2/YOLO_LOCALIZATION/png_data/lucknow_sarath_grid_v1/\"\n",
    "\n",
    "# Directory to store processed images\n",
    "processed_data_dir = \"/home/rishabh.mondal/Brick-Kilns-project/albk_rishabh/albk_v2/YOLO_LOCALIZATION/processed_data/lucknow_labels_with_cfcbk_v2/labels/images\"\n",
    "os.makedirs(processed_data_dir, exist_ok=True)\n",
    "\n",
    "# Get list of .txt files in the label directory\n",
    "txt_files = [f for f in os.listdir(data) if f.endswith('.txt')]\n",
    "print(f\"Found {len(txt_files)} label files.\")\n",
    "\n",
    "count_image = 0\n",
    "\n",
    "# Iterate over the .txt files\n",
    "for file in tqdm(txt_files, desc=\"Processing files\", unit=\"file\"):\n",
    "    # Extract lat and lon from the .txt file name (e.g., \"22.15,85.49.txt\")\n",
    "    base_filename = file.replace('.txt', '')\n",
    "    print(f\"Processing: {base_filename}\")\n",
    "\n",
    "    # Construct the expected image file path\n",
    "    image_file = os.path.join(image_data, base_filename + '.png')\n",
    "    print(f\"Looking for: {image_file}\")\n",
    "    \n",
    "    # Check if the image file exists\n",
    "    if os.path.exists(image_file):\n",
    "        count_image += 1\n",
    "        os.system(f\"cp {image_file} {processed_data_dir}\")\n",
    "    else:\n",
    "        print(f\"Image file {base_filename}.png not found.\")\n",
    "\n",
    "print(f\"Total count of image files copied: {count_image}\")"
   ]
  },
  {
   "cell_type": "code",
   "execution_count": 10,
   "metadata": {},
   "outputs": [
    {
     "ename": "FileNotFoundError",
     "evalue": "[Errno 2] No such file or directory: '/home/rishabh.mondal/Brick-Kilns-project/albk_rishabh/albk_v2/YOLO_LOCALIZATION/processed_data/labels/'",
     "output_type": "error",
     "traceback": [
      "\u001b[0;31m---------------------------------------------------------------------------\u001b[0m",
      "\u001b[0;31mFileNotFoundError\u001b[0m                         Traceback (most recent call last)",
      "Cell \u001b[0;32mIn[10], line 5\u001b[0m\n\u001b[1;32m      3\u001b[0m count_two\u001b[38;5;241m=\u001b[39m\u001b[38;5;241m0\u001b[39m\n\u001b[1;32m      4\u001b[0m data \u001b[38;5;241m=\u001b[39m \u001b[38;5;124m\"\u001b[39m\u001b[38;5;124m/home/rishabh.mondal/Brick-Kilns-project/albk_rishabh/albk_v2/YOLO_LOCALIZATION/processed_data/labels/\u001b[39m\u001b[38;5;124m\"\u001b[39m\n\u001b[0;32m----> 5\u001b[0m \u001b[38;5;28;01mfor\u001b[39;00m filename \u001b[38;5;129;01min\u001b[39;00m \u001b[43mos\u001b[49m\u001b[38;5;241;43m.\u001b[39;49m\u001b[43mlistdir\u001b[49m\u001b[43m(\u001b[49m\u001b[43mdata\u001b[49m\u001b[43m)\u001b[49m:\n\u001b[1;32m      6\u001b[0m     \u001b[38;5;28;01mif\u001b[39;00m filename\u001b[38;5;241m.\u001b[39mendswith(\u001b[38;5;124m'\u001b[39m\u001b[38;5;124m.txt\u001b[39m\u001b[38;5;124m'\u001b[39m):\n\u001b[1;32m      7\u001b[0m         file_path \u001b[38;5;241m=\u001b[39m os\u001b[38;5;241m.\u001b[39mpath\u001b[38;5;241m.\u001b[39mjoin(data, filename)\n",
      "\u001b[0;31mFileNotFoundError\u001b[0m: [Errno 2] No such file or directory: '/home/rishabh.mondal/Brick-Kilns-project/albk_rishabh/albk_v2/YOLO_LOCALIZATION/processed_data/labels/'"
     ]
    }
   ],
   "source": [
    "count_zero = 0\n",
    "count_one = 0\n",
    "count_two=0\n",
    "data = \"/home/rishabh.mondal/Brick-Kilns-project/albk_rishabh/albk_v2/YOLO_LOCALIZATION/processed_data/labels/\"\n",
    "for filename in os.listdir(data):\n",
    "    if filename.endswith('.txt'):\n",
    "        file_path = os.path.join(data, filename)\n",
    "        modified_lines = []\n",
    "        with open(data+filename,'r') as f:\n",
    "            for line in f:\n",
    "                values = line.split()\n",
    "                if values[0] == '0':\n",
    "                    count_zero += 1\n",
    "                    #set  the value to 2\n",
    "                    values[0] = '2'\n",
    "                modified_lines.append(\" \".join(values) + \"\\n\")\n",
    "\n",
    "    with open(file_path, 'w') as f:\n",
    "            f.writelines(modified_lines)\n",
    "print(\"Count of 0: \", count_zero)\n",
    "\n",
    "print(\"Count of 1: \", count_one)\n",
    "\n",
    "print(\"Count of 2: \", count_two)"
   ]
  },
  {
   "cell_type": "code",
   "execution_count": 15,
   "metadata": {},
   "outputs": [
    {
     "name": "stdout",
     "output_type": "stream",
     "text": [
      "Fold 1: 249 training samples, 84 validation samples\n",
      "Fold 2: 250 training samples, 83 validation samples\n",
      "Fold 3: 250 training samples, 83 validation samples\n",
      "Fold 4: 250 training samples, 83 validation samples\n"
     ]
    }
   ],
   "source": [
    "# 4 fold cross validation\n",
    "import os\n",
    "from sklearn.model_selection import KFold\n",
    "import shutil\n",
    "\n",
    "# Paths to image and label directories\n",
    "image_dir = \"/home/rishabh.mondal/Brick-Kilns-project/albk_rishabh/albk_v2/YOLO_LOCALIZATION/processed_data_sentinel/lucknow_sarth_grid_v2/images\"\n",
    "label_dir = \"/home/rishabh.mondal/Brick-Kilns-project/albk_rishabh/albk_v2/YOLO_LOCALIZATION/processed_data_sentinel/lucknow_sarth_grid_v2/labels\"\n",
    "\n",
    "# Destination directory for cross-validation folds\n",
    "cv_dir = \"/home/rishabh.mondal/Brick-Kilns-project/albk_rishabh/albk_v2/YOLO_LOCALIZATION/processed_data_sentinel/cross_val_sentinel_v1/\"\n",
    "os.makedirs(cv_dir, exist_ok=True)\n",
    "\n",
    "# Get matching image and label files\n",
    "image_files = sorted([f for f in os.listdir(image_dir) if f.endswith('.png')])\n",
    "label_files = sorted([f for f in os.listdir(label_dir) if f.endswith('.txt')])\n",
    "\n",
    "# Check if image and label base names match\n",
    "image_base_names = [os.path.splitext(f)[0] for f in image_files]\n",
    "label_base_names = [os.path.splitext(f)[0] for f in label_files]\n",
    "\n",
    "# Ensure image and label files match before proceeding\n",
    "if image_base_names != label_base_names:\n",
    "    print(\"Error: Image and label files do not match!\")\n",
    "else:\n",
    "    # Combine image and label pairs\n",
    "    data_pairs = [(os.path.join(image_dir, img), os.path.join(label_dir, lbl)) \n",
    "                  for img, lbl in zip(image_files, label_files)]\n",
    "    \n",
    "    # Initialize KFold with 4 splits\n",
    "    kf = KFold(n_splits=4, shuffle=True, random_state=42)\n",
    "\n",
    "    fold = 1\n",
    "    for train_idx, val_idx in kf.split(data_pairs):\n",
    "        # Create directories for this fold\n",
    "        fold_dir = os.path.join(cv_dir, f'{fold}')\n",
    "        train_image_dir = os.path.join(fold_dir, 'train', 'images')\n",
    "        train_label_dir = os.path.join(fold_dir, 'train', 'labels')\n",
    "        val_image_dir = os.path.join(fold_dir, 'test', 'images')\n",
    "        val_label_dir = os.path.join(fold_dir, 'test', 'labels')\n",
    "\n",
    "        os.makedirs(train_image_dir, exist_ok=True)\n",
    "        os.makedirs(train_label_dir, exist_ok=True)\n",
    "        os.makedirs(val_image_dir, exist_ok=True)\n",
    "        os.makedirs(val_label_dir, exist_ok=True)\n",
    "\n",
    "        # Copy training files\n",
    "        for idx in train_idx:\n",
    "            img_file, lbl_file = data_pairs[idx]\n",
    "            shutil.copy(img_file, train_image_dir)\n",
    "            shutil.copy(lbl_file, train_label_dir)\n",
    "\n",
    "        # Copy validation files\n",
    "        for idx in val_idx:\n",
    "            img_file, lbl_file = data_pairs[idx]\n",
    "            shutil.copy(img_file, val_image_dir)\n",
    "            shutil.copy(lbl_file, val_label_dir)\n",
    "\n",
    "        print(f\"Fold {fold}: {len(train_idx)} training samples, {len(val_idx)} validation samples\")\n",
    "        fold += 1"
   ]
  },
  {
   "cell_type": "code",
   "execution_count": null,
   "metadata": {},
   "outputs": [],
   "source": []
  }
 ],
 "metadata": {
  "kernelspec": {
   "display_name": "rishabh_sat",
   "language": "python",
   "name": "python3"
  },
  "language_info": {
   "codemirror_mode": {
    "name": "ipython",
    "version": 3
   },
   "file_extension": ".py",
   "mimetype": "text/x-python",
   "name": "python",
   "nbconvert_exporter": "python",
   "pygments_lexer": "ipython3",
   "version": "3.12.4"
  }
 },
 "nbformat": 4,
 "nbformat_minor": 2
}
