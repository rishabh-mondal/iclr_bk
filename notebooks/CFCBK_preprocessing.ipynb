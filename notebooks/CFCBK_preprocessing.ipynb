{
 "cells": [
  {
   "cell_type": "code",
   "execution_count": 9,
   "metadata": {},
   "outputs": [
    {
     "name": "stdout",
     "output_type": "stream",
     "text": [
      "Count of 0:  33\n",
      "Count of 1:  0\n",
      "Count of 2:  27\n"
     ]
    }
   ],
   "source": [
    "import os\n",
    "import shutil\n",
    "\n",
    "# Path to the directory containing the label files\n",
    "data = \"/home/rishabh.mondal/Brick-Kilns-project/albk_rishabh/albk_v2/YOLO_LOCALIZATION/predict/train_amedabad_test_lucknow_sarath_grid_obb_v1__1120_100/images/labels\"\n",
    "\n",
    "# Path to the new directory for files with '2' in the first column\n",
    "new_directory = \"/home/rishabh.mondal/Brick-Kilns-project/albk_rishabh/albk_v2/YOLO_LOCALIZATION/processed_data/lucknow_labels_with_cfcbk/labels\"\n",
    "os.makedirs(new_directory, exist_ok=True)\n",
    "\n",
    "count_zero = 0\n",
    "count_one = 0\n",
    "count_two = 0\n",
    "\n",
    "# Process each file in the directory\n",
    "for filename in os.listdir(data):\n",
    "    if filename.endswith('.txt'):\n",
    "        file_path = os.path.join(data, filename)\n",
    "        with open(file_path, 'r') as f:\n",
    "            for line in f:\n",
    "                values = line.split()\n",
    "                if values[0] == '0':\n",
    "                    count_zero += 1\n",
    "                elif values[0] == '1':\n",
    "                    count_one += 1\n",
    "                elif values[0] == '2':\n",
    "                    count_two += 1\n",
    "                    shutil.copy(file_path, os.path.join(new_directory, filename))\n",
    "                  \n",
    "                else:\n",
    "                    print(\"Error in file:\", filename)\n",
    "\n",
    "# Print the counts\n",
    "print(\"Count of 0: \", count_zero)\n",
    "print(\"Count of 1: \", count_one)\n",
    "print(\"Count of 2: \", count_two)"
   ]
  },
  {
   "cell_type": "code",
   "execution_count": 10,
   "metadata": {},
   "outputs": [
    {
     "name": "stdout",
     "output_type": "stream",
     "text": [
      "Count of 0:  33\n",
      "Count of 1:  0\n",
      "Count of 2:  27\n"
     ]
    }
   ],
   "source": [
    "import os\n",
    "import shutil\n",
    "\n",
    "# Path to the directory containing the label files\n",
    "# data = \"/home/rishabh.mondal/Brick-Kilns-project/albk_rishabh/albk_v2/YOLO_LOCALIZATION/runs/obb/train_amedabad_circle_test_lucknow_sarath_grid_obb_v1_best.pt_1120_100/labels/\"\n",
    "\n",
    "# Path to the new directory for files with '2' in the first column\n",
    "new_directory = \"/home/rishabh.mondal/Brick-Kilns-project/albk_rishabh/albk_v2/YOLO_LOCALIZATION/processed_data/lucknow_labels_with_cfcbk/\"\n",
    "os.makedirs(new_directory, exist_ok=True)\n",
    "\n",
    "count_zero = 0\n",
    "count_one = 0\n",
    "count_two = 0\n",
    "\n",
    "# Process each file in the directory\n",
    "for filename in os.listdir(data):\n",
    "    if filename.endswith('.txt'):\n",
    "        file_path = os.path.join(data, filename)\n",
    "        new_file_path = os.path.join(new_directory, filename)\n",
    "\n",
    "        # List to store lines where values[0] == '2'\n",
    "        valid_lines = []\n",
    "\n",
    "        with open(file_path, 'r') as f:\n",
    "            for line in f:\n",
    "                values = line.split()\n",
    "                if values[0] == '0':\n",
    "                    count_zero += 1\n",
    "                elif values[0] == '1':\n",
    "                    count_one += 1\n",
    "                elif values[0] == '2':\n",
    "                    count_two += 1\n",
    "                    valid_lines.append(line)  # Keep only lines where values[0] == '2'\n",
    "                else:\n",
    "                    print(\"Error in file:\", filename)\n",
    "\n",
    "        # Write the filtered lines to a new file if it has lines with '2'\n",
    "        if valid_lines:\n",
    "            with open(new_file_path, 'w') as new_file:\n",
    "                new_file.writelines(valid_lines)\n",
    "\n",
    "# Print the counts\n",
    "print(\"Count of 0: \", count_zero)\n",
    "print(\"Count of 1: \", count_one)\n",
    "print(\"Count of 2: \", count_two)"
   ]
  },
  {
   "cell_type": "code",
   "execution_count": null,
   "metadata": {},
   "outputs": [],
   "source": []
  }
 ],
 "metadata": {
  "kernelspec": {
   "display_name": "rishabh_sat",
   "language": "python",
   "name": "python3"
  },
  "language_info": {
   "codemirror_mode": {
    "name": "ipython",
    "version": 3
   },
   "file_extension": ".py",
   "mimetype": "text/x-python",
   "name": "python",
   "nbconvert_exporter": "python",
   "pygments_lexer": "ipython3",
   "version": "3.12.4"
  }
 },
 "nbformat": 4,
 "nbformat_minor": 2
}
