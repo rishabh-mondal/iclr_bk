{
 "cells": [
  {
   "cell_type": "code",
   "execution_count": 1,
   "metadata": {},
   "outputs": [],
   "source": [
    "import numpy as np\n",
    "from glob import glob \n",
    "import os\n",
    "from garuda.ops import obb_iou"
   ]
  },
  {
   "cell_type": "code",
   "execution_count": 2,
   "metadata": {},
   "outputs": [],
   "source": [
    "# old_directory = '/home/shataxi.dubey/shataxi_work/gujarat_brick_kilns/ahmedabad_10km_buffer_ground_truth_labels'\n",
    "# new_directory = '/home/shataxi.dubey/shataxi_work/gujarat_brick_kilns/predict/ahmedabad_obb_v1__1120_300/ahmedabad_10km_buffer_images2/labels'\n",
    "\n",
    "old_directory = '/home/rishabh.mondal/Brick-Kilns-project/albk_rishabh/albk_v2/YOLO_LOCALIZATION/processed_data/multi_state_data_v2/labels'\n",
    "new_directory = '/home/shataxi.dubey/shataxi_work/yolo_performance_on_empty_label_files/predict/test_lucknow_fold1_obb_v3__1120_100/lucknow_fold1/labels'\n",
    "\n",
    "is_old_pred = False # is_old_pred = True when old directory contains predictions otherwise False\n",
    "is_new_pred = True  # is_new_pred = True when new directory contains predictions otherwise False\n",
    "\n",
    "old_files = glob(f'{old_directory}/*')\n",
    "new_files = glob(f'{new_directory}/*')"
   ]
  },
  {
   "cell_type": "code",
   "execution_count": 3,
   "metadata": {},
   "outputs": [],
   "source": [
    "def drop_extra_matches(matches: np.ndarray) -> np.ndarray: #copied from supervision\n",
    "    \"\"\"\n",
    "    Deduplicate matches. If there are multiple matches for the same true or\n",
    "    predicted box, only the one with the highest IoU is kept.\n",
    "    \"\"\"\n",
    "    if matches.shape[0] > 0:\n",
    "        matches = matches[matches[:, 2].argsort()[::-1]]\n",
    "        matches = matches[np.unique(matches[:, 1], return_index=True)[1]]\n",
    "        matches = matches[matches[:, 2].argsort()[::-1]]\n",
    "        matches = matches[np.unique(matches[:, 0], return_index=True)[1]]\n",
    "    return matches"
   ]
  },
  {
   "cell_type": "code",
   "execution_count": 4,
   "metadata": {},
   "outputs": [],
   "source": [
    "files_not_present_previously = []\n",
    "files_with_diff_num_boxes = []\n",
    "files_with_incorrect_class = []"
   ]
  },
  {
   "cell_type": "code",
   "execution_count": 5,
   "metadata": {},
   "outputs": [],
   "source": [
    "for new_file in new_files:\n",
    "    new_fname = os.path.basename(new_file)\n",
    "    old_file = os.path.join(old_directory,new_fname)\n",
    "    # check if file exists\n",
    "    if os.path.exists(old_file):\n",
    "        new_labels = np.loadtxt(new_file,ndmin=2)\n",
    "        old_labels = np.loadtxt(old_file,ndmin=2)\n",
    "        # check if number of prediction matches\n",
    "        if len(new_labels) == len(old_labels):\n",
    "            if is_old_pred:\n",
    "                old_boxes = old_labels[:,1:-1].astype(np.float32)\n",
    "            else:\n",
    "                old_boxes = old_labels[:,1:].astype(np.float32)\n",
    "            if is_new_pred:\n",
    "                new_boxes = new_labels[:,1:-1].astype(np.float32)\n",
    "            else:\n",
    "                new_boxes = new_labels[:,1:].astype(np.float32)\n",
    "            # print(new_boxes, old_boxes)\n",
    "            iou = obb_iou(new_boxes, old_boxes)\n",
    "            # print(iou)\n",
    "            matched_idx = np.asarray(iou > 0.9).nonzero() \n",
    "            # print(matched_idx)\n",
    "            matches = np.stack(\n",
    "                (matched_idx[0], matched_idx[1], iou[matched_idx]), axis=1\n",
    "            )\n",
    "            matches = drop_extra_matches(matches=matches)\n",
    "            # print(matches)\n",
    "\n",
    "            for box_match in matches:\n",
    "                # check if class matches\n",
    "                if new_labels[int(box_match[0])][0] != old_labels[int(box_match[1])][0]:\n",
    "                #     print('Box matches')\n",
    "                # else:\n",
    "                    # print('Box does not match. Add it for hand validation')\n",
    "                    files_with_incorrect_class.append(new_file)\n",
    "        else:\n",
    "            # print('Box does not match. Add it for hand validation')\n",
    "            files_with_diff_num_boxes.append(new_file)\n",
    "    else:\n",
    "        # print('Box does not match. Add it for hand validation')\n",
    "        files_not_present_previously.append(new_file)\n",
    "    # break"
   ]
  },
  {
   "cell_type": "code",
   "execution_count": 6,
   "metadata": {},
   "outputs": [
    {
     "data": {
      "text/plain": [
       "['/home/shataxi.dubey/shataxi_work/yolo_performance_on_empty_label_files/predict/test_lucknow_fold1_obb_v3__1120_100/lucknow_fold1/labels/26.88,81.11.txt',\n",
       " '/home/shataxi.dubey/shataxi_work/yolo_performance_on_empty_label_files/predict/test_lucknow_fold1_obb_v3__1120_100/lucknow_fold1/labels/27.14,80.74.txt',\n",
       " '/home/shataxi.dubey/shataxi_work/yolo_performance_on_empty_label_files/predict/test_lucknow_fold1_obb_v3__1120_100/lucknow_fold1/labels/27.15,81.23.txt']"
      ]
     },
     "execution_count": 6,
     "metadata": {},
     "output_type": "execute_result"
    }
   ],
   "source": [
    "files_with_incorrect_class"
   ]
  },
  {
   "cell_type": "code",
   "execution_count": 11,
   "metadata": {},
   "outputs": [
    {
     "data": {
      "text/plain": [
       "['/home/shataxi.dubey/shataxi_work/yolo_performance_on_empty_label_files/predict/test_lucknow_fold1_obb_v3__1120_100/lucknow_fold1/labels/26.95,80.88.txt',\n",
       " '/home/shataxi.dubey/shataxi_work/yolo_performance_on_empty_label_files/predict/test_lucknow_fold1_obb_v3__1120_100/lucknow_fold1/labels/26.92,81.04.txt',\n",
       " '/home/shataxi.dubey/shataxi_work/yolo_performance_on_empty_label_files/predict/test_lucknow_fold1_obb_v3__1120_100/lucknow_fold1/labels/26.70,81.19.txt',\n",
       " '/home/shataxi.dubey/shataxi_work/yolo_performance_on_empty_label_files/predict/test_lucknow_fold1_obb_v3__1120_100/lucknow_fold1/labels/26.71,81.18.txt',\n",
       " '/home/shataxi.dubey/shataxi_work/yolo_performance_on_empty_label_files/predict/test_lucknow_fold1_obb_v3__1120_100/lucknow_fold1/labels/26.73,81.14.txt']"
      ]
     },
     "execution_count": 11,
     "metadata": {},
     "output_type": "execute_result"
    }
   ],
   "source": [
    "files_with_diff_num_boxes[:5]"
   ]
  },
  {
   "cell_type": "code",
   "execution_count": 7,
   "metadata": {},
   "outputs": [
    {
     "data": {
      "text/plain": [
       "42"
      ]
     },
     "execution_count": 7,
     "metadata": {},
     "output_type": "execute_result"
    }
   ],
   "source": [
    "len(files_with_diff_num_boxes)"
   ]
  },
  {
   "cell_type": "code",
   "execution_count": 8,
   "metadata": {},
   "outputs": [
    {
     "data": {
      "text/plain": [
       "0"
      ]
     },
     "execution_count": 8,
     "metadata": {},
     "output_type": "execute_result"
    }
   ],
   "source": [
    "len(files_not_present_previously)"
   ]
  },
  {
   "cell_type": "code",
   "execution_count": 9,
   "metadata": {},
   "outputs": [
    {
     "name": "stdout",
     "output_type": "stream",
     "text": [
      "Number of files to handvalidate:  45\n"
     ]
    }
   ],
   "source": [
    "handvalidate_files = files_with_incorrect_class + files_with_diff_num_boxes + files_not_present_previously\n",
    "print('Number of files to handvalidate: ',len(handvalidate_files))"
   ]
  },
  {
   "cell_type": "code",
   "execution_count": 10,
   "metadata": {},
   "outputs": [
    {
     "data": {
      "text/plain": [
       "['/home/shataxi.dubey/shataxi_work/yolo_performance_on_empty_label_files/predict/test_lucknow_fold1_obb_v3__1120_100/lucknow_fold1/labels/26.88,81.11.txt',\n",
       " '/home/shataxi.dubey/shataxi_work/yolo_performance_on_empty_label_files/predict/test_lucknow_fold1_obb_v3__1120_100/lucknow_fold1/labels/27.14,80.74.txt',\n",
       " '/home/shataxi.dubey/shataxi_work/yolo_performance_on_empty_label_files/predict/test_lucknow_fold1_obb_v3__1120_100/lucknow_fold1/labels/27.15,81.23.txt',\n",
       " '/home/shataxi.dubey/shataxi_work/yolo_performance_on_empty_label_files/predict/test_lucknow_fold1_obb_v3__1120_100/lucknow_fold1/labels/26.95,80.88.txt',\n",
       " '/home/shataxi.dubey/shataxi_work/yolo_performance_on_empty_label_files/predict/test_lucknow_fold1_obb_v3__1120_100/lucknow_fold1/labels/26.92,81.04.txt']"
      ]
     },
     "execution_count": 10,
     "metadata": {},
     "output_type": "execute_result"
    }
   ],
   "source": [
    "handvalidate_files[:5]"
   ]
  }
 ],
 "metadata": {
  "kernelspec": {
   "display_name": "shataxi_space",
   "language": "python",
   "name": "python3"
  },
  "language_info": {
   "codemirror_mode": {
    "name": "ipython",
    "version": 3
   },
   "file_extension": ".py",
   "mimetype": "text/x-python",
   "name": "python",
   "nbconvert_exporter": "python",
   "pygments_lexer": "ipython3",
   "version": "3.11.5"
  }
 },
 "nbformat": 4,
 "nbformat_minor": 2
}
