{
 "cells": [
  {
   "cell_type": "code",
   "execution_count": 1,
   "metadata": {},
   "outputs": [
    {
     "name": "stdout",
     "output_type": "stream",
     "text": [
      "First column updated in all .txt files where necessary.\n"
     ]
    }
   ],
   "source": [
    "import os\n",
    "\n",
    "data = \"/home/rishabh.mondal/Brick-Kilns-project/albk_rishabh/albk_v2/YOLO_LOCALIZATION/processed_data/amedabad_10_km_buffer_data/labels/\"\n",
    "\n",
    "for filename in os.listdir(data):\n",
    "    if filename.endswith('.txt'):\n",
    "        filepath = os.path.join(data, filename)\n",
    "        \n",
    "        with open(filepath, 'r') as f:\n",
    "            lines = f.readlines()\n",
    "        \n",
    "        modified_lines = []\n",
    "        \n",
    "        for line in lines:\n",
    "            values = line.strip().split()\n",
    "            # Change the first column from '2' to '0' if it's 2\n",
    "            if values[0] == '2':\n",
    "                values[0] = '0'\n",
    "            # Keep the entire line unchanged except for the first column modification\n",
    "            modified_line = \" \".join(values)\n",
    "            modified_lines.append(modified_line)\n",
    "        \n",
    "        # Write the modified lines back to the file\n",
    "        with open(filepath, 'w') as f:\n",
    "            f.write(\"\\n\".join(modified_lines) + \"\\n\")\n",
    "\n",
    "print(\"First column updated in all .txt files where necessary.\")"
   ]
  },
  {
   "cell_type": "code",
   "execution_count": null,
   "metadata": {},
   "outputs": [],
   "source": []
  }
 ],
 "metadata": {
  "kernelspec": {
   "display_name": "rishabh_sat",
   "language": "python",
   "name": "python3"
  },
  "language_info": {
   "codemirror_mode": {
    "name": "ipython",
    "version": 3
   },
   "file_extension": ".py",
   "mimetype": "text/x-python",
   "name": "python",
   "nbconvert_exporter": "python",
   "pygments_lexer": "ipython3",
   "version": "3.12.4"
  }
 },
 "nbformat": 4,
 "nbformat_minor": 2
}
