{
 "cells": [
  {
   "cell_type": "code",
   "execution_count": 58,
   "metadata": {},
   "outputs": [],
   "source": [
    "import pdfplumber\n",
    "import pandas as pd\n",
    "pdf=\"/home/rishabh.mondal/Brick-Kilns-project/albk_rishabh/albk_v2/YOLO_LOCALIZATION/ICLR_Tasks/data/uppcb_report_2023_v1.pdf\"\n",
    "# Open the PDF file\n",
    "with pdfplumber.open(pdf) as pdf:\n",
    "    # Extract text from each page\n",
    "    data = []\n",
    "    for page in pdf.pages:\n",
    "        # Extract table data\n",
    "        table = page.extract_table()\n",
    "        if table:\n",
    "            for row in table:\n",
    "                data.append(row)\n",
    "\n",
    "# Convert list of lists into a DataFrame\n",
    "df = pd.DataFrame(data[1:], columns=data[0])  # Assuming the first row is the header\n",
    "\n",
    "# Save DataFrame to Excel\n",
    "df.to_excel(\"output.xlsx\", index=False)"
   ]
  },
  {
   "cell_type": "code",
   "execution_count": 71,
   "metadata": {},
   "outputs": [
    {
     "name": "stdout",
     "output_type": "stream",
     "text": [
      "    District  Number of Brick Kilns\n",
      "0  PRAYAGRAJ                    688\n",
      "1   Azamgarh                    667\n",
      "2    Aligarh                    601\n",
      "3   District                    600\n",
      "4    Baghpat                    550\n",
      "20317\n"
     ]
    }
   ],
   "source": [
    "data = pd.read_csv('brick_kilns_by_district.csv')\n",
    "print(data.head())\n",
    "#sum the number of brick kilns\n",
    "total_brick_kilns = data['Number of Brick Kilns'].sum()\n",
    "print(total_brick_kilns)"
   ]
  },
  {
   "cell_type": "code",
   "execution_count": 73,
   "metadata": {},
   "outputs": [
    {
     "name": "stdout",
     "output_type": "stream",
     "text": [
      "         District  Number of Brick Kilns\n",
      "0       PRAYAGRAJ                    688\n",
      "1        Azamgarh                    667\n",
      "2         Aligarh                    601\n",
      "3        District                    600\n",
      "4         Baghpat                    550\n",
      "5         Jaunpur                    548\n",
      "6        FATEHPUR                    484\n",
      "7        Ghazipur                    457\n",
      "8       Gorakhpur                    449\n",
      "9         Sambhal                    416\n",
      "10       Varanasi                    415\n",
      "11      Raebareli                    410\n",
      "12     Bulandshar                    410\n",
      "13         Hardoi                    396\n",
      "14            Mau                    389\n",
      "15         Ballia                    375\n",
      "17       Mirzapur                    363\n",
      "16         Deoria                    363\n",
      "18     Pratapgarh                    359\n",
      "19  Muzaffarnagar                    346\n",
      "20    Maharajganj                    342\n",
      "21        Bijnore                    337\n",
      "22        Mathura                    329\n",
      "23      Moradabad                    324\n",
      "24       Bareilly                    315\n"
     ]
    }
   ],
   "source": [
    "#sort the data by number of brick kilns in descending order\n",
    "data_sorted = data.sort_values(by='Number of Brick Kilns', ascending=False)\n",
    "print(data_sorted.head(25))"
   ]
  },
  {
   "cell_type": "code",
   "execution_count": null,
   "metadata": {},
   "outputs": [],
   "source": []
  }
 ],
 "metadata": {
  "kernelspec": {
   "display_name": "rishabh_sat",
   "language": "python",
   "name": "python3"
  },
  "language_info": {
   "codemirror_mode": {
    "name": "ipython",
    "version": 3
   },
   "file_extension": ".py",
   "mimetype": "text/x-python",
   "name": "python",
   "nbconvert_exporter": "python",
   "pygments_lexer": "ipython3",
   "version": "3.12.4"
  }
 },
 "nbformat": 4,
 "nbformat_minor": 2
}
