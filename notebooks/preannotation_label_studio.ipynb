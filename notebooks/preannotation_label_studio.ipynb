{
 "cells": [
  {
   "cell_type": "code",
   "execution_count": 2,
   "metadata": {},
   "outputs": [],
   "source": [
    "import os\n",
    "os.environ[\"LABEL_STUDIO_LOCAL_FILES_DOCUMENT_ROOT\"] = \"/home/patel_zeel\"\n",
    "\n",
    "import sys\n",
    "import requests\n",
    "from os.path import join, exists, basename\n",
    "from glob import glob\n",
    "from label_studio_sdk import Client\n",
    "from copy import deepcopy\n",
    "\n",
    "import torch\n",
    "import numpy as np\n",
    "from ultralytics.utils.ops import xyxyxyxy2xywhr, xywhr2xyxyxyxy\n",
    "from ultralytics.utils.metrics import probiou\n",
    "from tqdm.notebook import tqdm\n",
    "\n",
    "import matplotlib.pyplot as plt\n",
    "import warnings\n",
    "\n",
    "from joblib import Parallel, delayed\n",
    "\n",
    "sys.path.append(\"/home/patel_zeel/kilns_neurips24/scripts\")"
   ]
  },
  {
   "cell_type": "code",
   "execution_count": 3,
   "metadata": {},
   "outputs": [
    {
     "data": {
      "text/plain": [
       "{'FCBK': 0, 'Zigzag': 1}"
      ]
     },
     "execution_count": 3,
     "metadata": {},
     "output_type": "execute_result"
    }
   ],
   "source": [
    "from utils import yolo_obb_to_label_studio_json, label_map\n",
    "label_map"
   ]
  },
  {
   "cell_type": "markdown",
   "metadata": {},
   "source": [
    "## Label Studio Initialize"
   ]
  },
  {
   "cell_type": "code",
   "execution_count": 3,
   "metadata": {},
   "outputs": [],
   "source": [
    "LABEL_STUDIO_URL = 'http://10.0.62.168:8080'\n",
    "API_KEY = '182f2ac0975d5cb5661c4ddc1b4ddc34d21c1867'\n",
    "\n",
    "ls = Client(url=LABEL_STUDIO_URL, api_key=API_KEY)"
   ]
  },
  {
   "cell_type": "markdown",
   "metadata": {},
   "source": [
    "## Process the input data"
   ]
  },
  {
   "cell_type": "code",
   "execution_count": 4,
   "metadata": {},
   "outputs": [
    {
     "name": "stdout",
     "output_type": "stream",
     "text": [
      "3216\n"
     ]
    }
   ],
   "source": [
    "pred_txt_path = \"/home/patel_zeel/kilns_neurips24/gujarat/labels\"\n",
    "image_read_dir = \"/home/patel_zeel/kilns_neurips24/gujarat/images\"\n",
    "\n",
    "ls_project_name = f\"Gujarat_OBB_v2\"\n",
    "\n",
    "pred_files = sorted(glob(join(pred_txt_path, \"*.txt\")))\n",
    "pred_base_names = set([basename(f) for f in pred_files])\n",
    "\n",
    "print(len(pred_files))"
   ]
  },
  {
   "cell_type": "markdown",
   "metadata": {},
   "source": [
    "## Create Project"
   ]
  },
  {
   "cell_type": "code",
   "execution_count": 8,
   "metadata": {},
   "outputs": [
    {
     "name": "stdout",
     "output_type": "stream",
     "text": [
      "Project found. Using it...\n",
      "Storage found. Using it...\n",
      "Syncing storage...\n",
      "Getting tasks...\n"
     ]
    },
    {
     "data": {
      "text/plain": [
       "3216"
      ]
     },
     "execution_count": 8,
     "metadata": {},
     "output_type": "execute_result"
    }
   ],
   "source": [
    "projects = ls.list_projects()\n",
    "for project in projects:\n",
    "    if project.title == ls_project_name:\n",
    "        print(\"Project found. Using it...\")\n",
    "        break\n",
    "else:\n",
    "    print(\"No project found. Creating...\")\n",
    "    project = ls.start_project(title=ls_project_name, label_config='''\n",
    "<View>\n",
    "  <Image name=\"image\" value=\"$image\" zoom=\"true\"/>\n",
    "  <RectangleLabels name=\"label\" toName=\"image\">\n",
    "    \n",
    "    \n",
    "  <Label value=\"Zigzag\" background=\"#c0ff9e\"/><Label value=\"FCBK\" background=\"#D4380D\"/></RectangleLabels>\n",
    "</View>\n",
    "    ''')\n",
    "storages = project.get_import_storages()\n",
    "if len(storages) == 0:\n",
    "    print(\"No storage found. Creating...\")\n",
    "    project.connect_local_import_storage(image_read_dir, regex_filter=\".*png\")\n",
    "else:\n",
    "    assert len(storages) == 1\n",
    "    print(\"Storage found. Using it...\")\n",
    "storage = storages[0]\n",
    "if storage['last_sync'] is None:\n",
    "    print(\"Syncing storage...\")\n",
    "    project.sync_storage(storage['type'], storage['id'])\n",
    "else:\n",
    "    print(\"Storage already synced.\")\n",
    "\n",
    "print(\"Getting tasks...\")\n",
    "tasks = project.get_tasks()\n",
    "len(tasks)"
   ]
  },
  {
   "cell_type": "code",
   "execution_count": 9,
   "metadata": {},
   "outputs": [
    {
     "data": {
      "text/plain": [
       "{'id': 194088,\n",
       " 'predictions': [],\n",
       " 'annotations': [],\n",
       " 'drafts': [],\n",
       " 'annotators': [],\n",
       " 'inner_id': 1,\n",
       " 'cancelled_annotations': 0,\n",
       " 'total_annotations': 0,\n",
       " 'total_predictions': 0,\n",
       " 'completed_at': None,\n",
       " 'annotations_results': '',\n",
       " 'predictions_results': '',\n",
       " 'predictions_score': None,\n",
       " 'file_upload': None,\n",
       " 'storage_filename': '/home/patel_zeel/kilns_neurips24/gujarat/images/20.20,73.07.png',\n",
       " 'annotations_ids': '',\n",
       " 'predictions_model_versions': '',\n",
       " 'avg_lead_time': None,\n",
       " 'draft_exists': False,\n",
       " 'updated_by': [],\n",
       " 'data': {'image': '/data/local-files/?d=home/patel_zeel/kilns_neurips24/gujarat/images/20.20%2C73.07.png'},\n",
       " 'meta': {},\n",
       " 'created_at': '2024-08-03T17:08:16.876210Z',\n",
       " 'updated_at': '2024-08-03T17:08:16.876233Z',\n",
       " 'is_labeled': False,\n",
       " 'overlap': 1,\n",
       " 'comment_count': 0,\n",
       " 'unresolved_comment_count': 0,\n",
       " 'last_comment_updated_at': None,\n",
       " 'project': 65,\n",
       " 'comment_authors': []}"
      ]
     },
     "execution_count": 9,
     "metadata": {},
     "output_type": "execute_result"
    }
   ],
   "source": [
    "tasks[0]"
   ]
  },
  {
   "cell_type": "code",
   "execution_count": 12,
   "metadata": {},
   "outputs": [
    {
     "name": "stdout",
     "output_type": "stream",
     "text": [
      "{\"processed_items\":0,\"detail\":\"Deleted 0 predictions\"}"
     ]
    },
    {
     "name": "stderr",
     "output_type": "stream",
     "text": [
      "  % Total    % Received % Xferd  Average Speed   Time    Time     Time  Current\n",
      "                                 Dload  Upload   Total   Spent    Left  Speed\n",
      "100    54  100    54    0     0   2250      0 --:--:-- --:--:-- --:--:--  2250\n"
     ]
    },
    {
     "data": {
      "application/vnd.jupyter.widget-view+json": {
       "model_id": "3b408b7b9ed84d76a9aa50556e2ab9ee",
       "version_major": 2,
       "version_minor": 0
      },
      "text/plain": [
       "  0%|          | 0/3216 [00:00<?, ?it/s]"
      ]
     },
     "metadata": {},
     "output_type": "display_data"
    }
   ],
   "source": [
    "## Delete all predictions before going ahead\n",
    "os.system(f\"curl -H 'Authorization: Token {API_KEY}' -X POST \\\"localhost:8080/api/dm/actions?id=delete_tasks_predictions&project={project.id}\\\"\")\n",
    "\n",
    "for task in tqdm(tasks):\n",
    "    # part = tile.split(\"/\")[-3]\n",
    "    # name = tile.split(\"/\")[-1].replace(\".txt\", \".png\")\n",
    "    # image_path = join(save_dir, name)\n",
    "    image_path = task['storage_filename']\n",
    "    txt_name = basename(image_path).replace(\".png\", \".txt\")\n",
    "    \n",
    "    preds = np.loadtxt(join(pred_txt_path, txt_name))\n",
    "    preds = np.atleast_2d(preds)\n",
    "\n",
    "    results = []\n",
    "    for pred in preds:\n",
    "        label_id = int(pred[0])\n",
    "        x1, y1, x2, y2, x3, y3, x4, y4 = pred[1:-1]\n",
    "        score = pred[-1]\n",
    "        # if score > score_threshold:\n",
    "        prediction = yolo_obb_to_label_studio_json(label_id, x1, y1, x2, y2, x3, y3, x4, y4, score)\n",
    "          # predictions.append(prediction)\n",
    "        results.append(prediction['result'][0])\n",
    "    if len(results) > 0:\n",
    "      # I have tried parallelizing this but it doesn't work\n",
    "      project.create_prediction(task['id'], results, model_version=\"v1\")"
   ]
  },
  {
   "cell_type": "markdown",
   "metadata": {},
   "source": [
    "## Appendix"
   ]
  },
  {
   "cell_type": "code",
   "execution_count": null,
   "metadata": {},
   "outputs": [],
   "source": [
    "# areas = []\n",
    "# for item in json_list:\n",
    "#     for pred in item[\"predictions\"]:\n",
    "#         area = pred['result'][0]['value']['width'] * pred['result'][0]['value']['height']\n",
    "#         area = area * (1120 * 1120) / (100 * 100)\n",
    "#         areas.append(area)\n",
    "# len(areas)"
   ]
  },
  {
   "cell_type": "code",
   "execution_count": null,
   "metadata": {},
   "outputs": [],
   "source": [
    "# max(areas), min(areas), np.mean(areas), np.median(areas)"
   ]
  },
  {
   "cell_type": "code",
   "execution_count": null,
   "metadata": {},
   "outputs": [],
   "source": [
    "# import seaborn as sns\n",
    "\n",
    "# sns.kdeplot(areas)"
   ]
  },
  {
   "cell_type": "code",
   "execution_count": null,
   "metadata": {},
   "outputs": [],
   "source": [
    "# (areas < np.mean(areas) - 2 * np.std(areas)).sum()"
   ]
  }
 ],
 "metadata": {
  "kernelspec": {
   "display_name": "zeel_py311",
   "language": "python",
   "name": "python3"
  },
  "language_info": {
   "codemirror_mode": {
    "name": "ipython",
    "version": 3
   },
   "file_extension": ".py",
   "mimetype": "text/x-python",
   "name": "python",
   "nbconvert_exporter": "python",
   "pygments_lexer": "ipython3",
   "version": "3.12.4"
  }
 },
 "nbformat": 4,
 "nbformat_minor": 2
}
