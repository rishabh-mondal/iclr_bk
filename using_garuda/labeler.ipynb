{
 "cells": [
  {
   "cell_type": "code",
   "execution_count": 11,
   "metadata": {},
   "outputs": [
    {
     "data": {
      "text/html": [
       "\n",
       "            <style>\n",
       "                .geemap-dark {\n",
       "                    --jp-widgets-color: white;\n",
       "                    --jp-widgets-label-color: white;\n",
       "                    --jp-ui-font-color1: white;\n",
       "                    --jp-layout-color2: #454545;\n",
       "                    background-color: #383838;\n",
       "                }\n",
       "\n",
       "                .geemap-dark .jupyter-button {\n",
       "                    --jp-layout-color3: #383838;\n",
       "                }\n",
       "\n",
       "                .geemap-colab {\n",
       "                    background-color: var(--colab-primary-surface-color, white);\n",
       "                }\n",
       "\n",
       "                .geemap-colab .jupyter-button {\n",
       "                    --jp-layout-color3: var(--colab-primary-surface-color, white);\n",
       "                }\n",
       "            </style>\n",
       "            "
      ],
      "text/plain": [
       "<IPython.core.display.HTML object>"
      ]
     },
     "metadata": {},
     "output_type": "display_data"
    },
    {
     "name": "stdout",
     "output_type": "stream",
     "text": [
      "\u001b[33mDEPRECATION: Loading egg at /opt/anaconda3/envs/rishabh_sat/lib/python3.12/site-packages/ISR-2.2.0-py3.12.egg is deprecated. pip 24.3 will enforce this behaviour change. A possible replacement is to use pip for package installation.. Discussion can be found at https://github.com/pypa/pip/issues/12330\u001b[0m\u001b[33m\n",
      "\u001b[0mCollecting git+https://github.com/patel-zeel/garuda@develop\n",
      "  Cloning https://github.com/patel-zeel/garuda (to revision develop) to /tmp/pip-req-build-etjju1lx\n",
      "  Running command git clone --filter=blob:none --quiet https://github.com/patel-zeel/garuda /tmp/pip-req-build-etjju1lx\n",
      "  Running command git checkout -b develop --track origin/develop\n",
      "  Switched to a new branch 'develop'\n",
      "  Branch 'develop' set up to track remote branch 'develop' from 'origin'.\n",
      "  Resolved https://github.com/patel-zeel/garuda to commit 7885e504a853ce4e6bb46e3a4b1904baebd255fe\n",
      "  Installing build dependencies ... \u001b[?25ldone\n",
      "\u001b[?25h  Getting requirements to build wheel ... \u001b[?25ldone\n",
      "\u001b[?25h  Preparing metadata (pyproject.toml) ... \u001b[?25ldone\n",
      "\u001b[?25hRequirement already satisfied: numpy in /opt/anaconda3/envs/rishabh_sat/lib/python3.12/site-packages (from garuda==0.0.6.dev7+g7885e50) (1.26.4)\n",
      "Requirement already satisfied: pandas in /opt/anaconda3/envs/rishabh_sat/lib/python3.12/site-packages (from garuda==0.0.6.dev7+g7885e50) (2.2.2)\n",
      "Requirement already satisfied: matplotlib in /opt/anaconda3/envs/rishabh_sat/lib/python3.12/site-packages (from garuda==0.0.6.dev7+g7885e50) (3.8.4)\n",
      "Requirement already satisfied: pyproj in /opt/anaconda3/envs/rishabh_sat/lib/python3.12/site-packages (from garuda==0.0.6.dev7+g7885e50) (3.6.1)\n",
      "Requirement already satisfied: beartype in /opt/anaconda3/envs/rishabh_sat/lib/python3.12/site-packages (from garuda==0.0.6.dev7+g7885e50) (0.18.5)\n",
      "Requirement already satisfied: jaxtyping in /opt/anaconda3/envs/rishabh_sat/lib/python3.12/site-packages (from garuda==0.0.6.dev7+g7885e50) (0.2.34)\n",
      "Requirement already satisfied: planetary-computer in /opt/anaconda3/envs/rishabh_sat/lib/python3.12/site-packages (from garuda==0.0.6.dev7+g7885e50) (1.0.0)\n",
      "Requirement already satisfied: shapely in /opt/anaconda3/envs/rishabh_sat/lib/python3.12/site-packages (from garuda==0.0.6.dev7+g7885e50) (2.0.4)\n",
      "Requirement already satisfied: rioxarray in /opt/anaconda3/envs/rishabh_sat/lib/python3.12/site-packages (from garuda==0.0.6.dev7+g7885e50) (0.15.7)\n",
      "Requirement already satisfied: opencv-python in /opt/anaconda3/envs/rishabh_sat/lib/python3.12/site-packages (from garuda==0.0.6.dev7+g7885e50) (4.10.0.84)\n",
      "Requirement already satisfied: einops in /opt/anaconda3/envs/rishabh_sat/lib/python3.12/site-packages (from garuda==0.0.6.dev7+g7885e50) (0.8.0)\n",
      "Requirement already satisfied: typeguard==2.13.3 in /opt/anaconda3/envs/rishabh_sat/lib/python3.12/site-packages (from jaxtyping->garuda==0.0.6.dev7+g7885e50) (2.13.3)\n",
      "Requirement already satisfied: contourpy>=1.0.1 in /opt/anaconda3/envs/rishabh_sat/lib/python3.12/site-packages (from matplotlib->garuda==0.0.6.dev7+g7885e50) (1.2.1)\n",
      "Requirement already satisfied: cycler>=0.10 in /opt/anaconda3/envs/rishabh_sat/lib/python3.12/site-packages (from matplotlib->garuda==0.0.6.dev7+g7885e50) (0.12.1)\n",
      "Requirement already satisfied: fonttools>=4.22.0 in /opt/anaconda3/envs/rishabh_sat/lib/python3.12/site-packages (from matplotlib->garuda==0.0.6.dev7+g7885e50) (4.53.0)\n",
      "Requirement already satisfied: kiwisolver>=1.3.1 in /opt/anaconda3/envs/rishabh_sat/lib/python3.12/site-packages (from matplotlib->garuda==0.0.6.dev7+g7885e50) (1.4.5)\n",
      "Requirement already satisfied: packaging>=20.0 in /opt/anaconda3/envs/rishabh_sat/lib/python3.12/site-packages (from matplotlib->garuda==0.0.6.dev7+g7885e50) (24.1)\n",
      "Requirement already satisfied: pillow>=8 in /opt/anaconda3/envs/rishabh_sat/lib/python3.12/site-packages (from matplotlib->garuda==0.0.6.dev7+g7885e50) (10.3.0)\n",
      "Requirement already satisfied: pyparsing>=2.3.1 in /opt/anaconda3/envs/rishabh_sat/lib/python3.12/site-packages (from matplotlib->garuda==0.0.6.dev7+g7885e50) (3.1.2)\n",
      "Requirement already satisfied: python-dateutil>=2.7 in /opt/anaconda3/envs/rishabh_sat/lib/python3.12/site-packages (from matplotlib->garuda==0.0.6.dev7+g7885e50) (2.9.0)\n",
      "Requirement already satisfied: pytz>=2020.1 in /opt/anaconda3/envs/rishabh_sat/lib/python3.12/site-packages (from pandas->garuda==0.0.6.dev7+g7885e50) (2024.1)\n",
      "Requirement already satisfied: tzdata>=2022.7 in /opt/anaconda3/envs/rishabh_sat/lib/python3.12/site-packages (from pandas->garuda==0.0.6.dev7+g7885e50) (2024.1)\n",
      "Requirement already satisfied: click>=7.1 in /opt/anaconda3/envs/rishabh_sat/lib/python3.12/site-packages (from planetary-computer->garuda==0.0.6.dev7+g7885e50) (8.1.7)\n",
      "Requirement already satisfied: pydantic>=1.7.3 in /opt/anaconda3/envs/rishabh_sat/lib/python3.12/site-packages (from planetary-computer->garuda==0.0.6.dev7+g7885e50) (2.8.0)\n",
      "Requirement already satisfied: pystac>=1.0.0 in /opt/anaconda3/envs/rishabh_sat/lib/python3.12/site-packages (from planetary-computer->garuda==0.0.6.dev7+g7885e50) (1.10.1)\n",
      "Requirement already satisfied: pystac-client>=0.2.0 in /opt/anaconda3/envs/rishabh_sat/lib/python3.12/site-packages (from planetary-computer->garuda==0.0.6.dev7+g7885e50) (0.8.2)\n",
      "Requirement already satisfied: requests>=2.25.1 in /opt/anaconda3/envs/rishabh_sat/lib/python3.12/site-packages (from planetary-computer->garuda==0.0.6.dev7+g7885e50) (2.32.3)\n",
      "Requirement already satisfied: python-dotenv in /opt/anaconda3/envs/rishabh_sat/lib/python3.12/site-packages (from planetary-computer->garuda==0.0.6.dev7+g7885e50) (1.0.1)\n",
      "Requirement already satisfied: certifi in /opt/anaconda3/envs/rishabh_sat/lib/python3.12/site-packages (from pyproj->garuda==0.0.6.dev7+g7885e50) (2024.8.30)\n",
      "Requirement already satisfied: rasterio>=1.3 in /opt/anaconda3/envs/rishabh_sat/lib/python3.12/site-packages (from rioxarray->garuda==0.0.6.dev7+g7885e50) (1.3.10)\n",
      "Requirement already satisfied: xarray>=2022.3.0 in /opt/anaconda3/envs/rishabh_sat/lib/python3.12/site-packages (from rioxarray->garuda==0.0.6.dev7+g7885e50) (2024.6.0)\n",
      "Requirement already satisfied: annotated-types>=0.4.0 in /opt/anaconda3/envs/rishabh_sat/lib/python3.12/site-packages (from pydantic>=1.7.3->planetary-computer->garuda==0.0.6.dev7+g7885e50) (0.7.0)\n",
      "Requirement already satisfied: pydantic-core==2.20.0 in /opt/anaconda3/envs/rishabh_sat/lib/python3.12/site-packages (from pydantic>=1.7.3->planetary-computer->garuda==0.0.6.dev7+g7885e50) (2.20.0)\n",
      "Requirement already satisfied: typing-extensions>=4.6.1 in /opt/anaconda3/envs/rishabh_sat/lib/python3.12/site-packages (from pydantic>=1.7.3->planetary-computer->garuda==0.0.6.dev7+g7885e50) (4.12.2)\n",
      "Requirement already satisfied: six>=1.5 in /opt/anaconda3/envs/rishabh_sat/lib/python3.12/site-packages (from python-dateutil>=2.7->matplotlib->garuda==0.0.6.dev7+g7885e50) (1.16.0)\n",
      "Requirement already satisfied: affine in /opt/anaconda3/envs/rishabh_sat/lib/python3.12/site-packages (from rasterio>=1.3->rioxarray->garuda==0.0.6.dev7+g7885e50) (2.4.0)\n",
      "Requirement already satisfied: attrs in /opt/anaconda3/envs/rishabh_sat/lib/python3.12/site-packages (from rasterio>=1.3->rioxarray->garuda==0.0.6.dev7+g7885e50) (23.2.0)\n",
      "Requirement already satisfied: cligj>=0.5 in /opt/anaconda3/envs/rishabh_sat/lib/python3.12/site-packages (from rasterio>=1.3->rioxarray->garuda==0.0.6.dev7+g7885e50) (0.7.2)\n",
      "Requirement already satisfied: snuggs>=1.4.1 in /opt/anaconda3/envs/rishabh_sat/lib/python3.12/site-packages (from rasterio>=1.3->rioxarray->garuda==0.0.6.dev7+g7885e50) (1.4.7)\n",
      "Requirement already satisfied: click-plugins in /opt/anaconda3/envs/rishabh_sat/lib/python3.12/site-packages (from rasterio>=1.3->rioxarray->garuda==0.0.6.dev7+g7885e50) (1.1.1)\n",
      "Requirement already satisfied: setuptools in /opt/anaconda3/envs/rishabh_sat/lib/python3.12/site-packages (from rasterio>=1.3->rioxarray->garuda==0.0.6.dev7+g7885e50) (75.1.0)\n",
      "Requirement already satisfied: charset-normalizer<4,>=2 in /opt/anaconda3/envs/rishabh_sat/lib/python3.12/site-packages (from requests>=2.25.1->planetary-computer->garuda==0.0.6.dev7+g7885e50) (3.3.2)\n",
      "Requirement already satisfied: idna<4,>=2.5 in /opt/anaconda3/envs/rishabh_sat/lib/python3.12/site-packages (from requests>=2.25.1->planetary-computer->garuda==0.0.6.dev7+g7885e50) (3.8)\n",
      "Requirement already satisfied: urllib3<3,>=1.21.1 in /opt/anaconda3/envs/rishabh_sat/lib/python3.12/site-packages (from requests>=2.25.1->planetary-computer->garuda==0.0.6.dev7+g7885e50) (2.2.2)\n",
      "Requirement already satisfied: jsonschema~=4.18 in /opt/anaconda3/envs/rishabh_sat/lib/python3.12/site-packages (from pystac[validation]>=1.10.0->pystac-client>=0.2.0->planetary-computer->garuda==0.0.6.dev7+g7885e50) (4.23.0)\n",
      "Requirement already satisfied: jsonschema-specifications>=2023.03.6 in /opt/anaconda3/envs/rishabh_sat/lib/python3.12/site-packages (from jsonschema~=4.18->pystac[validation]>=1.10.0->pystac-client>=0.2.0->planetary-computer->garuda==0.0.6.dev7+g7885e50) (2023.12.1)\n",
      "Requirement already satisfied: referencing>=0.28.4 in /opt/anaconda3/envs/rishabh_sat/lib/python3.12/site-packages (from jsonschema~=4.18->pystac[validation]>=1.10.0->pystac-client>=0.2.0->planetary-computer->garuda==0.0.6.dev7+g7885e50) (0.35.1)\n",
      "Requirement already satisfied: rpds-py>=0.7.1 in /opt/anaconda3/envs/rishabh_sat/lib/python3.12/site-packages (from jsonschema~=4.18->pystac[validation]>=1.10.0->pystac-client>=0.2.0->planetary-computer->garuda==0.0.6.dev7+g7885e50) (0.18.1)\n",
      "Building wheels for collected packages: garuda\n",
      "  Building wheel for garuda (pyproject.toml) ... \u001b[?25ldone\n",
      "\u001b[?25h  Created wheel for garuda: filename=garuda-0.0.6.dev7+g7885e50-py3-none-any.whl size=34726 sha256=4ba5eff428ddcb47ec06ff40e0dc14500fc0ec5aad29bf74f27fe502978a5c21\n",
      "  Stored in directory: /tmp/pip-ephem-wheel-cache-6sz8hsnp/wheels/bb/be/f5/c5ad952673122ee4d0718898b058429d94e49407e42a2f23f2\n",
      "Successfully built garuda\n",
      "Installing collected packages: garuda\n",
      "  Attempting uninstall: garuda\n",
      "    Found existing installation: garuda 0.0.6.dev6+g8dc59cf\n",
      "    Uninstalling garuda-0.0.6.dev6+g8dc59cf:\n",
      "      Successfully uninstalled garuda-0.0.6.dev6+g8dc59cf\n",
      "Successfully installed garuda-0.0.6.dev7+g7885e50\n",
      "Note: you may need to restart the kernel to use updated packages.\n"
     ]
    }
   ],
   "source": [
    "# %pip install --upgrade git+https://github.com/patel-zeel/garuda.git\n",
    "%pip install git+https://github.com/patel-zeel/garuda@develop\n"
   ]
  },
  {
   "cell_type": "code",
   "execution_count": 1,
   "metadata": {},
   "outputs": [],
   "source": [
    "try:\n",
    "    from garuda.annotate import AnnotationTool\n",
    "except ModuleNotFoundError:\n",
    "    %pip install git+https://github.com/patel-zeel/garuda.git\n",
    "    from garuda.annotate import AnnotationTool\n",
    "    \n",
    "from os.path import join\n",
    "from garuda.box import OBBLabel\n",
    "from garuda.utils import obb_labels_from_geojson"
   ]
  },
  {
   "cell_type": "markdown",
   "metadata": {},
   "source": [
    "## Configuration"
   ]
  },
  {
   "cell_type": "code",
   "execution_count": 2,
   "metadata": {},
   "outputs": [
    {
     "data": {
      "text/html": [
       "\n",
       "            <style>\n",
       "                .geemap-dark {\n",
       "                    --jp-widgets-color: white;\n",
       "                    --jp-widgets-label-color: white;\n",
       "                    --jp-ui-font-color1: white;\n",
       "                    --jp-layout-color2: #454545;\n",
       "                    background-color: #383838;\n",
       "                }\n",
       "\n",
       "                .geemap-dark .jupyter-button {\n",
       "                    --jp-layout-color3: #383838;\n",
       "                }\n",
       "\n",
       "                .geemap-colab {\n",
       "                    background-color: var(--colab-primary-surface-color, white);\n",
       "                }\n",
       "\n",
       "                .geemap-colab .jupyter-button {\n",
       "                    --jp-layout-color3: var(--colab-primary-surface-color, white);\n",
       "                }\n",
       "            </style>\n",
       "            "
      ],
      "text/plain": [
       "<IPython.core.display.HTML object>"
      ]
     },
     "metadata": {},
     "output_type": "display_data"
    },
    {
     "name": "stdout",
     "output_type": "stream",
     "text": [
      "Loading from: /home/patel_zeel/BrickKilns_v2/geojson_labels/up_pred/to_annotate_geoai_first_3500_4000.geojson\n",
      "Cache dir: /home/rishabh.mondal/Brick-Kilns-project/albk_rishabh/albk_v2/YOLO_LOCALIZATION/iclr_bk/data/cache_dir/to_annotate_geoai_first_3500_4000\n",
      "Saving to: /home/rishabh.mondal/Brick-Kilns-project/albk_rishabh/albk_v2/YOLO_LOCALIZATION/iclr_bk/data/geojson_labels/up_pred\n"
     ]
    }
   ],
   "source": [
    "# Don't change the following\n",
    "classes = [\"CFCBK\", \"FCBK\", \"Zigzag\"]\n",
    "load_dir = \"/home/patel_zeel/BrickKilns_v2/geojson_labels/up_pred/\"\n",
    "\n",
    "# Change the following\n",
    "load_file = \"to_annotate_geoai_first_3500_4000.geojson\"\n",
    "# cache_dir = \"/home/patel_zeel/BrickKilns_v2/cache_dir\"\n",
    "cache_dir = \"/home/rishabh.mondal/Brick-Kilns-project/albk_rishabh/albk_v2/YOLO_LOCALIZATION/iclr_bk/data/cache_dir\"\n",
    "# save_dir = \"/home/patel_zeel/BrickKilns_v2/geojson_labels/up_pred/\"\n",
    "save_dir = \"/home/rishabh.mondal/Brick-Kilns-project/albk_rishabh/albk_v2/YOLO_LOCALIZATION/iclr_bk/data/geojson_labels/up_pred\"\n",
    "# Don't change the following\n",
    "cache_dir = join(cache_dir, load_file.replace(\".geojson\", \"\"))\n",
    "load_path = join(load_dir, load_file)\n",
    "save_name = load_file.replace(\"to_annotate\", \"annotated\")\n",
    "\n",
    "print(f\"Loading from: {load_path}\")\n",
    "print(f\"Cache dir: {cache_dir}\")\n",
    "print(f\"Saving to: {save_dir}\")"
   ]
  },
  {
   "cell_type": "code",
   "execution_count": 3,
   "metadata": {},
   "outputs": [
    {
     "data": {
      "text/html": [
       "\n",
       "            <style>\n",
       "                .geemap-dark {\n",
       "                    --jp-widgets-color: white;\n",
       "                    --jp-widgets-label-color: white;\n",
       "                    --jp-ui-font-color1: white;\n",
       "                    --jp-layout-color2: #454545;\n",
       "                    background-color: #383838;\n",
       "                }\n",
       "\n",
       "                .geemap-dark .jupyter-button {\n",
       "                    --jp-layout-color3: #383838;\n",
       "                }\n",
       "\n",
       "                .geemap-colab {\n",
       "                    background-color: var(--colab-primary-surface-color, white);\n",
       "                }\n",
       "\n",
       "                .geemap-colab .jupyter-button {\n",
       "                    --jp-layout-color3: var(--colab-primary-surface-color, white);\n",
       "                }\n",
       "            </style>\n",
       "            "
      ],
      "text/plain": [
       "<IPython.core.display.HTML object>"
      ]
     },
     "metadata": {},
     "output_type": "display_data"
    },
    {
     "data": {
      "text/plain": [
       "500"
      ]
     },
     "execution_count": 3,
     "metadata": {},
     "output_type": "execute_result"
    }
   ],
   "source": [
    "obb_labels = obb_labels_from_geojson(load_path)\n",
    "len(obb_labels)"
   ]
  },
  {
   "cell_type": "code",
   "execution_count": 4,
   "metadata": {},
   "outputs": [
    {
     "data": {
      "text/html": [
       "\n",
       "            <style>\n",
       "                .geemap-dark {\n",
       "                    --jp-widgets-color: white;\n",
       "                    --jp-widgets-label-color: white;\n",
       "                    --jp-ui-font-color1: white;\n",
       "                    --jp-layout-color2: #454545;\n",
       "                    background-color: #383838;\n",
       "                }\n",
       "\n",
       "                .geemap-dark .jupyter-button {\n",
       "                    --jp-layout-color3: #383838;\n",
       "                }\n",
       "\n",
       "                .geemap-colab {\n",
       "                    background-color: var(--colab-primary-surface-color, white);\n",
       "                }\n",
       "\n",
       "                .geemap-colab .jupyter-button {\n",
       "                    --jp-layout-color3: var(--colab-primary-surface-color, white);\n",
       "                }\n",
       "            </style>\n",
       "            "
      ],
      "text/plain": [
       "<IPython.core.display.HTML object>"
      ]
     },
     "metadata": {},
     "output_type": "display_data"
    },
    {
     "data": {
      "application/vnd.jupyter.widget-view+json": {
       "model_id": "7f3ba416a2e743fe8dcc7e6610e98582",
       "version_major": 2,
       "version_minor": 0
      },
      "text/plain": [
       "Label(value='Label 1/500')"
      ]
     },
     "metadata": {},
     "output_type": "display_data"
    },
    {
     "data": {
      "application/vnd.jupyter.widget-view+json": {
       "model_id": "d4f58354668f4d9eb0e9642aec253dbf",
       "version_major": 2,
       "version_minor": 0
      },
      "text/plain": [
       "Label(value='')"
      ]
     },
     "metadata": {},
     "output_type": "display_data"
    },
    {
     "data": {
      "application/vnd.jupyter.widget-view+json": {
       "model_id": "e2aa95800c9840248b62de2fab346cc2",
       "version_major": 2,
       "version_minor": 0
      },
      "text/plain": [
       "HBox(children=(Button(description='submit', style=ButtonStyle()), Button(description='previous', style=ButtonS…"
      ]
     },
     "metadata": {},
     "output_type": "display_data"
    },
    {
     "data": {
      "application/vnd.jupyter.widget-view+json": {
       "model_id": "9bfb8af0944242448006d9c910612c8f",
       "version_major": 2,
       "version_minor": 0
      },
      "text/plain": [
       "Map(center=[27, 77], controls=(ZoomControl(options=['position', 'zoom_in_text', 'zoom_in_title', 'zoom_out_tex…"
      ]
     },
     "metadata": {},
     "output_type": "display_data"
    },
    {
     "data": {
      "text/plain": [
       "<garuda.annotate.AnnotationTool at 0x7f7740066a80>"
      ]
     },
     "execution_count": 4,
     "metadata": {},
     "output_type": "execute_result"
    }
   ],
   "source": [
    "tool = AnnotationTool(obb_labels, classes, zoom=18, cache_dir=cache_dir)\n",
    "tool"
   ]
  },
  {
   "cell_type": "code",
   "execution_count": 5,
   "metadata": {},
   "outputs": [
    {
     "data": {
      "text/html": [
       "\n",
       "            <style>\n",
       "                .geemap-dark {\n",
       "                    --jp-widgets-color: white;\n",
       "                    --jp-widgets-label-color: white;\n",
       "                    --jp-ui-font-color1: white;\n",
       "                    --jp-layout-color2: #454545;\n",
       "                    background-color: #383838;\n",
       "                }\n",
       "\n",
       "                .geemap-dark .jupyter-button {\n",
       "                    --jp-layout-color3: #383838;\n",
       "                }\n",
       "\n",
       "                .geemap-colab {\n",
       "                    background-color: var(--colab-primary-surface-color, white);\n",
       "                }\n",
       "\n",
       "                .geemap-colab .jupyter-button {\n",
       "                    --jp-layout-color3: var(--colab-primary-surface-color, white);\n",
       "                }\n",
       "            </style>\n",
       "            "
      ],
      "text/plain": [
       "<IPython.core.display.HTML object>"
      ]
     },
     "metadata": {},
     "output_type": "display_data"
    },
    {
     "name": "stdout",
     "output_type": "stream",
     "text": [
      "Saved to /home/rishabh.mondal/Brick-Kilns-project/albk_rishabh/albk_v2/YOLO_LOCALIZATION/iclr_bk/data/geojson_labels/up_pred/annotated_geoai_first_3500_4000.geojson\n"
     ]
    }
   ],
   "source": [
    "tool.save_to_geojson(save_dir, save_name)\n",
    "save_path = join(save_dir, save_name)\n",
    "print(f\"Saved to {save_path}\")"
   ]
  },
  {
   "cell_type": "markdown",
   "metadata": {},
   "source": [
    "## Verification"
   ]
  },
  {
   "cell_type": "code",
   "execution_count": 6,
   "metadata": {},
   "outputs": [
    {
     "data": {
      "text/html": [
       "\n",
       "            <style>\n",
       "                .geemap-dark {\n",
       "                    --jp-widgets-color: white;\n",
       "                    --jp-widgets-label-color: white;\n",
       "                    --jp-ui-font-color1: white;\n",
       "                    --jp-layout-color2: #454545;\n",
       "                    background-color: #383838;\n",
       "                }\n",
       "\n",
       "                .geemap-dark .jupyter-button {\n",
       "                    --jp-layout-color3: #383838;\n",
       "                }\n",
       "\n",
       "                .geemap-colab {\n",
       "                    background-color: var(--colab-primary-surface-color, white);\n",
       "                }\n",
       "\n",
       "                .geemap-colab .jupyter-button {\n",
       "                    --jp-layout-color3: var(--colab-primary-surface-color, white);\n",
       "                }\n",
       "            </style>\n",
       "            "
      ],
      "text/plain": [
       "<IPython.core.display.HTML object>"
      ]
     },
     "metadata": {},
     "output_type": "display_data"
    },
    {
     "data": {
      "text/plain": [
       "499"
      ]
     },
     "execution_count": 6,
     "metadata": {},
     "output_type": "execute_result"
    }
   ],
   "source": [
    "labels = obb_labels_from_geojson(save_path)\n",
    "len(labels)"
   ]
  },
  {
   "cell_type": "code",
   "execution_count": null,
   "metadata": {},
   "outputs": [],
   "source": []
  }
 ],
 "metadata": {
  "kernelspec": {
   "display_name": "zeel_py310",
   "language": "python",
   "name": "python3"
  },
  "language_info": {
   "codemirror_mode": {
    "name": "ipython",
    "version": 3
   },
   "file_extension": ".py",
   "mimetype": "text/x-python",
   "name": "python",
   "nbconvert_exporter": "python",
   "pygments_lexer": "ipython3",
   "version": "3.12.4"
  }
 },
 "nbformat": 4,
 "nbformat_minor": 2
}
