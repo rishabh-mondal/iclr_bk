{
 "cells": [
  {
   "cell_type": "code",
   "execution_count": 114,
   "metadata": {},
   "outputs": [],
   "source": [
    "import numpy as np\n",
    "from glob import glob \n",
    "import os\n",
    "from garuda.ops import obb_iou"
   ]
  },
  {
   "cell_type": "code",
   "execution_count": 115,
   "metadata": {},
   "outputs": [],
   "source": [
    "# old_directory = '/home/shataxi.dubey/shataxi_work/gujarat_brick_kilns/ahmedabad_10km_buffer_ground_truth_labels'\n",
    "# new_directory = '/home/shataxi.dubey/shataxi_work/gujarat_brick_kilns/predict/ahmedabad_obb_v1__1120_300/ahmedabad_10km_buffer_images2/labels'\n",
    "\n",
    "# old_directory = '/home/patel_zeel/kilns_neurips24/crossval/lucknow_sarath_grid_obb_v3/1/test/labels'\n",
    "# new_directory = '/home/shataxi.dubey/shataxi_work/yolo_performance_on_empty_label_files/predict/test_lucknow_fold1_obb_v3__1120_100/lucknow_fold1/labels'\n",
    "\n",
    "old_directory = '/home/rishabh.mondal/Brick-Kilns-project/albk_rishabh/albk_v2/YOLO_LOCALIZATION/processed_data/multi_state_data_v1/labels' # ground truth\n",
    "new_directory = '/home/rishabh.mondal/Brick-Kilns-project/Heer/runs/obb/home/rishabh.mondal/Brick-Kilns-project/Heer/predict/train_up_ahmedabad_azamgarh_prediction_obb_v1__1120_100/azamgarh_images/labels' # prediction\n",
    "\n",
    "is_old_pred = False # is_old_pred = True when old directory contains predictions otherwise False\n",
    "is_new_pred = False  # is_new_pred = True when new directory contains predictions otherwise False\n",
    "\n",
    "old_files = glob(f'{old_directory}/*')\n",
    "new_files = glob(f'{new_directory}/*')"
   ]
  },
  {
   "cell_type": "code",
   "execution_count": 116,
   "metadata": {},
   "outputs": [
    {
     "data": {
      "text/plain": [
       "array([[0.      , 0.381183, 0.60867 , 0.403928, 0.5781  , 0.335328,\n",
       "        0.527059, 0.312583, 0.55763 ],\n",
       "       [0.      , 0.133058, 0.91044 , 0.154141, 0.876873, 0.086528,\n",
       "        0.834406, 0.065445, 0.867973]])"
      ]
     },
     "execution_count": 116,
     "metadata": {},
     "output_type": "execute_result"
    }
   ],
   "source": [
    "np.loadtxt(old_files[0], ndmin = 2)"
   ]
  },
  {
   "cell_type": "code",
   "execution_count": 117,
   "metadata": {},
   "outputs": [],
   "source": [
    "def drop_extra_matches(matches: np.ndarray) -> np.ndarray: #copied from supervision\n",
    "    \"\"\"\n",
    "    Deduplicate matches. If there are multiple matches for the same true or\n",
    "    predicted box, only the one with the highest IoU is kept.\n",
    "    \"\"\"\n",
    "    if matches.shape[0] > 0:\n",
    "        matches = matches[matches[:, 2].argsort()[::-1]]\n",
    "        matches = matches[np.unique(matches[:, 1], return_index=True)[1]]\n",
    "        matches = matches[matches[:, 2].argsort()[::-1]]\n",
    "        matches = matches[np.unique(matches[:, 0], return_index=True)[1]]\n",
    "    return matches"
   ]
  },
  {
   "cell_type": "code",
   "execution_count": 118,
   "metadata": {},
   "outputs": [],
   "source": [
    "files_not_present_previously = []\n",
    "files_with_diff_num_boxes = []\n",
    "files_with_incorrect_class = []\n",
    "files_with_incorrect_box = []"
   ]
  },
  {
   "cell_type": "markdown",
   "metadata": {},
   "source": [
    "box1 = 1 and box2 = 1\n",
    "if half of the box2 intersects with box 1 then intersection is 0.5\n",
    "IOU = 0.5/(1+1-0.5) = 0.33\n",
    "So, it is better to keep IOU about 0.5 than 0.9"
   ]
  },
  {
   "cell_type": "code",
   "execution_count": 119,
   "metadata": {},
   "outputs": [],
   "source": [
    "for new_file in new_files:\n",
    "    new_fname = os.path.basename(new_file)\n",
    "    old_file = os.path.join(old_directory,new_fname)\n",
    "    # check if file exists\n",
    "    if os.path.exists(old_file):\n",
    "        new_labels = np.loadtxt(new_file,ndmin=2)\n",
    "        old_labels = np.loadtxt(old_file,ndmin=2)\n",
    "        # check if number of prediction matches\n",
    "        if len(new_labels) == len(old_labels):\n",
    "            if is_old_pred:\n",
    "                old_boxes = old_labels[:,1:-1].astype(np.float32)\n",
    "            else:\n",
    "                old_boxes = old_labels[:,1:].astype(np.float32)\n",
    "            if is_new_pred:\n",
    "                new_boxes = new_labels[:,1:-1].astype(np.float32)\n",
    "            else:\n",
    "                new_boxes = new_labels[:,1:].astype(np.float32)\n",
    "            # print('New box:', new_boxes, 'Old box:',old_boxes)\n",
    "            iou = obb_iou(new_boxes, old_boxes)\n",
    "            # print(iou)\n",
    "            matched_idx = np.asarray(iou > 0.5).nonzero() \n",
    "            # print('matched_idx',matched_idx)\n",
    "            matches = np.stack(\n",
    "                (matched_idx[0], matched_idx[1], iou[matched_idx]), axis=1\n",
    "            )\n",
    "            matches = drop_extra_matches(matches=matches)\n",
    "            # print(matches)\n",
    "            if len(matches) != len(new_labels):\n",
    "                files_with_incorrect_box.append(new_file)\n",
    "            for box_match in matches:\n",
    "                # check if class matches\n",
    "                if new_labels[int(box_match[0])][0] != old_labels[int(box_match[1])][0]:\n",
    "                #     print('Box matches')\n",
    "                # else:\n",
    "                    # print('Box does not match. Add it for hand validation')\n",
    "                    files_with_incorrect_class.append(new_file)\n",
    "        else:\n",
    "            # print('Box does not match. Add it for hand validation')\n",
    "            files_with_diff_num_boxes.append(new_file)\n",
    "    else:\n",
    "        # print('Box does not match. Add it for hand validation')\n",
    "        files_not_present_previously.append(new_file)\n",
    "    # break"
   ]
  },
  {
   "cell_type": "code",
   "execution_count": 120,
   "metadata": {},
   "outputs": [
    {
     "data": {
      "text/plain": [
       "[]"
      ]
     },
     "execution_count": 120,
     "metadata": {},
     "output_type": "execute_result"
    }
   ],
   "source": [
    "files_with_incorrect_box"
   ]
  },
  {
   "cell_type": "code",
   "execution_count": 121,
   "metadata": {},
   "outputs": [
    {
     "data": {
      "text/plain": [
       "['/home/rishabh.mondal/Brick-Kilns-project/Heer/runs/obb/home/rishabh.mondal/Brick-Kilns-project/Heer/predict/train_up_ahmedabad_azamgarh_prediction_obb_v1__1120_100/azamgarh_images/labels/26.15,83.07.txt',\n",
       " '/home/rishabh.mondal/Brick-Kilns-project/Heer/runs/obb/home/rishabh.mondal/Brick-Kilns-project/Heer/predict/train_up_ahmedabad_azamgarh_prediction_obb_v1__1120_100/azamgarh_images/labels/26.26,83.25.txt']"
      ]
     },
     "execution_count": 121,
     "metadata": {},
     "output_type": "execute_result"
    }
   ],
   "source": [
    "files_with_incorrect_class"
   ]
  },
  {
   "cell_type": "code",
   "execution_count": 122,
   "metadata": {},
   "outputs": [
    {
     "data": {
      "text/plain": [
       "['/home/rishabh.mondal/Brick-Kilns-project/Heer/runs/obb/home/rishabh.mondal/Brick-Kilns-project/Heer/predict/train_up_ahmedabad_azamgarh_prediction_obb_v1__1120_100/azamgarh_images/labels/26.13,82.79.txt',\n",
       " '/home/rishabh.mondal/Brick-Kilns-project/Heer/runs/obb/home/rishabh.mondal/Brick-Kilns-project/Heer/predict/train_up_ahmedabad_azamgarh_prediction_obb_v1__1120_100/azamgarh_images/labels/26.23,83.26.txt',\n",
       " '/home/rishabh.mondal/Brick-Kilns-project/Heer/runs/obb/home/rishabh.mondal/Brick-Kilns-project/Heer/predict/train_up_ahmedabad_azamgarh_prediction_obb_v1__1120_100/azamgarh_images/labels/25.99,83.12.txt',\n",
       " '/home/rishabh.mondal/Brick-Kilns-project/Heer/runs/obb/home/rishabh.mondal/Brick-Kilns-project/Heer/predict/train_up_ahmedabad_azamgarh_prediction_obb_v1__1120_100/azamgarh_images/labels/25.72,83.16.txt',\n",
       " '/home/rishabh.mondal/Brick-Kilns-project/Heer/runs/obb/home/rishabh.mondal/Brick-Kilns-project/Heer/predict/train_up_ahmedabad_azamgarh_prediction_obb_v1__1120_100/azamgarh_images/labels/26.13,83.39.txt']"
      ]
     },
     "execution_count": 122,
     "metadata": {},
     "output_type": "execute_result"
    }
   ],
   "source": [
    "files_with_diff_num_boxes[:5]"
   ]
  },
  {
   "cell_type": "code",
   "execution_count": 123,
   "metadata": {},
   "outputs": [
    {
     "data": {
      "text/plain": [
       "0"
      ]
     },
     "execution_count": 123,
     "metadata": {},
     "output_type": "execute_result"
    }
   ],
   "source": [
    "len(files_with_incorrect_box)"
   ]
  },
  {
   "cell_type": "code",
   "execution_count": 124,
   "metadata": {},
   "outputs": [
    {
     "data": {
      "text/plain": [
       "20"
      ]
     },
     "execution_count": 124,
     "metadata": {},
     "output_type": "execute_result"
    }
   ],
   "source": [
    "len(files_with_diff_num_boxes)"
   ]
  },
  {
   "cell_type": "code",
   "execution_count": 125,
   "metadata": {},
   "outputs": [
    {
     "data": {
      "text/plain": [
       "317"
      ]
     },
     "execution_count": 125,
     "metadata": {},
     "output_type": "execute_result"
    }
   ],
   "source": [
    "len(files_not_present_previously)"
   ]
  },
  {
   "cell_type": "code",
   "execution_count": 126,
   "metadata": {},
   "outputs": [
    {
     "name": "stdout",
     "output_type": "stream",
     "text": [
      "Number of files to handvalidate:  339\n"
     ]
    }
   ],
   "source": [
    "handvalidate_files = files_with_incorrect_box + files_with_incorrect_class + files_with_diff_num_boxes + files_not_present_previously\n",
    "print('Number of files to handvalidate: ',len(handvalidate_files))"
   ]
  },
  {
   "cell_type": "code",
   "execution_count": 127,
   "metadata": {},
   "outputs": [
    {
     "data": {
      "text/plain": [
       "['/home/rishabh.mondal/Brick-Kilns-project/Heer/runs/obb/home/rishabh.mondal/Brick-Kilns-project/Heer/predict/train_up_ahmedabad_azamgarh_prediction_obb_v1__1120_100/azamgarh_images/labels/26.15,83.07.txt',\n",
       " '/home/rishabh.mondal/Brick-Kilns-project/Heer/runs/obb/home/rishabh.mondal/Brick-Kilns-project/Heer/predict/train_up_ahmedabad_azamgarh_prediction_obb_v1__1120_100/azamgarh_images/labels/26.26,83.25.txt',\n",
       " '/home/rishabh.mondal/Brick-Kilns-project/Heer/runs/obb/home/rishabh.mondal/Brick-Kilns-project/Heer/predict/train_up_ahmedabad_azamgarh_prediction_obb_v1__1120_100/azamgarh_images/labels/26.13,82.79.txt',\n",
       " '/home/rishabh.mondal/Brick-Kilns-project/Heer/runs/obb/home/rishabh.mondal/Brick-Kilns-project/Heer/predict/train_up_ahmedabad_azamgarh_prediction_obb_v1__1120_100/azamgarh_images/labels/26.23,83.26.txt',\n",
       " '/home/rishabh.mondal/Brick-Kilns-project/Heer/runs/obb/home/rishabh.mondal/Brick-Kilns-project/Heer/predict/train_up_ahmedabad_azamgarh_prediction_obb_v1__1120_100/azamgarh_images/labels/25.99,83.12.txt']"
      ]
     },
     "execution_count": 127,
     "metadata": {},
     "output_type": "execute_result"
    }
   ],
   "source": [
    "handvalidate_files[:5]"
   ]
  }
 ],
 "metadata": {
  "kernelspec": {
   "display_name": "shataxi_space",
   "language": "python",
   "name": "python3"
  },
  "language_info": {
   "codemirror_mode": {
    "name": "ipython",
    "version": 3
   },
   "file_extension": ".py",
   "mimetype": "text/x-python",
   "name": "python",
   "nbconvert_exporter": "python",
   "pygments_lexer": "ipython3",
   "version": "3.11.5"
  }
 },
 "nbformat": 4,
 "nbformat_minor": 2
}
